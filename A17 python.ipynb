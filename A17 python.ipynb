{
 "cells": [
  {
   "cell_type": "code",
   "execution_count": null,
   "id": "80d14e85",
   "metadata": {},
   "outputs": [],
   "source": [
    "#1. Python program to find difference between current time and given time"
   ]
  },
  {
   "cell_type": "code",
   "execution_count": 1,
   "id": "76470cad",
   "metadata": {},
   "outputs": [
    {
     "name": "stdout",
     "output_type": "stream",
     "text": [
      "3:0\n"
     ]
    }
   ],
   "source": [
    "def time_dif (cth,ctm,gth,gtm):\n",
    "    cth = cth * 60\n",
    "    gth = gth * 60\n",
    "    time_d = cth + ctm - gth + gtm\n",
    "    if time_d == 0:\n",
    "        return 'both are same'\n",
    "    else:\n",
    "        dth = (int(time_d / 60)) % 24\n",
    "        dtm = time_d % 60\n",
    "        return str(dth)+':'+str(dtm)\n",
    "print(time_dif(21,00,18,00))"
   ]
  },
  {
   "cell_type": "code",
   "execution_count": null,
   "id": "361c6a50",
   "metadata": {},
   "outputs": [],
   "source": [
    "#2. Python Program to Create a Lap Timer"
   ]
  },
  {
   "cell_type": "code",
   "execution_count": 7,
   "id": "ad3cf366",
   "metadata": {},
   "outputs": [
    {
     "name": "stdout",
     "output_type": "stream",
     "text": [
      "press ENTER key to count laps\n",
      "write 'done' to stop \n",
      "\n",
      "Lap Number: 1\n",
      "Total Time: 5.74\n",
      "Lap Time: 5.74\n",
      "-------------------------\n",
      "\n",
      "Lap Number: 2\n",
      "Total Time: 6.29\n",
      "Lap Time: 0.55\n",
      "-------------------------\n",
      "\n",
      "Lap Number: 3\n",
      "Total Time: 6.8\n",
      "Lap Time: 0.52\n",
      "-------------------------\n",
      "done\n"
     ]
    }
   ],
   "source": [
    "import time\n",
    "\n",
    "stime=time.time()\n",
    "ltime=stime\n",
    "lapnum=1\n",
    "print('press ENTER key to count laps')\n",
    "print(\"write 'done' to stop \")\n",
    "while True:\n",
    "    if input()!='done':\n",
    "        lap_time= round((time.time()-ltime),2)\n",
    "        total = round((time.time()-stime),2)\n",
    "        print('Lap Number: ' + str(lapnum))\n",
    "        print('Total Time: ' + str(total))\n",
    "        print('Lap Time: ' + str(lap_time))\n",
    "        print('-'*25)\n",
    "        ltime = time.time()\n",
    "        lapnum += 1\n",
    "    else:\n",
    "        break"
   ]
  },
  {
   "cell_type": "code",
   "execution_count": null,
   "id": "93c0771c",
   "metadata": {},
   "outputs": [],
   "source": [
    "#3. Convert date string to timestamp in Python"
   ]
  },
  {
   "cell_type": "code",
   "execution_count": 21,
   "id": "23db0c78",
   "metadata": {},
   "outputs": [
    {
     "name": "stdout",
     "output_type": "stream",
     "text": [
      "1659465000.0\n"
     ]
    }
   ],
   "source": [
    "import time\n",
    "import datetime\n",
    "st = \"03/08/2022\"\n",
    "print(time.mktime(datetime.datetime.strptime(st, \"%d/%m/%Y\").timetuple()))"
   ]
  },
  {
   "cell_type": "code",
   "execution_count": null,
   "id": "3a224efc",
   "metadata": {},
   "outputs": [],
   "source": [
    "#4. How to convert timestamp string to datetime object in Python?"
   ]
  },
  {
   "cell_type": "code",
   "execution_count": 20,
   "id": "e977b29c",
   "metadata": {},
   "outputs": [
    {
     "name": "stdout",
     "output_type": "stream",
     "text": [
      "2022-08-03 00:00:00\n"
     ]
    }
   ],
   "source": [
    "from datetime import datetime\n",
    "\n",
    "timestamp = 1659465000\n",
    "dt = datetime.fromtimestamp(timestamp)\n",
    "\n",
    "print(dt)"
   ]
  },
  {
   "cell_type": "code",
   "execution_count": null,
   "id": "ec5efec2",
   "metadata": {},
   "outputs": [],
   "source": [
    "#5. Find number of times every day occurs in a Year"
   ]
  },
  {
   "cell_type": "code",
   "execution_count": 36,
   "id": "bc0028d9",
   "metadata": {},
   "outputs": [
    {
     "name": "stdout",
     "output_type": "stream",
     "text": [
      "monday 52\n",
      "tuesday 52\n",
      "wednesday 52\n",
      "thursday 52\n",
      "friday 52\n",
      "saturday 52\n",
      "sunday 53\n",
      "None\n"
     ]
    }
   ],
   "source": [
    "import datetime\n",
    "import calendar\n",
    "def num_of_days(year):\n",
    "    week = ['monday','tuesday','wednesday','thursday','friday','saturday','sunday']\n",
    "    l = [52 for i in range(7)]\n",
    "    x = -1 \n",
    "    day = datetime.datetime(year, month = 1, day = 1).strftime(\"%A\")\n",
    "    for i in range(7):\n",
    "        if day == week[i]:\n",
    "            x = i\n",
    "    if calendar.isleap(year):\n",
    "        l[x] += 1\n",
    "        l[(x+1)%7] += 1\n",
    "    else:\n",
    "        l[x] += 1\n",
    "    for i in range(7):\n",
    "        print(week[i], l[i])\n",
    "    \n",
    "year = 2022\n",
    "print(num_of_days(year))"
   ]
  },
  {
   "cell_type": "code",
   "execution_count": null,
   "id": "5d46e51b",
   "metadata": {},
   "outputs": [],
   "source": [
    "#6. Python Program to Check if String Contain Only Defined Characters using Regex"
   ]
  },
  {
   "cell_type": "code",
   "execution_count": 39,
   "id": "80dc9832",
   "metadata": {},
   "outputs": [
    {
     "name": "stdout",
     "output_type": "stream",
     "text": [
      "VALID\n",
      "INVALID\n"
     ]
    }
   ],
   "source": [
    "import re\n",
    "def check_char (st,pattern):\n",
    "    if re.search(pattern,st):\n",
    "        return 'VALID'\n",
    "    else:\n",
    "        return 'INVALID'\n",
    "pattern = re.compile('^[98053]+$')\n",
    "print(check_char('590',pattern))\n",
    "print(check_char('687',pattern))"
   ]
  },
  {
   "cell_type": "code",
   "execution_count": null,
   "id": "e5eeb98e",
   "metadata": {},
   "outputs": [],
   "source": [
    "#7. Python program to Count Uppercase, Lowercase, special character and numeric values using Regex"
   ]
  },
  {
   "cell_type": "code",
   "execution_count": 45,
   "id": "6740eaa3",
   "metadata": {},
   "outputs": [
    {
     "name": "stdout",
     "output_type": "stream",
     "text": [
      "No. of uppercase characters : 14\n",
      "No. of lowercase characters : 35\n",
      "No. of numerical characters : 0\n",
      "No. of special characters   : 10\n"
     ]
    }
   ],
   "source": [
    "import re\n",
    "st = 'ANACONDA and PYTHON are not just snakes,they are blessings!'\n",
    "uppercase = re.findall(\"[A-Z]\", st)\n",
    "lowercase = re.findall(\"[a-z]\", st)\n",
    "numeric_values = re.findall(\"[0-9]\", st)\n",
    "special_characters = re.findall(\"[, .!?]\", st)\n",
    " \n",
    "print(\"No. of uppercase characters :\", len(uppercase))\n",
    "print(\"No. of lowercase characters :\", len(lowercase))\n",
    "print(\"No. of numerical characters :\", len(numeric_values))\n",
    "print(\"No. of special characters   :\", len(special_characters))"
   ]
  },
  {
   "cell_type": "code",
   "execution_count": null,
   "id": "2ed33eee",
   "metadata": {},
   "outputs": [],
   "source": [
    "#8. Python Program to find the most occurring number in a string using Regex"
   ]
  },
  {
   "cell_type": "code",
   "execution_count": 48,
   "id": "3c4171d6",
   "metadata": {},
   "outputs": [
    {
     "name": "stdout",
     "output_type": "stream",
     "text": [
      "2\n"
     ]
    }
   ],
   "source": [
    "import re\n",
    "from collections import Counter\n",
    "def find_most_occ(string):\n",
    "    num = re.findall('[0-9]',string)\n",
    "    max_fre = 0\n",
    "    max_ele = 0\n",
    "    c = Counter(num)\n",
    "    for i in list(c.keys()):\n",
    "        if c[i]>= max_fre:\n",
    "            max_fre = c[i]\n",
    "            max_ele = int(i)\n",
    "        return max_ele\n",
    "if __name__ == \"__main__\": \n",
    "    string = 'bettybought2packsof2kg+5gofbutter'\n",
    "    print(find_most_occ(string))"
   ]
  },
  {
   "cell_type": "code",
   "execution_count": null,
   "id": "9970e50f",
   "metadata": {},
   "outputs": [],
   "source": [
    "#9. Python Regex to extract maximum numeric value from a string"
   ]
  },
  {
   "cell_type": "code",
   "execution_count": 55,
   "id": "1128b8c4",
   "metadata": {},
   "outputs": [
    {
     "name": "stdout",
     "output_type": "stream",
     "text": [
      "5\n"
     ]
    }
   ],
   "source": [
    "import re\n",
    "from collections import Counter\n",
    "def max_num(string):\n",
    "    num = re.findall('[0-9]',string)\n",
    "    return max(num)\n",
    "string = 'bettybought2packsof2kg+5gofbutter'\n",
    "print(max_num(string))"
   ]
  },
  {
   "cell_type": "code",
   "execution_count": null,
   "id": "3286f1ac",
   "metadata": {},
   "outputs": [],
   "source": [
    "#10. Python Program to put spaces between words starting with capital letters using Regex"
   ]
  },
  {
   "cell_type": "code",
   "execution_count": 56,
   "id": "64be37e8",
   "metadata": {},
   "outputs": [
    {
     "name": "stdout",
     "output_type": "stream",
     "text": [
      "The Boy Who Lived\n",
      "None\n"
     ]
    }
   ],
   "source": [
    "import re\n",
    "def put_space(st):\n",
    "    letters = re.findall('[A-Z][a-z]*', st)\n",
    "    for i in range(0,len(letters)):\n",
    "        letters[i]=letters[i][0]+letters[i][1:]\n",
    "    print(' '.join(letters))\n",
    "\n",
    "input = 'TheBoyWhoLived'\n",
    "print( put_space(input))"
   ]
  }
 ],
 "metadata": {
  "kernelspec": {
   "display_name": "Python 3 (ipykernel)",
   "language": "python",
   "name": "python3"
  },
  "language_info": {
   "codemirror_mode": {
    "name": "ipython",
    "version": 3
   },
   "file_extension": ".py",
   "mimetype": "text/x-python",
   "name": "python",
   "nbconvert_exporter": "python",
   "pygments_lexer": "ipython3",
   "version": "3.9.12"
  }
 },
 "nbformat": 4,
 "nbformat_minor": 5
}
