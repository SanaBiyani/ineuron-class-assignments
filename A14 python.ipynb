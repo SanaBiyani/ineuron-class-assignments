{
 "cells": [
  {
   "cell_type": "code",
   "execution_count": 1,
   "id": "1dd73e1e",
   "metadata": {},
   "outputs": [],
   "source": [
    "#1. Python Program for Recursive Insertion Sort"
   ]
  },
  {
   "cell_type": "code",
   "execution_count": 15,
   "id": "310cce82",
   "metadata": {},
   "outputs": [
    {
     "name": "stdout",
     "output_type": "stream",
     "text": [
      "5 6 11 12 13 "
     ]
    }
   ],
   "source": [
    "def recursiveinsertionsort(arr,n):\n",
    "    if n<=1:\n",
    "        return\n",
    "    recursiveinsertionsort(arr,n-1)\n",
    "    last = arr[n-1]\n",
    "    j = n-2\n",
    "    while (j>=0 and arr[j]>last):\n",
    "        arr[j+1] = arr[j]\n",
    "        j = j-1\n",
    "    arr[j+1]=last\n",
    "\n",
    "arr = [12,11,13,5,6]\n",
    "n = len(arr)\n",
    "recursiveinsertionsort(arr, n)\n",
    "for i in range(n):\n",
    "        print(arr[i],end=\" \")"
   ]
  },
  {
   "cell_type": "code",
   "execution_count": null,
   "id": "7d0ad57d",
   "metadata": {},
   "outputs": [],
   "source": [
    "#2. Python Program for QuickSort"
   ]
  },
  {
   "cell_type": "code",
   "execution_count": 31,
   "id": "b41ff5c5",
   "metadata": {},
   "outputs": [
    {
     "name": "stdout",
     "output_type": "stream",
     "text": [
      "5\n",
      "6\n",
      "11\n",
      "12\n",
      "13\n"
     ]
    }
   ],
   "source": [
    "def partition(a, l, h):\n",
    "    i = (l-1)         \n",
    "    pivot = a[h]   \n",
    "    for j in range(l, h):\n",
    "        if a[j] <= pivot:\n",
    "            i = i+1\n",
    "            a[i], a[j] = a[j], a[i]\n",
    " \n",
    "    a[i+1], a[h] = a[h], a[i+1]\n",
    "    return (i+1)\n",
    " \n",
    "def quicksort(a, l, h):\n",
    "    if len(a) == 1:\n",
    "        return a\n",
    "    if l < h:\n",
    "        p = partition(a, l, h)\n",
    "        quicksort(a, l, p-1)\n",
    "        quicksort(a, p+1, h)\n",
    "\n",
    "a = [12,11,13,5,6]\n",
    "n = len(a)\n",
    "quicksort(a, 0, n-1)\n",
    "for i in range(n):\n",
    "    print(a[i])\n"
   ]
  },
  {
   "cell_type": "code",
   "execution_count": null,
   "id": "66ba82f0",
   "metadata": {},
   "outputs": [],
   "source": [
    "#3. Python Program for Iterative Quick Sort"
   ]
  },
  {
   "cell_type": "code",
   "execution_count": 30,
   "id": "5894a6bb",
   "metadata": {},
   "outputs": [
    {
     "name": "stdout",
     "output_type": "stream",
     "text": [
      "5\n",
      "6\n",
      "11\n",
      "12\n",
      "13\n"
     ]
    }
   ],
   "source": [
    "def partition(arr,l,h):\n",
    "    i = ( l - 1 )\n",
    "    x = arr[h]\n",
    "  \n",
    "    for j in range(l , h):\n",
    "        if   arr[j] <= x:\n",
    "            i = i+1\n",
    "            arr[i],arr[j] = arr[j],arr[i]\n",
    "    arr[i+1],arr[h] = arr[h],arr[i+1]\n",
    "    return (i+1)\n",
    "  \n",
    "\n",
    "def quicksortiterative(arr,l,h):\n",
    "    size = h - l + 1\n",
    "    stack = [0] * (size)\n",
    "    top = -1\n",
    "    top = top + 1\n",
    "    stack[top] = l\n",
    "    top = top + 1\n",
    "    stack[top] = h\n",
    "    while top >= 0:\n",
    "        h = stack[top]\n",
    "        top = top - 1\n",
    "        l = stack[top]\n",
    "        top = top - 1\n",
    "        p = partition( arr, l, h )\n",
    "        if p-1 > l:\n",
    "            top = top + 1\n",
    "            stack[top] = l\n",
    "            top = top + 1\n",
    "            stack[top] = p - 1\n",
    "        if p+1 < h:\n",
    "            top = top + 1\n",
    "            stack[top] = p + 1\n",
    "            top = top + 1\n",
    "            stack[top] = h\n",
    "arr = [12,11,13,5,6]\n",
    "n = len(arr)\n",
    "quicksortiterative(arr, 0, n-1)\n",
    "for i in range(n):\n",
    "    print (arr[i]),\n",
    "  "
   ]
  },
  {
   "cell_type": "code",
   "execution_count": null,
   "id": "edd6ecaa",
   "metadata": {},
   "outputs": [],
   "source": [
    "#4. Python Program for Selection Sort"
   ]
  },
  {
   "cell_type": "code",
   "execution_count": 40,
   "id": "a631ea0a",
   "metadata": {},
   "outputs": [
    {
     "name": "stdout",
     "output_type": "stream",
     "text": [
      "5\n",
      "6\n",
      "11\n",
      "12\n",
      "13\n"
     ]
    }
   ],
   "source": [
    "import sys\n",
    "arr =  [12,11,13,5,6]\n",
    "for i in range(len(arr)):\n",
    " min_in = i\n",
    " for j in range(i+1, len(arr)):\n",
    "    if arr[min_in] > arr[j]:\n",
    "     min_in = j  \n",
    " arr[i], arr[min_in] = arr[min_in], arr[i]\n",
    "for i in range(len(arr)):\n",
    "    print(arr[i])"
   ]
  },
  {
   "cell_type": "code",
   "execution_count": null,
   "id": "c7e82b1d",
   "metadata": {},
   "outputs": [],
   "source": [
    "#5. Python Program for Bubble Sort"
   ]
  },
  {
   "cell_type": "code",
   "execution_count": 41,
   "id": "17fdfc0a",
   "metadata": {},
   "outputs": [
    {
     "name": "stdout",
     "output_type": "stream",
     "text": [
      "[5, 6, 11, 12, 13]\n"
     ]
    }
   ],
   "source": [
    "l = [12,11,13,5,6]\n",
    "le = len(l)\n",
    "for i in range(le):\n",
    "    for j in range(le - i):\n",
    "        a = l[j]\n",
    "        if a != l[-1]:\n",
    "            b = l[j + 1]\n",
    "            if a > b:\n",
    "                l[j] = b\n",
    "                l[j + 1] = a\n",
    "print(l)"
   ]
  },
  {
   "cell_type": "code",
   "execution_count": null,
   "id": "cb09b047",
   "metadata": {},
   "outputs": [],
   "source": [
    "#6. Python Program for Merge Sort"
   ]
  },
  {
   "cell_type": "code",
   "execution_count": 42,
   "id": "ce7248e0",
   "metadata": {},
   "outputs": [
    {
     "name": "stdout",
     "output_type": "stream",
     "text": [
      "[5, 6, 11, 12, 13]\n"
     ]
    }
   ],
   "source": [
    "def merge_sort(arr):\n",
    "    if len(arr) <= 1:\n",
    "        return arr\n",
    "    mid = len(arr) // 2\n",
    "    left, right = merge_sort(arr[:mid]), merge_sort(arr[mid:])\n",
    "    return merge(left, right, arr.copy())\n",
    "\n",
    "def merge(left, right, merged):\n",
    "    left_cursor, right_cursor = 0, 0\n",
    "    while left_cursor < len(left) and right_cursor < len(right):\n",
    "        if left[left_cursor] <= right[right_cursor]:\n",
    "            merged[left_cursor+right_cursor]=left[left_cursor]\n",
    "            left_cursor += 1\n",
    "        else:\n",
    "            merged[left_cursor + right_cursor] = right[right_cursor]\n",
    "            right_cursor += 1 \n",
    "    for left_cursor in range(left_cursor, len(left)):\n",
    "        merged[left_cursor + right_cursor] = left[left_cursor]\n",
    "        \n",
    "    for right_cursor in range(right_cursor, len(right)):\n",
    "        merged[left_cursor + right_cursor] = right[right_cursor]\n",
    "\n",
    "    return merged\n",
    "arr =  [12,11,13,5,6]\n",
    "print(merge_sort(arr))"
   ]
  },
  {
   "cell_type": "code",
   "execution_count": null,
   "id": "290ae9ac",
   "metadata": {},
   "outputs": [],
   "source": [
    "#7. Python Program for Iterative Merge Sort"
   ]
  },
  {
   "cell_type": "code",
   "execution_count": 47,
   "id": "f09073ae",
   "metadata": {},
   "outputs": [
    {
     "name": "stdout",
     "output_type": "stream",
     "text": [
      "[5, 6, 11, 12, 13]\n"
     ]
    }
   ],
   "source": [
    "def merge(left, right):\n",
    "    if not len(left) or not len(right):\n",
    "        return left or right\n",
    "    result = []\n",
    "    i, j = 0, 0\n",
    "    while (len(result) < len(left) + len(right)):\n",
    "        if left[i] < right[j]:\n",
    "            result.append(left[i])\n",
    "            i+= 1\n",
    "        else:\n",
    "            result.append(right[j])\n",
    "            j+= 1\n",
    "        if i == len(left) or j == len(right):\n",
    "            result.extend(left[i:] or right[j:])\n",
    "            break\n",
    "    return result\n",
    "def mergesort(list):\n",
    "    if len(list) < 2:\n",
    "        return list\n",
    "    middle = len(list)//2\n",
    "    left = mergesort(list[:middle])\n",
    "    right = mergesort(list[middle:])\n",
    "    return merge(left, right)\n",
    "     \n",
    "arr =  [12,11,13,5,6]\n",
    "print(mergesort(arr))"
   ]
  },
  {
   "cell_type": "code",
   "execution_count": null,
   "id": "beac1116",
   "metadata": {},
   "outputs": [],
   "source": [
    "#8. Python Program for Heap Sort"
   ]
  },
  {
   "cell_type": "code",
   "execution_count": 54,
   "id": "936b7306",
   "metadata": {},
   "outputs": [
    {
     "name": "stdout",
     "output_type": "stream",
     "text": [
      "5\n",
      "6\n",
      "11\n",
      "12\n",
      "13\n"
     ]
    }
   ],
   "source": [
    "def hs(arr, n, i): \n",
    " largest = i \n",
    " l = 2 * i + 1\n",
    " r = 2 * i + 2 \n",
    " if l < n and arr[i] < arr[l]: \n",
    "  largest = l \n",
    " if r < n and arr[largest] < arr[r]: \n",
    "  largest = r \n",
    " if largest != i: \n",
    "  arr[i],arr[largest] = arr[largest],arr[i]\n",
    "  hs(arr, n, largest) \n",
    "def heapsort(arr): \n",
    " n = len(arr) \n",
    " for i in range(n // 2 - 1, -1, -1): \n",
    "  hs(arr, n, i) \n",
    " for i in range(n-1, 0, -1): \n",
    "  arr[i], arr[0] = arr[0], arr[i]\n",
    "  hs(arr, i, 0) \n",
    "  \n",
    "arr = [ 12, 11, 13, 5, 6] \n",
    "heapsort(arr) \n",
    "n = len(arr) \n",
    "for i in range(n): \n",
    " print (arr[i]) "
   ]
  },
  {
   "cell_type": "code",
   "execution_count": null,
   "id": "f94b458e",
   "metadata": {},
   "outputs": [],
   "source": [
    "#9. Python Program for Counting Sort"
   ]
  },
  {
   "cell_type": "code",
   "execution_count": 77,
   "id": "696f0e72",
   "metadata": {},
   "outputs": [
    {
     "name": "stdout",
     "output_type": "stream",
     "text": [
      "['b', 'd', 'd', 'f', 'h', 'h', 'j', 'j', 'k', 's', 's']\n"
     ]
    }
   ],
   "source": [
    "def countSort(arr):\n",
    "    output = [0 for i in range(256)]\n",
    "    count = [0 for i in range(256)]\n",
    "    ans = [\"\" for _ in arr]\n",
    "    for i in arr:\n",
    "        count[ord(i)] += 1\n",
    "    for i in range(256):\n",
    "        count[i] += count[i-1]\n",
    "    for i in range(len(arr)):\n",
    "        output[count[ord(arr[i])]-1] = arr[i]\n",
    "        count[ord(arr[i])] -= 1\n",
    "    for i in range(len(arr)):\n",
    "        ans[i] = output[i]\n",
    "    return ans\n",
    "arr = \"kdjhhdbfsjs\"\n",
    "print(countSort(arr))"
   ]
  },
  {
   "cell_type": "code",
   "execution_count": null,
   "id": "d7c16f05",
   "metadata": {},
   "outputs": [],
   "source": [
    "#10. Python Program for ShellSort"
   ]
  },
  {
   "cell_type": "code",
   "execution_count": 75,
   "id": "0fe4e0b3",
   "metadata": {},
   "outputs": [
    {
     "name": "stdout",
     "output_type": "stream",
     "text": [
      "2\n",
      "3\n",
      "12\n",
      "34\n",
      "54\n"
     ]
    }
   ],
   "source": [
    "def shellSort(arr):\n",
    "    n = len(arr)\n",
    "    gap = n//2\n",
    "    while gap > 0:\n",
    "        for i in range(gap,n):\n",
    "            temp = arr[i]\n",
    "            j = i\n",
    "            while  j >= gap and arr[j-gap] >temp:\n",
    "                arr[j] = arr[j-gap]\n",
    "                j -= gap\n",
    "            arr[j] = temp\n",
    "        gap //= 2\n",
    "arr = [ 12, 34, 54, 2, 3]\n",
    "n = len(arr)\n",
    "shellSort(arr)\n",
    "for i in range(n):\n",
    "    print(arr[i]),"
   ]
  }
 ],
 "metadata": {
  "kernelspec": {
   "display_name": "Python 3 (ipykernel)",
   "language": "python",
   "name": "python3"
  },
  "language_info": {
   "codemirror_mode": {
    "name": "ipython",
    "version": 3
   },
   "file_extension": ".py",
   "mimetype": "text/x-python",
   "name": "python",
   "nbconvert_exporter": "python",
   "pygments_lexer": "ipython3",
   "version": "3.9.12"
  }
 },
 "nbformat": 4,
 "nbformat_minor": 5
}
