{
 "cells": [
  {
   "cell_type": "code",
   "execution_count": null,
   "id": "bc21b4cd",
   "metadata": {},
   "outputs": [],
   "source": [
    "#1. Python Program for n-th Fibonacci number"
   ]
  },
  {
   "cell_type": "code",
   "execution_count": 3,
   "id": "5a676399",
   "metadata": {},
   "outputs": [
    {
     "name": "stdout",
     "output_type": "stream",
     "text": [
      "3\n"
     ]
    }
   ],
   "source": [
    "def get_fib (n):\n",
    "    if n ==0:\n",
    "        return\"not valid\"\n",
    "    elif n<=2:\n",
    "        return n-1\n",
    "    else:\n",
    "        return get_fib(n-1)+  get_fib(n-2)\n",
    "\n",
    "print(get_fib(5))\n"
   ]
  },
  {
   "cell_type": "code",
   "execution_count": null,
   "id": "65d94e2a",
   "metadata": {},
   "outputs": [],
   "source": [
    "#2. Python Program for How to check if a given number is Fibonacci number."
   ]
  },
  {
   "cell_type": "code",
   "execution_count": 4,
   "id": "3fe9093b",
   "metadata": {},
   "outputs": [
    {
     "name": "stdout",
     "output_type": "stream",
     "text": [
      "is fibonacci number\n"
     ]
    }
   ],
   "source": [
    "import math \n",
    "def is_perfect_sq(k):\n",
    "    s = int(math.sqrt(k))\n",
    "    return s * s == k\n",
    "\n",
    "def is_fib(x):\n",
    "    if is_perfect_sq(((5*x**2+4) and (5*x**2-4))or((5*x**2+4) or (5*x**2-4))) == True: \n",
    "        return \"is fibonacci number\" \n",
    "    else :\n",
    "        return \"isn't fibonacci number\"\n",
    "    \n",
    "print(is_fib(13))"
   ]
  },
  {
   "cell_type": "code",
   "execution_count": null,
   "id": "56f9f599",
   "metadata": {},
   "outputs": [],
   "source": [
    "#3. Python Program for n\\’th multiple of a number in Fibonacci Seriesv"
   ]
  },
  {
   "cell_type": "code",
   "execution_count": 5,
   "id": "d030d6ac",
   "metadata": {},
   "outputs": [
    {
     "name": "stdout",
     "output_type": "stream",
     "text": [
      "9\n"
     ]
    }
   ],
   "source": [
    "def fib_multiple(k,n):\n",
    "    f1 = 0\n",
    "    f2 = 1\n",
    "    i =2; \n",
    "    while i!=0:\n",
    "        f3 = f1 + f2;\n",
    "        f1 = f2;\n",
    "        f2 = f3;\n",
    " \n",
    "        if f2%k == 0:\n",
    "            return n*i\n",
    " \n",
    "        i+=1\n",
    "         \n",
    "    return\n",
    " \n",
    "print(fib_multiple(2,3))  "
   ]
  },
  {
   "cell_type": "code",
   "execution_count": null,
   "id": "e9ff14e4",
   "metadata": {},
   "outputs": [],
   "source": [
    "#4. Program to print ASCII Value of a character."
   ]
  },
  {
   "cell_type": "code",
   "execution_count": 2,
   "id": "5fc539f8",
   "metadata": {},
   "outputs": [
    {
     "name": "stdout",
     "output_type": "stream",
     "text": [
      "enter character:a\n",
      "97\n"
     ]
    }
   ],
   "source": [
    "def ascii_value (n):\n",
    "    return ord(n)\n",
    "\n",
    "print(ascii_value(input(\"enter character:\")))"
   ]
  },
  {
   "cell_type": "code",
   "execution_count": null,
   "id": "be17dde7",
   "metadata": {},
   "outputs": [],
   "source": [
    "#5. Python Program for Sum of squares of first n natural numbers"
   ]
  },
  {
   "cell_type": "code",
   "execution_count": 12,
   "id": "5825556d",
   "metadata": {},
   "outputs": [
    {
     "name": "stdout",
     "output_type": "stream",
     "text": [
      "enter number:5\n",
      "55\n"
     ]
    }
   ],
   "source": [
    "n = int(input(\"enter number:\"))\n",
    "num = 0\n",
    "for i in range(1,(n + 1)):\n",
    "    num = num + i ** 2\n",
    "    \n",
    "print(num)"
   ]
  },
  {
   "cell_type": "code",
   "execution_count": null,
   "id": "cdefc56f",
   "metadata": {},
   "outputs": [],
   "source": [
    "#6. Python Program for cube sum of first n natural numbers"
   ]
  },
  {
   "cell_type": "code",
   "execution_count": 13,
   "id": "445ec33e",
   "metadata": {},
   "outputs": [
    {
     "name": "stdout",
     "output_type": "stream",
     "text": [
      "enter number:5\n",
      "225\n"
     ]
    }
   ],
   "source": [
    "n = int(input(\"enter number:\"))\n",
    "num = 0\n",
    "for i in range(1,(n + 1)):\n",
    "    num = num + i ** 3\n",
    "    \n",
    "print(num)"
   ]
  },
  {
   "cell_type": "code",
   "execution_count": null,
   "id": "7b2c2b78",
   "metadata": {},
   "outputs": [],
   "source": [
    "#7. Python Program to find sum of array"
   ]
  },
  {
   "cell_type": "code",
   "execution_count": 4,
   "id": "06bb1977",
   "metadata": {},
   "outputs": [
    {
     "name": "stdout",
     "output_type": "stream",
     "text": [
      "10\n"
     ]
    }
   ],
   "source": [
    "import numpy as np\n",
    "def sum_of_arr(a):\n",
    "    total = 0\n",
    "    for i in a:\n",
    "        total += i\n",
    "    return total\n",
    "\n",
    "a = np.array([1,2,3,4])\n",
    "\n",
    "final = sum_of_arr(a)\n",
    "\n",
    "print(final)"
   ]
  },
  {
   "cell_type": "code",
   "execution_count": 5,
   "id": "5723969f",
   "metadata": {},
   "outputs": [
    {
     "data": {
      "text/plain": [
       "numpy.ndarray"
      ]
     },
     "execution_count": 5,
     "metadata": {},
     "output_type": "execute_result"
    }
   ],
   "source": [
    "type(a)"
   ]
  },
  {
   "cell_type": "code",
   "execution_count": null,
   "id": "6676b06d",
   "metadata": {},
   "outputs": [],
   "source": [
    "#8. Python Program to find largest element in an array."
   ]
  },
  {
   "cell_type": "code",
   "execution_count": 7,
   "id": "cf96ef6d",
   "metadata": {},
   "outputs": [
    {
     "name": "stdout",
     "output_type": "stream",
     "text": [
      "82\n"
     ]
    }
   ],
   "source": [
    "a = i([1,49,82,39])\n",
    "print(np.max(a))"
   ]
  },
  {
   "cell_type": "code",
   "execution_count": null,
   "id": "5ce769ba",
   "metadata": {},
   "outputs": [],
   "source": [
    "#9. Python Program for array rotation."
   ]
  },
  {
   "cell_type": "code",
   "execution_count": 42,
   "id": "c2d594de",
   "metadata": {},
   "outputs": [
    {
     "name": "stdout",
     "output_type": "stream",
     "text": [
      "[9, 11, 13, 15, 1, 3, 5, 7]\n"
     ]
    }
   ],
   "source": [
    "def rotate_array(arry, E):\n",
    "    K = len(arry)\n",
    "    temp_1 = []  \n",
    "    J = 0  \n",
    "    while (J < E):  \n",
    "        temp_1.append(arry[J])  \n",
    "        J = J + 1  \n",
    "    J = 0  \n",
    "    while (E < K):  \n",
    "        arry[J] = arry[E]  \n",
    "        J = J + 1  \n",
    "        E = E + 1  \n",
    "    arry[:] = arry[J:] + temp_1  \n",
    "    return arry \n",
    "\n",
    "arry =([1,3,5,7,9,11,13,15])\n",
    "print(rotate_array(arry,4))\n"
   ]
  },
  {
   "cell_type": "code",
   "execution_count": null,
   "id": "2c39bd65",
   "metadata": {},
   "outputs": [],
   "source": [
    "#10. Python Program for Reversal algorithm for array rotation."
   ]
  },
  {
   "cell_type": "code",
   "execution_count": 50,
   "id": "852079cd",
   "metadata": {},
   "outputs": [
    {
     "name": "stdout",
     "output_type": "stream",
     "text": [
      "[5, 7, 9, 11, 13, 15, 1, 3]\n"
     ]
    }
   ],
   "source": [
    "def reverse_array(arry,start,end):\n",
    "    while start<end:\n",
    "        x = arry[start]\n",
    "        arry[start]= arry[end]\n",
    "        arry[end] = x\n",
    "        end = end - 1\n",
    "        start= start+1\n",
    "    \n",
    "\n",
    "\n",
    "def rotation(arry,E):\n",
    "    K = len(arry)\n",
    "    reverse_array(arry,0,E-1)\n",
    "    reverse_array(arry,E,K-1)\n",
    "    reverse_array(arry,0,K-1)\n",
    "    return arry\n",
    "    \n",
    "\n",
    "arry = ([1,3,5,7,9,11,13,15])\n",
    "print(rotation(arry,2))\n",
    "    "
   ]
  },
  {
   "cell_type": "code",
   "execution_count": 56,
   "id": "84a2da3a",
   "metadata": {},
   "outputs": [],
   "source": [
    "#11. Python Program to Split the array and add the first part to the end."
   ]
  },
  {
   "cell_type": "code",
   "execution_count": 63,
   "id": "6561232b",
   "metadata": {},
   "outputs": [
    {
     "name": "stdout",
     "output_type": "stream",
     "text": [
      "[(), 9, 15, (), 1, 7]\n"
     ]
    }
   ],
   "source": [
    "def array_split(arr,E):\n",
    "    e_arr1=[()]\n",
    "    e_arr2=[()]\n",
    "    for i in (0,E-1):\n",
    "    e_arr1.append(arr[i])\n",
    "        \n",
    "    for i in (E,len(arr)-1):\n",
    "        e_arr2.append(arr[i])\n",
    "    return  e_arr2 + e_arr1\n",
    "        \n",
    "arr= ([1,3,5,7,9,11,13,15])    \n",
    "print(array_split(arr,4))\n",
    "    "
   ]
  },
  {
   "cell_type": "code",
   "execution_count": 89,
   "id": "e858eb75",
   "metadata": {},
   "outputs": [
    {
     "name": "stdout",
     "output_type": "stream",
     "text": [
      "5 7 9 11 13 15 1 3 "
     ]
    }
   ],
   "source": [
    "def splitArr(arr, n, k):\n",
    "    for i in range(0, k):\n",
    "        x = arr[0]\n",
    "        for j in range(0, n-1):\n",
    "            arr[j] = arr[j + 1]\n",
    "         \n",
    "        arr[n-1] = x\n",
    "\n",
    "n=len(arr)\n",
    "arr = ([1,3,5,7,9,11,13,15]) \n",
    "splitArr(arr, len(arr), 2)\n",
    "for i in range(0, n):\n",
    "    print((arr[i]), end = ' ')\n",
    "        "
   ]
  }
 ],
 "metadata": {
  "kernelspec": {
   "display_name": "Python 3 (ipykernel)",
   "language": "python",
   "name": "python3"
  },
  "language_info": {
   "codemirror_mode": {
    "name": "ipython",
    "version": 3
   },
   "file_extension": ".py",
   "mimetype": "text/x-python",
   "name": "python",
   "nbconvert_exporter": "python",
   "pygments_lexer": "ipython3",
   "version": "3.9.12"
  }
 },
 "nbformat": 4,
 "nbformat_minor": 5
}
