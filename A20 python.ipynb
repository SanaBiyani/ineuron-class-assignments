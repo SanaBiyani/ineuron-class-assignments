{
 "cells": [
  {
   "cell_type": "code",
   "execution_count": null,
   "id": "4b3356fa",
   "metadata": {},
   "outputs": [],
   "source": [
    "#1. Python Program to obtain the line number in which given word is present"
   ]
  },
  {
   "cell_type": "code",
   "execution_count": 20,
   "id": "f1a6e793",
   "metadata": {},
   "outputs": [
    {
     "name": "stdout",
     "output_type": "stream",
     "text": [
      "3 "
     ]
    }
   ],
   "source": [
    "import re\n",
    "with open(\"C:/Intel/sana/lines.txt\") as f :\n",
    "    fs = f.readlines()\n",
    "word = 'student'\n",
    "for i in range(len(fs)):\n",
    "    if word in fs[i]:\n",
    "        print(i+1, end=\" \")"
   ]
  },
  {
   "cell_type": "code",
   "execution_count": null,
   "id": "c238f72f",
   "metadata": {},
   "outputs": [],
   "source": [
    "#2. Count number of lines in a text file in Python"
   ]
  },
  {
   "cell_type": "code",
   "execution_count": 21,
   "id": "20e64b39",
   "metadata": {},
   "outputs": [
    {
     "name": "stdout",
     "output_type": "stream",
     "text": [
      "5\n"
     ]
    }
   ],
   "source": [
    "with open(\"C:/Intel/sana/lines.txt\") as f :\n",
    "    fs = f.readlines()\n",
    "print(len(fs))"
   ]
  },
  {
   "cell_type": "code",
   "execution_count": null,
   "id": "c0f0b5a3",
   "metadata": {},
   "outputs": [],
   "source": [
    "#3. Python Program to remove lines starting with any prefix"
   ]
  },
  {
   "cell_type": "code",
   "execution_count": 78,
   "id": "a527473b",
   "metadata": {},
   "outputs": [
    {
     "name": "stdout",
     "output_type": "stream",
     "text": [
      "before:  ['I am an Indian\\n', 'I am a foodie\\n', 'I am a student\\n', 'I am shy\\n', 'I am an introvert']\n",
      "after:  []\n"
     ]
    }
   ],
   "source": [
    "import re\n",
    "file1 = open(\"C:/Intel/sana/lines.txt\")\n",
    "file2 = open(\"C:/Intel/sana/lines1.txt\")\n",
    "print('before: ',file2.readlines())\n",
    "\n",
    "for i in file1.readlines():\n",
    "    x = re.findall('^I',i)\n",
    "\n",
    "    if not x:\n",
    "        print(i)\n",
    "        file2.write(i)\n",
    "\n",
    "file1.close()\n",
    "print('after: ',file2.readlines())\n",
    "file2.close()\n"
   ]
  },
  {
   "cell_type": "code",
   "execution_count": null,
   "id": "957190bc",
   "metadata": {},
   "outputs": [],
   "source": [
    "#4. Python Program to Eliminate repeated lines from a file"
   ]
  },
  {
   "cell_type": "code",
   "execution_count": 46,
   "id": "5ba90d40",
   "metadata": {},
   "outputs": [
    {
     "name": "stdout",
     "output_type": "stream",
     "text": [
      "before: ['I am a student\\n', 'I am an Indian\\n', 'I am a foodie\\n', 'I am a student\\n', 'I am shy\\n', 'I am an Introvert\\n', 'I am a foodie\\n', '\\n', '\\n']\n",
      "after: {'I am a foodie\\n', 'I am an Introvert\\n', '\\n', 'I am a student\\n', 'I am shy\\n', 'I am an Indian\\n'}\n"
     ]
    }
   ],
   "source": [
    "with open(\"C:/Intel/sana/lines2.txt\") as f :\n",
    "    fs = f.readlines()\n",
    "print('before:',fs)\n",
    "print('after:',set(fs))"
   ]
  },
  {
   "cell_type": "code",
   "execution_count": null,
   "id": "fe2919bb",
   "metadata": {},
   "outputs": [],
   "source": [
    "#5. Python Program to read List of Dictionaries from File"
   ]
  },
  {
   "cell_type": "code",
   "execution_count": 77,
   "id": "2fa95c7f",
   "metadata": {},
   "outputs": [
    {
     "name": "stdout",
     "output_type": "stream",
     "text": [
      "p:hi\n",
      "\n",
      "po:ta\n",
      "\n",
      "poi:inah\n",
      "\n",
      "poin:hian\n",
      "\n",
      "point:hini\n",
      "\n",
      "p:tarry\n",
      "\n",
      "pa:niah\n",
      "\n",
      "pai:tara\n",
      "\n",
      "pain:hina\n",
      "\n",
      "paint:hina\n"
     ]
    }
   ],
   "source": [
    "\n",
    "f = open(\"C:/Intel/sana/keyvalue1.txt\")\n",
    "fs = f.readlines()\n",
    "for i in fs:\n",
    "    print(i)"
   ]
  },
  {
   "cell_type": "code",
   "execution_count": 72,
   "id": "d0f16418",
   "metadata": {},
   "outputs": [],
   "source": [
    "#6. Python – Append content of one text file to another"
   ]
  },
  {
   "cell_type": "code",
   "execution_count": 87,
   "id": "6987ab41",
   "metadata": {},
   "outputs": [
    {
     "name": "stdout",
     "output_type": "stream",
     "text": [
      "I love PYTHON! A LOT!! "
     ]
    }
   ],
   "source": [
    "import re\n",
    "file1 = open(\"C:/Intel/sana/string.txt\",\"r\")\n",
    "file2 = open(\"C:/Intel/sana/string1.txt\",\"r\")\n",
    "f = file1.readlines()+file2.readlines()\n",
    "for i in f:\n",
    "    print(i,end=' ')\n",
    "\n",
    "file1.close()\n",
    "file2.close()"
   ]
  },
  {
   "cell_type": "code",
   "execution_count": null,
   "id": "0d98eeb9",
   "metadata": {},
   "outputs": [],
   "source": [
    "#7. Python program to copy odd lines of one file to other"
   ]
  },
  {
   "cell_type": "code",
   "execution_count": 92,
   "id": "31408976",
   "metadata": {},
   "outputs": [
    {
     "name": "stdout",
     "output_type": "stream",
     "text": [
      "I love PYTHON!\n",
      "I am a foodie\n",
      "I am a student\n",
      "I am shy\n"
     ]
    }
   ],
   "source": [
    "file = open(\"C:/Intel/sana/lines.txt\",\"r\")\n",
    "other = open(\"C:/Intel/sana/string.txt\",\"r\")\n",
    "f = file.readlines()\n",
    "print(other.read())\n",
    "for i in f[1:-1:1]:\n",
    "    print(i,end = '')\n",
    "file.close()\n",
    "other.close()"
   ]
  },
  {
   "cell_type": "code",
   "execution_count": null,
   "id": "37037445",
   "metadata": {},
   "outputs": [],
   "source": [
    "#8. Python Program to merge two files into a third file"
   ]
  },
  {
   "cell_type": "code",
   "execution_count": 3,
   "id": "f88ebcb6",
   "metadata": {},
   "outputs": [
    {
     "name": "stdout",
     "output_type": "stream",
     "text": [
      "I love PYTHON! A LOT!!\n"
     ]
    }
   ],
   "source": [
    "import re\n",
    "file1 = open(\"C:/Intel/sana/string.txt\",\"r\")\n",
    "file2 = open(\"C:/Intel/sana/string1.txt\",\"r\")\n",
    "f1 =  file1.read()\n",
    "f2 =  file2.read()\n",
    "f = f1 +' '+ f2\n",
    "file3 = open(\"C:/Intel/sana/merge.txt\",\"w\")\n",
    "f3 = file3.write(f)\n",
    "file1.close()\n",
    "file2.close()\n",
    "file3.close()\n",
    "file3 = open(\"C:/Intel/sana/merge.txt\",\"r\")\n",
    "print(file3.read())"
   ]
  },
  {
   "cell_type": "code",
   "execution_count": null,
   "id": "187646fc",
   "metadata": {},
   "outputs": [],
   "source": [
    "#9. Python program to Reverse a single line of a text file"
   ]
  },
  {
   "cell_type": "code",
   "execution_count": 113,
   "id": "2bd42cca",
   "metadata": {},
   "outputs": [
    {
     "name": "stdout",
     "output_type": "stream",
     "text": [
      "Indian an am I "
     ]
    }
   ],
   "source": [
    "file = open(\"C:/Intel/sana/lines.txt\",\"r\")\n",
    "f = file.readlines()\n",
    "f1 = f[0]\n",
    "f1 = f1.split()\n",
    "f1.reverse()\n",
    "for i in f1:\n",
    "    print(i,end=' ')"
   ]
  },
  {
   "cell_type": "code",
   "execution_count": null,
   "id": "00a81d30",
   "metadata": {},
   "outputs": [],
   "source": [
    "#10. Python program to reverse the content of a file and store it in another file"
   ]
  },
  {
   "cell_type": "code",
   "execution_count": 6,
   "id": "d5dc68e8",
   "metadata": {},
   "outputs": [
    {
     "name": "stdout",
     "output_type": "stream",
     "text": [
      " I am an introvert\n",
      " I am shy\n",
      " I am a student\n",
      " I am a foodie\n",
      " I am an Indian\n",
      "\n"
     ]
    }
   ],
   "source": [
    "file = open(\"C:/Intel/sana/lines.txt\",\"r\")\n",
    "f = file.readlines()\n",
    "f.reverse()\n",
    "s = ''\n",
    "for i in f:\n",
    "    s = s+ ' ' + i\n",
    "file3 = open(\"C:/Intel/sana/store.txt\",\"w\")\n",
    "f3 = file3.write(s)\n",
    "file.close()\n",
    "file3.close()\n",
    "file3 = open(\"C:/Intel/sana/store.txt\",\"r\")\n",
    "print(file3.read())"
   ]
  },
  {
   "cell_type": "code",
   "execution_count": null,
   "id": "5b729d4b",
   "metadata": {},
   "outputs": [],
   "source": [
    "#11. Python Program to Reverse the Content of a File using Stack"
   ]
  },
  {
   "cell_type": "code",
   "execution_count": 10,
   "id": "dfbcdd0b",
   "metadata": {},
   "outputs": [
    {
     "name": "stdout",
     "output_type": "stream",
     "text": [
      "I am an introvert\n",
      "I am shy\n",
      "I am a student\n",
      "I am a foodie\n",
      "I am an Indian\n"
     ]
    }
   ],
   "source": [
    "class stack:\n",
    "    def __init__(self):\n",
    "        self._arr = []\n",
    "    def push(self, val):\n",
    "        self._arr.append(val)\n",
    "   \n",
    "    def is_empty(self):\n",
    "        return len(self._arr) == 0\n",
    "    def pop(self):\n",
    "          \n",
    "        if self.is_empty():\n",
    "            print(\"Stack is empty\")\n",
    "            return\n",
    "          \n",
    "        return self._arr.pop()\n",
    "def reverse_file(fn):\n",
    "       \n",
    "    s = stack()\n",
    "    x = open(fn)\n",
    "      \n",
    "    for line in x:\n",
    "        s.push(line.rstrip(\"\\n\"))\n",
    "      \n",
    "    x.close()\n",
    "       \n",
    "       \n",
    "    final = open(fn, 'w')\n",
    "      \n",
    "    while not s.is_empty():\n",
    "        final.write(s.pop()+\"\\n\")\n",
    "      \n",
    "    final.close() \n",
    "\n",
    "fn = \"C:/Intel/sana/lines.txt\"\n",
    "reverse_file(fn)\n",
    "with open(fn) as file:\n",
    "        for f in file.readlines():\n",
    "            print(f, end =\"\")"
   ]
  },
  {
   "cell_type": "code",
   "execution_count": null,
   "id": "a91efd17",
   "metadata": {},
   "outputs": [],
   "source": []
  }
 ],
 "metadata": {
  "kernelspec": {
   "display_name": "Python 3 (ipykernel)",
   "language": "python",
   "name": "python3"
  },
  "language_info": {
   "codemirror_mode": {
    "name": "ipython",
    "version": 3
   },
   "file_extension": ".py",
   "mimetype": "text/x-python",
   "name": "python",
   "nbconvert_exporter": "python",
   "pygments_lexer": "ipython3",
   "version": "3.9.12"
  }
 },
 "nbformat": 4,
 "nbformat_minor": 5
}
