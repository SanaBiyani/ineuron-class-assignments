{
 "cells": [
  {
   "cell_type": "code",
   "execution_count": null,
   "id": "c46d5bfc",
   "metadata": {},
   "outputs": [],
   "source": [
    "#1. Python Program to Check if email address valid or not"
   ]
  },
  {
   "cell_type": "code",
   "execution_count": 4,
   "id": "fda8f773",
   "metadata": {},
   "outputs": [
    {
     "name": "stdout",
     "output_type": "stream",
     "text": [
      "yes\n"
     ]
    }
   ],
   "source": [
    "import re\n",
    "regex = r'\\b[A-Za-z0-9._%+-]+@[A-Za-z0-9.-]+\\.[A-Z|a-z]{2,}\\b'\n",
    "def check(st): \n",
    "    if(re.fullmatch(regex,st)):\n",
    "        return'yes'\n",
    "    else:\n",
    "        return'no'\n",
    "\n",
    "\n",
    "print(check('contact@ineuron.ai'))"
   ]
  },
  {
   "cell_type": "code",
   "execution_count": null,
   "id": "1eaccb3a",
   "metadata": {},
   "outputs": [],
   "source": [
    "#2. Python program to find files having a particular extension using RegEx"
   ]
  },
  {
   "cell_type": "code",
   "execution_count": 7,
   "id": "6657787a",
   "metadata": {},
   "outputs": [
    {
     "name": "stdout",
     "output_type": "stream",
     "text": [
      "b.xml\n"
     ]
    }
   ],
   "source": [
    "import re\n",
    "regex = '\\.xml$'\n",
    "def check(fns):\n",
    "    for i in fns:\n",
    "        if(re.search(regex,i)):\n",
    "            return i\n",
    "        else:\n",
    "            pass\n",
    "\n",
    "fns = [\"a.html\", \"b.xml\",\"c.txt\", \"d.jpg\"]\n",
    "print(check(fns))"
   ]
  },
  {
   "cell_type": "code",
   "execution_count": null,
   "id": "19c955fd",
   "metadata": {},
   "outputs": [],
   "source": [
    "#3. Python program to extract IP address from file"
   ]
  },
  {
   "cell_type": "code",
   "execution_count": 37,
   "id": "ad512bc6",
   "metadata": {},
   "outputs": [
    {
     "name": "stdout",
     "output_type": "stream",
     "text": [
      "[None, <re.Match object; span=(0, 11), match='192.168.1.1'>, None, <re.Match object; span=(0, 15), match='912.456.123.123'>, None, None, None, None, None, None, <re.Match object; span=(0, 12), match='69.168.4.226'>, <re.Match object; span=(0, 12), match='32.89.31.164'>, None, None, <re.Match object; span=(0, 12), match='67.168.3.227'>]\n"
     ]
    }
   ],
   "source": [
    "import re\n",
    "with open(\"C:/Intel/sana/testS.txt\") as f :\n",
    "    fs = f.readlines()\n",
    "regex = re.compile(r'(\\d{1,3}\\.\\d{1,3}\\.\\d{1,3}\\.\\d{1,3})')\n",
    "l=[]\n",
    "for i in fs:\n",
    "    l.append(regex.search(i))\n",
    "    \n",
    "print(l)"
   ]
  },
  {
   "cell_type": "code",
   "execution_count": 26,
   "id": "8358fade",
   "metadata": {},
   "outputs": [],
   "source": [
    "#4. Python program to check the validity of a Password"
   ]
  },
  {
   "cell_type": "code",
   "execution_count": 29,
   "id": "74d9bb14",
   "metadata": {},
   "outputs": [
    {
     "name": "stdout",
     "output_type": "stream",
     "text": [
      "yes\n"
     ]
    }
   ],
   "source": [
    "import re\n",
    "pw = \"T@s@_l0rgu9m$\"\n",
    "x = 0\n",
    "while True:  \n",
    "    if (len(pw)<8):\n",
    "        x = -1\n",
    "        break\n",
    "    elif not re.search(\"[a-z]\",pw):\n",
    "        x = -1\n",
    "        break\n",
    "    elif not re.search(\"[A-Z]\",pw):\n",
    "        x = -1\n",
    "        break\n",
    "    elif not re.search(\"[0-9]\", pw):\n",
    "        x = -1\n",
    "        break\n",
    "    elif not re.search(\"[_@$]\", pw):\n",
    "        x = -1\n",
    "        break\n",
    "    elif re.search(\"\\s\", pw):\n",
    "        x = -1\n",
    "        break\n",
    "    else:\n",
    "        x = 0\n",
    "        print(\"yes\")\n",
    "        break\n",
    "if x ==-1:\n",
    "    print(\"no\")"
   ]
  },
  {
   "cell_type": "code",
   "execution_count": null,
   "id": "9810c882",
   "metadata": {},
   "outputs": [],
   "source": [
    "#5. Categorize Password as Strong or Weak using Regex in Python"
   ]
  },
  {
   "cell_type": "code",
   "execution_count": 33,
   "id": "ca003e23",
   "metadata": {},
   "outputs": [
    {
     "name": "stdout",
     "output_type": "stream",
     "text": [
      "STRONG\n",
      "WEAK: Same character repeats three or more times in a row\n",
      "WEAK: Same character repeats three or more times in a row\n",
      "WEAK: Same string pattern repetition\n",
      "STRONG\n",
      "WEAK:password cannot be a newline or space\n"
     ]
    }
   ],
   "source": [
    "import re \n",
    "def strong_or_weak(pw):\n",
    "    if pw == \"\\n\" or pw == \" \":\n",
    "        return \"WEAK:password cannot be a newline or space\"\n",
    "    if 9 <= len(pw) <= 20:\n",
    "        if re.search(r'(.)\\1\\1', pw):\n",
    "            return \"WEAK: Same character repeats three or more times in a row\"\n",
    "        if re.search(r'(..)(.*?)\\1', pw):\n",
    "            return \"WEAK: Same string pattern repetition\"\n",
    "   \n",
    "        else:\n",
    "            return \"STRONG\"\n",
    "   \n",
    "    else:\n",
    "        return \"WEAK:Password length must be 9-20 characters\"\n",
    "    \n",
    "print(strong_or_weak(\"Qggf!@ghf3\"))\n",
    "print(strong_or_weak(\"JNNNShhhf78\"))\n",
    "print(strong_or_weak(\"aaabnil1gu\"))\n",
    "print(strong_or_weak(\"Aasd!feasn\"))\n",
    "print(strong_or_weak(\"772*hd897\"))\n",
    "print(strong_or_weak(\" \"))"
   ]
  },
  {
   "cell_type": "code",
   "execution_count": null,
   "id": "87a3ba87",
   "metadata": {},
   "outputs": [],
   "source": [
    "#6. Python program to read file word by word"
   ]
  },
  {
   "cell_type": "code",
   "execution_count": 50,
   "id": "7e64118a",
   "metadata": {},
   "outputs": [
    {
     "name": "stdout",
     "output_type": "stream",
     "text": [
      "I love PYTHON!\n"
     ]
    }
   ],
   "source": [
    "import re\n",
    "with open(\"C:/Intel/sana/string.txt\") as f :\n",
    "    fs = f.readlines()\n",
    "    for i in fs:\n",
    "        print(i)"
   ]
  },
  {
   "cell_type": "code",
   "execution_count": 51,
   "id": "f85f1414",
   "metadata": {},
   "outputs": [],
   "source": [
    "#7. Python program to read character by character from a file"
   ]
  },
  {
   "cell_type": "code",
   "execution_count": 53,
   "id": "3e798e3d",
   "metadata": {},
   "outputs": [
    {
     "name": "stdout",
     "output_type": "stream",
     "text": [
      "I\n",
      " \n",
      "l\n",
      "o\n",
      "v\n",
      "e\n",
      " \n",
      "P\n",
      "Y\n",
      "T\n",
      "H\n",
      "O\n",
      "N\n",
      "!\n"
     ]
    }
   ],
   "source": [
    "import re\n",
    "with open(\"C:/Intel/sana/string.txt\") as f :\n",
    "    fs = f.readlines()\n",
    "for i in fs:\n",
    "    for j in i:\n",
    "        print(j)"
   ]
  },
  {
   "cell_type": "code",
   "execution_count": null,
   "id": "b628e144",
   "metadata": {},
   "outputs": [],
   "source": [
    "#8. Python – Get number of characters, words, spaces and lines in a file"
   ]
  },
  {
   "cell_type": "code",
   "execution_count": 59,
   "id": "2b218f68",
   "metadata": {},
   "outputs": [
    {
     "name": "stdout",
     "output_type": "stream",
     "text": [
      "Number of words in text file:  3\n",
      "Number of lines in text file:  1\n",
      "Number of characters in text file:  12\n",
      "Number of spaces in text file:  2\n"
     ]
    }
   ],
   "source": [
    "import os\n",
    "def counter(fname):\n",
    "    num_words = 0\n",
    "    num_lines = 0\n",
    "    num_charc = 0\n",
    "    num_spaces = 0\n",
    "    with open(fn, 'r') as f:\n",
    "        for line in f:\n",
    "            line = line.strip(os.linesep)\n",
    "            wordslist = line.split()\n",
    "            num_lines = num_lines + 1\n",
    "            num_words = num_words + len(wordslist)\n",
    "            num_charc = num_charc + sum(1 for c in line \n",
    "                          if c not in (os.linesep, ' '))\n",
    "            num_spaces = num_spaces + sum(1 for s in line \n",
    "                                if s in (os.linesep, ' '))\n",
    "    print(\"Number of words in text file: \", num_words)\n",
    "    print(\"Number of lines in text file: \", num_lines)\n",
    "    print(\"Number of characters in text file: \", num_charc)\n",
    "    print(\"Number of spaces in text file: \", num_spaces)\n",
    "  \n",
    "\n",
    "fn = 'C:/Intel/sana/string.txt'\n",
    "try: \n",
    "    counter(fn) \n",
    "except: \n",
    "    print('File not found')"
   ]
  },
  {
   "cell_type": "code",
   "execution_count": null,
   "id": "7a0987fd",
   "metadata": {},
   "outputs": [],
   "source": [
    "#9. Python program to Count the Number of occurrences of a key-value pair in a text file"
   ]
  },
  {
   "cell_type": "code",
   "execution_count": 67,
   "id": "9abf3647",
   "metadata": {},
   "outputs": [
    {
     "name": "stdout",
     "output_type": "stream",
     "text": [
      "point:hina 7\n",
      "point:tara 3\n"
     ]
    }
   ],
   "source": [
    "f = open(\"C:/Intel/sana/keyvalue.txt\")\n",
    "d = dict()\n",
    "for x in f:\n",
    "    x = x.strip()\n",
    "    x = x.lower()\n",
    "    lines = x.split()\n",
    "    for i in lines:\n",
    "        if i in d:\n",
    "            d[i] = d[i]+1\n",
    "        else:\n",
    "            d[i] = 1\n",
    "f.close()\n",
    "for key in list(d.keys()):\n",
    "    print(key,d[key])"
   ]
  },
  {
   "cell_type": "code",
   "execution_count": null,
   "id": "704dc761",
   "metadata": {},
   "outputs": [],
   "source": [
    "#10. Python | Finding ‘n’ Character Words in a Text File"
   ]
  },
  {
   "cell_type": "code",
   "execution_count": 98,
   "id": "b719b225",
   "metadata": {},
   "outputs": [
    {
     "name": "stdout",
     "output_type": "stream",
     "text": [
      "love\n"
     ]
    }
   ],
   "source": [
    "n = 4\n",
    "f = open('C:/Intel/sana/string.txt')\n",
    "fs = f.read()\n",
    "fn = fs.split()\n",
    "for i in fn:\n",
    "    if len(i)==n:\n",
    "        print(i)\n",
    "    else:\n",
    "        pass\n"
   ]
  }
 ],
 "metadata": {
  "kernelspec": {
   "display_name": "Python 3 (ipykernel)",
   "language": "python",
   "name": "python3"
  },
  "language_info": {
   "codemirror_mode": {
    "name": "ipython",
    "version": 3
   },
   "file_extension": ".py",
   "mimetype": "text/x-python",
   "name": "python",
   "nbconvert_exporter": "python",
   "pygments_lexer": "ipython3",
   "version": "3.9.12"
  }
 },
 "nbformat": 4,
 "nbformat_minor": 5
}
