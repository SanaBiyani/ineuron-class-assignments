{
 "cells": [
  {
   "cell_type": "code",
   "execution_count": null,
   "id": "01dcdcfb",
   "metadata": {},
   "outputs": [],
   "source": [
    "#1. Python program to find smallest number in a list"
   ]
  },
  {
   "cell_type": "code",
   "execution_count": 1,
   "id": "65ceb26e",
   "metadata": {},
   "outputs": [
    {
     "name": "stdout",
     "output_type": "stream",
     "text": [
      "4\n"
     ]
    }
   ],
   "source": [
    "l1 = [4,87,99,11,88,92,5]\n",
    "print(min(l1))"
   ]
  },
  {
   "cell_type": "code",
   "execution_count": null,
   "id": "e419608a",
   "metadata": {},
   "outputs": [],
   "source": [
    "#2. Python program to find largest number in a list"
   ]
  },
  {
   "cell_type": "code",
   "execution_count": 2,
   "id": "d8701a4f",
   "metadata": {},
   "outputs": [
    {
     "name": "stdout",
     "output_type": "stream",
     "text": [
      "99\n"
     ]
    }
   ],
   "source": [
    "l1 = [4,87,99,11,88,92,5]\n",
    "print(max(l1))"
   ]
  },
  {
   "cell_type": "code",
   "execution_count": null,
   "id": "ec4341a9",
   "metadata": {},
   "outputs": [],
   "source": [
    "#3. Python program to find second largest number in a list"
   ]
  },
  {
   "cell_type": "code",
   "execution_count": 5,
   "id": "a15f5a43",
   "metadata": {},
   "outputs": [
    {
     "name": "stdout",
     "output_type": "stream",
     "text": [
      "92\n"
     ]
    }
   ],
   "source": [
    "l1 = [4,87,99,11,88,92,5]\n",
    "l1.remove(max(l1))\n",
    "print(max(l1))"
   ]
  },
  {
   "cell_type": "code",
   "execution_count": null,
   "id": "d8ef5cd0",
   "metadata": {},
   "outputs": [],
   "source": [
    "#4. Python program to find N largest elements from a list"
   ]
  },
  {
   "cell_type": "code",
   "execution_count": 6,
   "id": "91da602c",
   "metadata": {},
   "outputs": [
    {
     "name": "stdout",
     "output_type": "stream",
     "text": [
      "[99, 92, 88]\n"
     ]
    }
   ],
   "source": [
    "def find_N_element(list1, N):\n",
    "    final_list = []\n",
    "  \n",
    "    for i in range(0, N): \n",
    "        max1 = 0\n",
    "          \n",
    "        for j in range(len(list1)):     \n",
    "            if list1[j] > max1:\n",
    "                max1 = list1[j];\n",
    "                  \n",
    "        list1.remove(max1);\n",
    "        final_list.append(max1)\n",
    "          \n",
    "    return final_list\n",
    "print(find_N_element([4,87,99,11,88,92,5],3))"
   ]
  },
  {
   "cell_type": "code",
   "execution_count": 7,
   "id": "b66286f9",
   "metadata": {},
   "outputs": [],
   "source": [
    "#5. Python program to print even numbers in a list"
   ]
  },
  {
   "cell_type": "code",
   "execution_count": 11,
   "id": "6e8901d6",
   "metadata": {},
   "outputs": [
    {
     "name": "stdout",
     "output_type": "stream",
     "text": [
      "[4, 88, 92]\n"
     ]
    }
   ],
   "source": [
    "def find_even(l1):\n",
    "    final = []\n",
    "    J = len(l1)\n",
    "    for i in l1[0:J]:\n",
    "        if i % 2 == 0:\n",
    "            final.append(i)\n",
    "        else:\n",
    "            pass\n",
    "    return final\n",
    "\n",
    "print(find_even([4,87,99,11,88,92,5]))            "
   ]
  },
  {
   "cell_type": "code",
   "execution_count": null,
   "id": "22909a0f",
   "metadata": {},
   "outputs": [],
   "source": [
    "#6. Python program to print odd numbers in a List"
   ]
  },
  {
   "cell_type": "code",
   "execution_count": 12,
   "id": "8a7a6c3e",
   "metadata": {},
   "outputs": [
    {
     "name": "stdout",
     "output_type": "stream",
     "text": [
      "[87, 99, 11, 5]\n"
     ]
    }
   ],
   "source": [
    "def find_odd(l1):\n",
    "    final = []\n",
    "    J = len(l1)\n",
    "    for i in l1[0:J]:\n",
    "        if i % 2 != 0:\n",
    "            final.append(i)\n",
    "        else:\n",
    "            pass\n",
    "    return final\n",
    "\n",
    "print(find_odd([4,87,99,11,88,92,5]))         "
   ]
  },
  {
   "cell_type": "code",
   "execution_count": null,
   "id": "44dc4403",
   "metadata": {},
   "outputs": [],
   "source": [
    "#7. Python program to print all even numbers in a range"
   ]
  },
  {
   "cell_type": "code",
   "execution_count": 21,
   "id": "5e236481",
   "metadata": {
    "scrolled": true
   },
   "outputs": [
    {
     "name": "stdout",
     "output_type": "stream",
     "text": [
      "enter starting number:2\n",
      "enter ending number:12\n",
      "[2, 4, 6, 8, 10]\n"
     ]
    }
   ],
   "source": [
    "def find_even_range(i,j):\n",
    "    final = []\n",
    "    for i in range(i,j):\n",
    "        if i % 2 == 0:\n",
    "            final.append(i)\n",
    "        else:\n",
    "            pass\n",
    "    return final\n",
    "\n",
    "print(find_even_range(int(input('enter starting number:')),int(input('enter ending number:'))))         "
   ]
  },
  {
   "cell_type": "code",
   "execution_count": null,
   "id": "f3ff2ff1",
   "metadata": {},
   "outputs": [],
   "source": [
    "#8. Python program to print all odd numbers in a range"
   ]
  },
  {
   "cell_type": "code",
   "execution_count": 22,
   "id": "7456bf1e",
   "metadata": {},
   "outputs": [
    {
     "name": "stdout",
     "output_type": "stream",
     "text": [
      "enter starting number:2\n",
      "enter ending number:12\n",
      "[3, 5, 7, 9, 11]\n"
     ]
    }
   ],
   "source": [
    "def find_odd_range(i,j):\n",
    "    final = []\n",
    "    for i in range(i,j):\n",
    "        if i % 2 != 0:\n",
    "            final.append(i)\n",
    "        else:\n",
    "            pass\n",
    "    return final\n",
    "\n",
    "print(find_odd_range(int(input('enter starting number:')),int(input('enter ending number:'))))         "
   ]
  },
  {
   "cell_type": "code",
   "execution_count": null,
   "id": "ead4ae0a",
   "metadata": {},
   "outputs": [],
   "source": [
    "#9. Python program to print positive numbers in a list"
   ]
  },
  {
   "cell_type": "code",
   "execution_count": 24,
   "id": "a24ba694",
   "metadata": {},
   "outputs": [
    {
     "name": "stdout",
     "output_type": "stream",
     "text": [
      "[87, 99, 11, 92, 5]\n"
     ]
    }
   ],
   "source": [
    "def find_positive(l1):\n",
    "    final = []\n",
    "    J = len(l1)\n",
    "    for i in l1[0:J]:\n",
    "        if i > 0:\n",
    "            final.append(i)\n",
    "        else:\n",
    "            pass\n",
    "    return final\n",
    "\n",
    "print(find_positive([-4,87,99,11,-88,92,5]))            "
   ]
  },
  {
   "cell_type": "code",
   "execution_count": null,
   "id": "16cd10de",
   "metadata": {},
   "outputs": [],
   "source": [
    "#10. Python program to print negative numbers in a list"
   ]
  },
  {
   "cell_type": "code",
   "execution_count": 26,
   "id": "a4e2166f",
   "metadata": {},
   "outputs": [
    {
     "name": "stdout",
     "output_type": "stream",
     "text": [
      "[-4, -88]\n"
     ]
    }
   ],
   "source": [
    "def find_negitive(l1):\n",
    "    final = []\n",
    "    J = len(l1)\n",
    "    for i in l1[0:J]:\n",
    "        if i < 0:\n",
    "            final.append(i)\n",
    "        else:\n",
    "            pass\n",
    "    return final\n",
    "\n",
    "print(find_negitive([-4,87,99,11,-88,92,5]))            "
   ]
  },
  {
   "cell_type": "code",
   "execution_count": null,
   "id": "aea4ef92",
   "metadata": {},
   "outputs": [],
   "source": [
    "#11. Python program to print all positive numbers in a range"
   ]
  },
  {
   "cell_type": "code",
   "execution_count": 27,
   "id": "132bffd9",
   "metadata": {},
   "outputs": [
    {
     "name": "stdout",
     "output_type": "stream",
     "text": [
      "enter starting number:-5\n",
      "enter ending number:9\n",
      "[1, 2, 3, 4, 5, 6, 7, 8]\n"
     ]
    }
   ],
   "source": [
    "def find_positive_range(i,j):\n",
    "    final = []\n",
    "    for i in range(i,j):\n",
    "        if i > 0:\n",
    "            final.append(i)\n",
    "        else:\n",
    "            pass\n",
    "    return final\n",
    "\n",
    "print(find_positive_range(int(input('enter starting number:')),int(input('enter ending number:'))))  "
   ]
  }
 ],
 "metadata": {
  "kernelspec": {
   "display_name": "Python 3 (ipykernel)",
   "language": "python",
   "name": "python3"
  },
  "language_info": {
   "codemirror_mode": {
    "name": "ipython",
    "version": 3
   },
   "file_extension": ".py",
   "mimetype": "text/x-python",
   "name": "python",
   "nbconvert_exporter": "python",
   "pygments_lexer": "ipython3",
   "version": "3.9.12"
  }
 },
 "nbformat": 4,
 "nbformat_minor": 5
}
