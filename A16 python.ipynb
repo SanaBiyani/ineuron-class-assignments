{
 "cells": [
  {
   "cell_type": "code",
   "execution_count": null,
   "id": "72576443",
   "metadata": {},
   "outputs": [],
   "source": [
    "#1. Python Program for Cycle Sort"
   ]
  },
  {
   "cell_type": "code",
   "execution_count": 82,
   "id": "407bcd8e",
   "metadata": {},
   "outputs": [
    {
     "name": "stdout",
     "output_type": "stream",
     "text": [
      "1 2 3 5 8 9 11 12 "
     ]
    }
   ],
   "source": [
    "# Python program to implement cycle sort\n",
    " \n",
    "def cycle_sort(arr):\n",
    "  w = 0\n",
    "  for i in range(0, len(arr) - 1):\n",
    "    item = arr[i]\n",
    "    x = i\n",
    "    for j in range(i + 1, len(arr)):\n",
    "      if arr[j] < item:\n",
    "        x += 1\n",
    "    if x == i:\n",
    "      continue\n",
    "    while item == arr[x]:\n",
    "      x += 1\n",
    "    arr[x], item = item, arr[x]\n",
    "    w += 1\n",
    "    while x != i:\n",
    "      x = i\n",
    "      for j in range(i + 1, len(arr)):\n",
    "        if arr[j] < item:\n",
    "          x += 1\n",
    "      while item == arr[x]:\n",
    "        x += 1\n",
    "      arr[x], item = item, arr[x]\n",
    "      w += 1\n",
    "   \n",
    "  return w\n",
    "   \n",
    "\n",
    "arr = [1, 8, 3, 9, 11, 12, 2, 5 ]\n",
    "l = len(arr)\n",
    "cycle_sort(arr)\n",
    "for i in range(0, l) :\n",
    "    print(arr[i], end = ' ')\n",
    " "
   ]
  },
  {
   "cell_type": "code",
   "execution_count": 57,
   "id": "8ce30b98",
   "metadata": {},
   "outputs": [],
   "source": [
    "#2. Python Program for Stooge Sort"
   ]
  },
  {
   "cell_type": "code",
   "execution_count": 69,
   "id": "459ff4d0",
   "metadata": {},
   "outputs": [
    {
     "name": "stdout",
     "output_type": "stream",
     "text": [
      "1 2 3 4 5 "
     ]
    }
   ],
   "source": [
    "def stooge_sort(arr, x, y):\n",
    "    if x >= y:\n",
    "        return\n",
    "    if arr[x]>arr[y]:\n",
    "        t = arr[x]\n",
    "        arr[x] = arr[y]\n",
    "        arr[y] = t\n",
    "\n",
    "    if y-x+1 > 2:\n",
    "        t = (int)((y-x+1)/3)\n",
    "        stooge_sort(arr, x, (y-t))\n",
    "        stooge_sort(arr, x+t, (y))\n",
    "        stooge_sort(arr, x, (y-t))\n",
    "\n",
    "arr = [2, 4, 5, 3, 1]\n",
    "l = len(arr)\n",
    "\n",
    "stooge_sort(arr, 0, l-1)\n",
    "\n",
    "for i in range(0, l):\n",
    "    print(arr[i], end = ' ')\n",
    "\n",
    "\n"
   ]
  },
  {
   "cell_type": "code",
   "execution_count": 5,
   "id": "10a37bd9",
   "metadata": {},
   "outputs": [
    {
     "name": "stdout",
     "output_type": "stream",
     "text": [
      "  ***\n",
      " *\n",
      " *\n",
      " * ***\n",
      " *   *\n",
      " *   *\n",
      "  ***\n"
     ]
    }
   ],
   "source": [
    "#3. Python Program to print the pattern ‘G’\n",
    "print('  ***')\n",
    "print(' *')\n",
    "print(' *')\n",
    "print(' * ***')\n",
    "print(' *   *')\n",
    "print(' *   *')\n",
    "print('  ***')"
   ]
  },
  {
   "cell_type": "code",
   "execution_count": null,
   "id": "07fc19ee",
   "metadata": {},
   "outputs": [],
   "source": [
    "#4. Python Program to print an Inverted Star Pattern"
   ]
  },
  {
   "cell_type": "code",
   "execution_count": 6,
   "id": "4fb688b1",
   "metadata": {},
   "outputs": [
    {
     "name": "stdout",
     "output_type": "stream",
     "text": [
      "*****\n",
      " ****\n",
      "  ***\n",
      "   **\n",
      "    *\n"
     ]
    }
   ],
   "source": [
    "print('*****')\n",
    "print(' ****')\n",
    "print('  ***')\n",
    "print('   **')\n",
    "print('    *')"
   ]
  },
  {
   "cell_type": "code",
   "execution_count": null,
   "id": "2ad0402f",
   "metadata": {},
   "outputs": [],
   "source": [
    "#5. Python Program to print double sided stair-case pattern"
   ]
  },
  {
   "cell_type": "code",
   "execution_count": 10,
   "id": "a34c5149",
   "metadata": {},
   "outputs": [
    {
     "name": "stdout",
     "output_type": "stream",
     "text": [
      "         * *         \n",
      "         * *         \n",
      "       * * * *       \n",
      "       * * * *       \n",
      "     * * * * * *     \n",
      "     * * * * * *     \n",
      "   * * * * * * * *   \n",
      "   * * * * * * * *   \n",
      " * * * * * * * * * * \n",
      " * * * * * * * * * * \n"
     ]
    }
   ],
   "source": [
    "print('         * *         ')\n",
    "print('         * *         ')\n",
    "print('       * * * *       ')\n",
    "print('       * * * *       ')\n",
    "print('     * * * * * *     ')\n",
    "print('     * * * * * *     ')\n",
    "print('   * * * * * * * *   ')\n",
    "print('   * * * * * * * *   ')\n",
    "print(' * * * * * * * * * * ')\n",
    "print(' * * * * * * * * * * ')"
   ]
  },
  {
   "cell_type": "code",
   "execution_count": null,
   "id": "4aaf9275",
   "metadata": {},
   "outputs": [],
   "source": [
    "#6. Python Program to print with your own font"
   ]
  },
  {
   "cell_type": "code",
   "execution_count": 19,
   "id": "4e3f80ba",
   "metadata": {},
   "outputs": [
    {
     "name": "stdout",
     "output_type": "stream",
     "text": [
      "Enter text to print: Jarry\n",
      "0110 1010\n",
      "0110 0001\n",
      "0111 0010\n",
      "0111 0010\n",
      "0111 1001\n"
     ]
    }
   ],
   "source": [
    "t = input(\"Enter text to print: \")\n",
    "length = len(t)\n",
    "l = \"\"\n",
    "for i in range(0, length):\n",
    "    x= t[i]\n",
    "    x = x.upper()\n",
    "    if (x == \"A\"):\n",
    "        print('0110 0001')\n",
    "    elif (x == \"B\"):\n",
    "        print('0110 0010')\n",
    "    elif (x == \"C\"):\n",
    "        print(\"0110 0011 \")\n",
    "    elif (x == \"D\"):\n",
    "        print(\"0110 0100\")\n",
    "    elif (x == \"E\"):\n",
    "        print(\"0110 0101 \")\n",
    "    elif (x == \"F\"):\n",
    "        print(\"0110 0110\")\n",
    "    elif (x == \"G\"):\n",
    "        print(\"0110 0111\")\n",
    "    elif (x == \"H\"):\n",
    "        print(\"0110 1000\")\n",
    "    elif (x == \"I\"):\n",
    "        print('0110 1001')\n",
    "    elif (x == \"J\"):\n",
    "        print(\"0110 1010\")\n",
    "    elif (x == \"K\"):\n",
    "        print(\"0110 1011\")\n",
    "    elif (x == \"L\"):\n",
    "        print('0110 1100')\n",
    "    elif (x == \"M\"):\n",
    "        print('0110 1101')\n",
    "    elif (x == \"N\"):\n",
    "        print(\"0110 1110\")\n",
    "    elif (x == \"O\"):\n",
    "        print('0110 1111')\n",
    "    elif (x == \"P\"):\n",
    "        print('0111 0000')\n",
    "    elif (x == \"Q\"):\n",
    "        print('0111 0001')\n",
    "    elif (x == \"R\"):\n",
    "        print(\"0111 0010\")\n",
    "    elif (x == \"S\"):\n",
    "        print('0111 0011')\n",
    "    elif (x == \"T\"):\n",
    "        print('0111 0100')\n",
    "    elif (x == \"U\"):\n",
    "        print('0111 0101')\n",
    "    elif (x == \"V\"):\n",
    "        print('0111 0110')\n",
    "    elif (x == \"W\"):\n",
    "        print(\"0111 0111\")\n",
    "    elif (x == \"X\"):\n",
    "        print(\"0111 1000\")\n",
    "    elif (x == \"Y\"):\n",
    "        print('0111 1001')\n",
    "    elif (x == \"Z\"):\n",
    "        print('0111 1010')\n",
    "    elif (x == \" \"):\n",
    "        print(' ')"
   ]
  },
  {
   "cell_type": "code",
   "execution_count": 20,
   "id": "681c8804",
   "metadata": {},
   "outputs": [],
   "source": [
    "#7. Get Current Date and Time using Python"
   ]
  },
  {
   "cell_type": "code",
   "execution_count": 27,
   "id": "2522dfd0",
   "metadata": {},
   "outputs": [
    {
     "name": "stdout",
     "output_type": "stream",
     "text": [
      "2022-07-29 19:45:21.323969\n"
     ]
    }
   ],
   "source": [
    "import datetime \n",
    "\n",
    "x = datetime.datetime.now()\n",
    "print(x)"
   ]
  },
  {
   "cell_type": "code",
   "execution_count": 35,
   "id": "29fe30df",
   "metadata": {},
   "outputs": [
    {
     "name": "stdout",
     "output_type": "stream",
     "text": [
      "[datetime.date(2022, 7, 28), datetime.date(2022, 7, 29), datetime.date(2022, 7, 30)]\n"
     ]
    }
   ],
   "source": [
    "#8. Python | Find yesterday’s, today’s and tomorrow’s date\n",
    "from datetime import date,timedelta\n",
    "\n",
    "today = date.today()\n",
    "yesterday = date.today()-timedelta(1)\n",
    "tomorrow = date.today()+timedelta(1)\n",
    "print([yesterday,today,tomorrow])"
   ]
  },
  {
   "cell_type": "code",
   "execution_count": null,
   "id": "dc22c732",
   "metadata": {},
   "outputs": [],
   "source": [
    "#9. Python program to convert time from 12 hour to 24 hour format"
   ]
  },
  {
   "cell_type": "code",
   "execution_count": 41,
   "id": "9dc1641a",
   "metadata": {},
   "outputs": [
    {
     "name": "stdout",
     "output_type": "stream",
     "text": [
      "00:00:05 \n"
     ]
    }
   ],
   "source": [
    "def cnvrt224(time):\n",
    "    if time[-2:] == \"AM\" and time[:2] == \"12\":\n",
    "        return \"00\" + time[2:-2] \n",
    "    elif time[-2:] == \"AM\":\n",
    "        return time[:-2]\n",
    "    elif time[-2:] == \"PM\" and time[:2] == \"12\":\n",
    "        return time[:-2]\n",
    "         \n",
    "    else:\n",
    "        return str(int(time[:2]) + 12) + time[2:8]\n",
    "print(cnvrt224(\"12:00:05 AM\"))"
   ]
  }
 ],
 "metadata": {
  "kernelspec": {
   "display_name": "Python 3 (ipykernel)",
   "language": "python",
   "name": "python3"
  },
  "language_info": {
   "codemirror_mode": {
    "name": "ipython",
    "version": 3
   },
   "file_extension": ".py",
   "mimetype": "text/x-python",
   "name": "python",
   "nbconvert_exporter": "python",
   "pygments_lexer": "ipython3",
   "version": "3.9.12"
  }
 },
 "nbformat": 4,
 "nbformat_minor": 5
}
