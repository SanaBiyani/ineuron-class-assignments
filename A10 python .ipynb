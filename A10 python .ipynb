{
 "cells": [
  {
   "cell_type": "code",
   "execution_count": null,
   "id": "3dcedb8b",
   "metadata": {},
   "outputs": [],
   "source": [
    "#1.Python | Ways to remove a key from dictionary"
   ]
  },
  {
   "cell_type": "code",
   "execution_count": 7,
   "id": "d7bb5f55",
   "metadata": {},
   "outputs": [
    {
     "name": "stdout",
     "output_type": "stream",
     "text": [
      "{'Riya': 1, 'Diya': 2, 'Piya': 4, 'Siya': 5}\n",
      "{'Riya': 1, 'Piya': 4, 'Siya': 5}\n",
      "{'Riya': 1, 'Siya': 5}\n",
      "{'Piya': 4, 'Siya': 5}\n",
      "{'Riya': 1, 'Piya': 4}\n"
     ]
    }
   ],
   "source": [
    "u= {'Riya':1,'Diya':2,'Tiya':3,'Piya':4,'Siya':5}\n",
    "#way 1\n",
    "del u['Tiya']\n",
    "print(u)\n",
    "#way2\n",
    "u.pop('Diya')\n",
    "print(u)\n",
    "#way3\n",
    "uv= {key: val for key,val in u.items() if key != 'Piya'}\n",
    "print(uv)\n",
    "#way4\n",
    "a = {i: u[i] for i in u if i != 'Riya'}\n",
    "print(a)\n",
    "#way5\n",
    "y = {}\n",
    "for i, j in u.items():\n",
    "    if i != 'Siya':\n",
    "        y[i] = j\n",
    "print(y)"
   ]
  },
  {
   "cell_type": "code",
   "execution_count": null,
   "id": "51125a4b",
   "metadata": {},
   "outputs": [],
   "source": [
    "#2. Ways to sort list of dictionaries by values in Python – Using itemgetter"
   ]
  },
  {
   "cell_type": "code",
   "execution_count": 23,
   "id": "e503b0e6",
   "metadata": {},
   "outputs": [
    {
     "name": "stdout",
     "output_type": "stream",
     "text": [
      "[{'name': 'dimmy', 'age': 8}, {'name': 'tommy', 'age': 16}, {'name': 'gabby', 'age': 20}]\n"
     ]
    }
   ],
   "source": [
    "from operator import itemgetter\n",
    "p = [{\"name\": \"tommy\", \"age\": 16},\n",
    "       {\"name\": \"dimmy\", \"age\": 8},\n",
    "       {\"name\": \"gabby\", \"age\": 20}]\n",
    "print (sorted(p, key=itemgetter('age')))\n"
   ]
  },
  {
   "cell_type": "code",
   "execution_count": null,
   "id": "e3087fa1",
   "metadata": {},
   "outputs": [],
   "source": [
    "#3. Ways to sort list of dictionaries by values in Python – Using lambda function"
   ]
  },
  {
   "cell_type": "code",
   "execution_count": 25,
   "id": "306fdaad",
   "metadata": {},
   "outputs": [
    {
     "name": "stdout",
     "output_type": "stream",
     "text": [
      "[{'name': 'gabby', 'age': 20}, {'name': 'dimmy', 'age': 45}, {'name': 'tommy', 'age': 90}]\n"
     ]
    }
   ],
   "source": [
    "p = [{\"name\": \"tommy\", \"age\": 90},\n",
    "       {\"name\": \"dimmy\", \"age\": 45},\n",
    "       {\"name\": \"gabby\", \"age\": 20}]\n",
    "print(sorted(p, key=lambda i: i['age']))"
   ]
  },
  {
   "cell_type": "code",
   "execution_count": null,
   "id": "f47ba1aa",
   "metadata": {},
   "outputs": [],
   "source": [
    "#4. Python | Merging two Dictionaries"
   ]
  },
  {
   "cell_type": "code",
   "execution_count": 29,
   "id": "0df4b995",
   "metadata": {},
   "outputs": [
    {
     "name": "stdout",
     "output_type": "stream",
     "text": [
      "{'n': 'tommy', 'a': 90, 'name': 'dimmy', 'age': 45}\n"
     ]
    }
   ],
   "source": [
    "d1 = {\"n\": \"tommy\", \"a\": 90}\n",
    "d2 = {\"name\": \"dimmy\", \"age\": 45}\n",
    "d = d1|d2\n",
    "print(d)"
   ]
  },
  {
   "cell_type": "code",
   "execution_count": null,
   "id": "183503b2",
   "metadata": {},
   "outputs": [],
   "source": [
    "#5. Python – Convert key-values list to flat dictionary"
   ]
  },
  {
   "cell_type": "code",
   "execution_count": 31,
   "id": "3a88c3fb",
   "metadata": {
    "scrolled": true
   },
   "outputs": [
    {
     "name": "stdout",
     "output_type": "stream",
     "text": [
      "{'1': 'nersury', '2': 'lkg', '3': 'ukg'}\n"
     ]
    }
   ],
   "source": [
    "v= {'class' : ['nersury','lkg','ukg'],\n",
    "             'n' : ['1', '2', '3']}\n",
    "v = dict(zip(v['n'], v['class']))\n",
    "print(v)"
   ]
  },
  {
   "cell_type": "code",
   "execution_count": null,
   "id": "f125944d",
   "metadata": {},
   "outputs": [],
   "source": [
    "#6. Python – Insertion at the beginning in OrderedDict"
   ]
  },
  {
   "cell_type": "code",
   "execution_count": 51,
   "id": "2033e831",
   "metadata": {},
   "outputs": [
    {
     "name": "stdout",
     "output_type": "stream",
     "text": [
      "OrderedDict([('opq', 3), ('xyz', 1), ('abc', 2)])\n"
     ]
    }
   ],
   "source": [
    "from collections import OrderedDict\n",
    "d = OrderedDict([('xyz', 1), ('abc', 2)])\n",
    "d.update({'opq':3})\n",
    "d.move_to_end('opq', last = False)\n",
    "print (d)"
   ]
  },
  {
   "cell_type": "code",
   "execution_count": null,
   "id": "aafbab4b",
   "metadata": {},
   "outputs": [],
   "source": [
    "#7. Python | Check order of character in string using OrderedDict( )"
   ]
  },
  {
   "cell_type": "code",
   "execution_count": 50,
   "id": "ce3db715",
   "metadata": {},
   "outputs": [
    {
     "name": "stdout",
     "output_type": "stream",
     "text": [
      "yes\n"
     ]
    }
   ],
   "source": [
    "from collections import OrderedDict \n",
    "  \n",
    "string = 'bubutterterbutter'\n",
    "sstring='bu'\n",
    "d = OrderedDict.fromkeys(string) \n",
    "sstlen = 0\n",
    "for key,value in d.items(): \n",
    "    if key == sstring[sstlen]: \n",
    "        sstlen = sstlen + 1\n",
    "    if sstlen == len(sstring): \n",
    "        p = 'yes'\n",
    "        print(p)\n",
    "        break\n",
    "if p != 'yes':\n",
    "    print('no')\n"
   ]
  },
  {
   "cell_type": "code",
   "execution_count": null,
   "id": "7d7fe5b7",
   "metadata": {},
   "outputs": [],
   "source": [
    "#8. Dictionary and counter in Python to find winner of election"
   ]
  },
  {
   "cell_type": "code",
   "execution_count": 45,
   "id": "e7f87074",
   "metadata": {},
   "outputs": [
    {
     "name": "stdout",
     "output_type": "stream",
     "text": [
      "xyz\n"
     ]
    }
   ],
   "source": [
    "from collections import Counter\n",
    "vote = ([\"xyz\", \"lmn\", \"rst\", \"lmn\", \"xyz\", \"rst\", \"abc\", \"abc\", \"xyz\",\"lmn\", \"abc\", \"xyz\", \"xyz\"])\n",
    "t = Counter(vote)\n",
    "print(max(t))"
   ]
  },
  {
   "cell_type": "code",
   "execution_count": null,
   "id": "2c13aca1",
   "metadata": {},
   "outputs": [],
   "source": [
    "#9. Python – Append Dictionary Keys and Values ( In order ) in dictionary"
   ]
  },
  {
   "cell_type": "code",
   "execution_count": 33,
   "id": "97ed2c93",
   "metadata": {},
   "outputs": [
    {
     "name": "stdout",
     "output_type": "stream",
     "text": [
      "{'10': 'A', '20': 'B', '30': 'C', '40': 'D', '50': 'E', '60': 'F'}\n"
     ]
    }
   ],
   "source": [
    "d1 = {\"10\":\"A\", \"20\":\"B\", \"30\":\"C\"}\n",
    "d2 = {\"40\":\"D\", \"50\":\"E\", \"60\":\"F\"}\n",
    "\n",
    "d1.update(d2) \n",
    "print(d1)"
   ]
  },
  {
   "cell_type": "code",
   "execution_count": null,
   "id": "99ab8b24",
   "metadata": {},
   "outputs": [],
   "source": [
    "#10. Python | Sort Python Dictionaries by Key or Value"
   ]
  },
  {
   "cell_type": "code",
   "execution_count": 32,
   "id": "d1ee717a",
   "metadata": {},
   "outputs": [
    {
     "name": "stdout",
     "output_type": "stream",
     "text": [
      "[{'name': 'dimmy', 'age': 8}, {'name': 'gabby', 'age': 20}, {'name': 'tommy', 'age': 16}]\n"
     ]
    }
   ],
   "source": [
    "lis =p = [{\"name\": \"tommy\", \"age\": 16},\n",
    "       {\"name\": \"dimmy\", \"age\": 8},\n",
    "       {\"name\": \"gabby\", \"age\": 20}]\n",
    "print(sorted(lis, key=lambda i: i['name']))"
   ]
  }
 ],
 "metadata": {
  "kernelspec": {
   "display_name": "Python 3 (ipykernel)",
   "language": "python",
   "name": "python3"
  },
  "language_info": {
   "codemirror_mode": {
    "name": "ipython",
    "version": 3
   },
   "file_extension": ".py",
   "mimetype": "text/x-python",
   "name": "python",
   "nbconvert_exporter": "python",
   "pygments_lexer": "ipython3",
   "version": "3.9.12"
  }
 },
 "nbformat": 4,
 "nbformat_minor": 5
}
