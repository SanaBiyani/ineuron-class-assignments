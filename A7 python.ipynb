{
 "cells": [
  {
   "cell_type": "code",
   "execution_count": null,
   "id": "a4b71064",
   "metadata": {},
   "outputs": [],
   "source": [
    "#1. Reverse words in a given String in Python"
   ]
  },
  {
   "cell_type": "code",
   "execution_count": 3,
   "id": "b85ec43c",
   "metadata": {},
   "outputs": [
    {
     "name": "stdout",
     "output_type": "stream",
     "text": [
      "edcba\n"
     ]
    }
   ],
   "source": [
    "string = 'abcde'\n",
    "print(string[::-1])"
   ]
  },
  {
   "cell_type": "code",
   "execution_count": null,
   "id": "cf3c0747",
   "metadata": {},
   "outputs": [],
   "source": [
    "#2. Ways to remove i’th character from string in Python"
   ]
  },
  {
   "cell_type": "code",
   "execution_count": 22,
   "id": "80f67287",
   "metadata": {},
   "outputs": [
    {
     "name": "stdout",
     "output_type": "stream",
     "text": [
      "abce\n",
      "abce\n",
      "abce\n"
     ]
    }
   ],
   "source": [
    "\n",
    "string = 'abcde'\n",
    "#remove 3rd charcter\n",
    "#way1\n",
    "i  = 3\n",
    "print(string[0:i]+string[i+1:len(string)])\n",
    "#way2\n",
    "print(string.replace('d',''))\n",
    "#way3\n",
    "new_str = ''.join([string[i] for i in range(len(string)) if i != 3])\n",
    "print(new_str)"
   ]
  },
  {
   "cell_type": "code",
   "execution_count": 23,
   "id": "ba8f6c85",
   "metadata": {},
   "outputs": [
    {
     "name": "stdout",
     "output_type": "stream",
     "text": [
      "is present\n"
     ]
    }
   ],
   "source": [
    "#3. Python | Check if a Substring is Present in a Given String\n",
    "string = 'hello world'\n",
    "substring = 'worl'\n",
    "if substring in string:\n",
    "    print('is present')\n",
    "else:\n",
    "    print(\"isn't present\")"
   ]
  },
  {
   "cell_type": "code",
   "execution_count": 19,
   "id": "cde8d156",
   "metadata": {},
   "outputs": [
    {
     "name": "stdout",
     "output_type": "stream",
     "text": [
      "{'toi': 4, 'gif': 3}\n"
     ]
    }
   ],
   "source": [
    "#4. Python – Words Frequency in String Shorthands\n",
    "from collections import Counter\n",
    "string = 'toi gif toi gif gif toi toi'\n",
    "final = Counter(string.split())\n",
    "print(dict(final)) "
   ]
  },
  {
   "cell_type": "code",
   "execution_count": null,
   "id": "d97451ed",
   "metadata": {},
   "outputs": [],
   "source": [
    "#5. Python – Convert Snake case to Pascal case"
   ]
  },
  {
   "cell_type": "code",
   "execution_count": 27,
   "id": "0b2c6e6a",
   "metadata": {},
   "outputs": [
    {
     "name": "stdout",
     "output_type": "stream",
     "text": [
      "HelloWorld\n"
     ]
    }
   ],
   "source": [
    "x = 'hello_world'\n",
    "x=x.title()\n",
    "x=x.replace('_','')\n",
    "print(x)"
   ]
  },
  {
   "cell_type": "code",
   "execution_count": 43,
   "id": "547cc696",
   "metadata": {},
   "outputs": [
    {
     "name": "stdout",
     "output_type": "stream",
     "text": [
      "4\n",
      "4\n",
      "4\n",
      "4\n"
     ]
    }
   ],
   "source": [
    "#6. Find length of a string in python (4 ways)\n",
    "string = 'abcd'\n",
    "#way1\n",
    "print(len(string))\n",
    "#way2\n",
    "g = 0\n",
    "for i in string:\n",
    "    g = g + 1\n",
    "print(g)\n",
    "#way3\n",
    "d = 0\n",
    "while string[d:]:\n",
    "    d += 1\n",
    "print(d)\n",
    "#way4\n",
    "if len(string) == 0: \n",
    "        print(0)\n",
    "else:\n",
    "    random = 'ab'\n",
    "    print(((random).join(string)).count(random) + 1)\n"
   ]
  },
  {
   "cell_type": "code",
   "execution_count": null,
   "id": "c0e5b7a0",
   "metadata": {},
   "outputs": [],
   "source": [
    "#7. Python program to print even length words in a string"
   ]
  },
  {
   "cell_type": "code",
   "execution_count": 47,
   "id": "a07f01df",
   "metadata": {},
   "outputs": [
    {
     "name": "stdout",
     "output_type": "stream",
     "text": [
      "['even', 'even']\n"
     ]
    }
   ],
   "source": [
    "string = 'odd even odd even odd'\n",
    "v = string.split()\n",
    "l1 = []\n",
    "for i in v :\n",
    "    if len(i) % 2 ==0 :\n",
    "        l1.append(i)\n",
    "    else:\n",
    "        pass\n",
    "print(l1)"
   ]
  },
  {
   "cell_type": "code",
   "execution_count": 76,
   "id": "4398a27c",
   "metadata": {},
   "outputs": [
    {
     "name": "stdout",
     "output_type": "stream",
     "text": [
      "Accepted\n",
      "Not Accepted\n"
     ]
    }
   ],
   "source": [
    "#8. Python program to accept the strings which contains all vowels\n",
    "def check_vowels (m):\n",
    "    m = m.upper()\n",
    "    vowels = set(\"AIEOU\")\n",
    "    s = set({})\n",
    "    for char in m:\n",
    "        if char in vowels :\n",
    "            s.add(char)\n",
    "        else:\n",
    "            pass\n",
    "             \n",
    "    if len(s) == len(vowels) :\n",
    "        return(\"Accepted\")\n",
    "    else:\n",
    "        return(\"Not Accepted\")\n",
    " \n",
    "print(check_vowels('aEiOu'))\n",
    "print(check_vowels('aEiu'))\n",
    "\n",
    "    "
   ]
  },
  {
   "cell_type": "code",
   "execution_count": null,
   "id": "32f6866c",
   "metadata": {},
   "outputs": [],
   "source": [
    "#9. Python | Count the Number of matching characters in a pair of string"
   ]
  },
  {
   "cell_type": "code",
   "execution_count": 82,
   "id": "fe82133e",
   "metadata": {},
   "outputs": [
    {
     "name": "stdout",
     "output_type": "stream",
     "text": [
      "2\n"
     ]
    }
   ],
   "source": [
    "def count(s1, s2): \n",
    "    l,o = 0, 0\n",
    "    for i in str1:    \n",
    "        if s2.find(i)>= 0 and l == s1.find(i): \n",
    "            o += 1\n",
    "        l += 1\n",
    "    return o\n",
    "  \n",
    "s1 ='$8oka'\n",
    "s2 ='blj$o' \n",
    "print(count(s1, s2))"
   ]
  },
  {
   "cell_type": "code",
   "execution_count": null,
   "id": "9264685c",
   "metadata": {},
   "outputs": [],
   "source": [
    "#10. Remove all duplicates from a given string in Python"
   ]
  },
  {
   "cell_type": "code",
   "execution_count": 79,
   "id": "9cd2cde2",
   "metadata": {},
   "outputs": [
    {
     "name": "stdout",
     "output_type": "stream",
     "text": [
      "ieyh ntvlop\n"
     ]
    }
   ],
   "source": [
    "string = 'i love pypython'\n",
    "s = string.replace(' ','')\n",
    "new_str = set(list(string))\n",
    "h = ''\n",
    "for i in new_str:\n",
    "    h = h + i\n",
    "print(h)"
   ]
  },
  {
   "cell_type": "code",
   "execution_count": null,
   "id": "9efaed92",
   "metadata": {},
   "outputs": [],
   "source": []
  }
 ],
 "metadata": {
  "kernelspec": {
   "display_name": "Python 3 (ipykernel)",
   "language": "python",
   "name": "python3"
  },
  "language_info": {
   "codemirror_mode": {
    "name": "ipython",
    "version": 3
   },
   "file_extension": ".py",
   "mimetype": "text/x-python",
   "name": "python",
   "nbconvert_exporter": "python",
   "pygments_lexer": "ipython3",
   "version": "3.9.12"
  }
 },
 "nbformat": 4,
 "nbformat_minor": 5
}
