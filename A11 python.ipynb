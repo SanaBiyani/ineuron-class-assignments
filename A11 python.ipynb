{
 "cells": [
  {
   "cell_type": "code",
   "execution_count": null,
   "id": "e24045c4",
   "metadata": {},
   "outputs": [],
   "source": [
    "#1. Python – Sort Dictionary key and values List"
   ]
  },
  {
   "cell_type": "code",
   "execution_count": 13,
   "id": "49add264",
   "metadata": {},
   "outputs": [
    {
     "name": "stdout",
     "output_type": "stream",
     "text": [
      "{'a': [6, 8], 'b': [2, 9], 'c': [3, 7]}\n"
     ]
    }
   ],
   "source": [
    "d = {'b':[2,9],'c':[7,3],'a':[8,6]}\n",
    "x = dict()\n",
    "for i in sorted(d):\n",
    "    x[i] = sorted(d[i])\n",
    "print(x)"
   ]
  },
  {
   "cell_type": "code",
   "execution_count": null,
   "id": "4c7aef05",
   "metadata": {},
   "outputs": [],
   "source": [
    "#2. Handling missing keys in Python dictionaries"
   ]
  },
  {
   "cell_type": "code",
   "execution_count": 15,
   "id": "cfb95715",
   "metadata": {},
   "outputs": [
    {
     "name": "stdout",
     "output_type": "stream",
     "text": [
      "1\n",
      "Not Found\n"
     ]
    }
   ],
   "source": [
    "d = {'a':1,'b':2}\n",
    "print(d.get('a', 'Not Found'))\n",
    "print(d.get('c', 'Not Found'))"
   ]
  },
  {
   "cell_type": "code",
   "execution_count": null,
   "id": "0e6bc88e",
   "metadata": {},
   "outputs": [],
   "source": [
    "#3. Python dictionary keys having multiple inputs "
   ]
  },
  {
   "cell_type": "code",
   "execution_count": 16,
   "id": "8766f4c1",
   "metadata": {},
   "outputs": [
    {
     "name": "stdout",
     "output_type": "stream",
     "text": [
      "{(10, 20, 30): 0, (5, 2, 4): 3}\n"
     ]
    }
   ],
   "source": [
    "import random as rn\n",
    "d = {}\n",
    "x, y, z = 10, 20, 30\n",
    "d[x, y, z] = x + y - z;\n",
    " \n",
    "x, y, z = 5, 2, 4\n",
    "d[x, y, z] = x + y - z;\n",
    "print(d)"
   ]
  },
  {
   "cell_type": "code",
   "execution_count": 17,
   "id": "ff1aceb7",
   "metadata": {},
   "outputs": [],
   "source": [
    "#4. Print anagrams together in Python using List and Dictionary"
   ]
  },
  {
   "cell_type": "code",
   "execution_count": 21,
   "id": "8b1411df",
   "metadata": {},
   "outputs": [
    {
     "name": "stdout",
     "output_type": "stream",
     "text": [
      "cat tac act dog god \n"
     ]
    }
   ],
   "source": [
    "d = ['cat', 'dog', 'tac', 'god', 'act']\n",
    "d1 = {}\n",
    "for i in d:\n",
    "    k = ''.join(sorted(i))\n",
    "    if k in d1.keys():\n",
    "        d1[k].append(i)\n",
    "    else:\n",
    "        d1[k] = []\n",
    "        d1[k].append(i)\n",
    "o = \"\"\n",
    "for k,v in d1.items():\n",
    "    o = o + ' '.join(v) + ' '\n",
    "print(o)"
   ]
  },
  {
   "cell_type": "code",
   "execution_count": null,
   "id": "9992ebaa",
   "metadata": {},
   "outputs": [],
   "source": [
    "#5. K’th Non-repeating Character in Python using List Comprehension and OrderedDict"
   ]
  },
  {
   "cell_type": "code",
   "execution_count": 29,
   "id": "86554604",
   "metadata": {},
   "outputs": [
    {
     "name": "stdout",
     "output_type": "stream",
     "text": [
      "s\n"
     ]
    }
   ],
   "source": [
    "from collections import OrderedDict \n",
    "st = \"butterisbetter\"\n",
    "k = 3\n",
    "d=OrderedDict.fromkeys(st,0) \n",
    "for i in st:\n",
    "        d[i]+=1\n",
    "nrd = [key for (key,value) in d.items() if value==1] \n",
    "if len(nrd) < k: \n",
    "    print('Less than k non-repeating characters in string')\n",
    "else: \n",
    "    print(nrd[k-1] )"
   ]
  },
  {
   "cell_type": "code",
   "execution_count": null,
   "id": "a1771628",
   "metadata": {},
   "outputs": [],
   "source": [
    "#6. Check if binary representations of two numbers are anagram"
   ]
  },
  {
   "cell_type": "code",
   "execution_count": 40,
   "id": "4e78f320",
   "metadata": {},
   "outputs": [
    {
     "name": "stdout",
     "output_type": "stream",
     "text": [
      "is anagram\n"
     ]
    }
   ],
   "source": [
    "from collections import Counter\n",
    "\n",
    "n1 = 9\n",
    "n2 = 12\n",
    "b1 = Counter(bin(n1))\n",
    "b2 = Counter(bin(n2))\n",
    "y = 0\n",
    "for i in b1:\n",
    "    if b1[i] == b2[i]:\n",
    "        y = y+1\n",
    "    else:\n",
    "        pass\n",
    "if y == 0:\n",
    "    print(\"isn't anagram\")\n",
    "else :\n",
    "    print(\"is anagram\")"
   ]
  },
  {
   "cell_type": "code",
   "execution_count": null,
   "id": "be5fd246",
   "metadata": {},
   "outputs": [],
   "source": [
    "#7Python Counter to find the  size of largest subset of anagram words"
   ]
  },
  {
   "cell_type": "code",
   "execution_count": 41,
   "id": "ee896de4",
   "metadata": {},
   "outputs": [
    {
     "name": "stdout",
     "output_type": "stream",
     "text": [
      "3\n"
     ]
    }
   ],
   "source": [
    "from collections import Counter\n",
    "a = 'ant magenta magnate tan gnamate'\n",
    "a = a.split(' ')\n",
    "for i in range(0,len(a)):\n",
    "    a[i]=''.join(sorted(a[i]))\n",
    "f = Counter(a)\n",
    "print(max(f.values()))"
   ]
  },
  {
   "cell_type": "code",
   "execution_count": null,
   "id": "bc9b4a0b",
   "metadata": {},
   "outputs": [],
   "source": [
    "#8. Python | Remove all duplicates words from a given sentence"
   ]
  },
  {
   "cell_type": "code",
   "execution_count": 51,
   "id": "49e3d258",
   "metadata": {},
   "outputs": [
    {
     "name": "stdout",
     "output_type": "stream",
     "text": [
      "['fly', 'kite']\n"
     ]
    }
   ],
   "source": [
    "string ='kite kite kite fly'\n",
    "s = string.split(' ')\n",
    "s = list(set(s))\n",
    "print(s)"
   ]
  },
  {
   "cell_type": "code",
   "execution_count": null,
   "id": "e83d4a1a",
   "metadata": {},
   "outputs": [],
   "source": [
    "#9. Python Dictionary to find mirror characters in a string"
   ]
  },
  {
   "cell_type": "code",
   "execution_count": 52,
   "id": "fac9446b",
   "metadata": {},
   "outputs": [
    {
     "name": "stdout",
     "output_type": "stream",
     "text": [
      "paizwlc\n"
     ]
    }
   ],
   "source": [
    "word = 'paradox'\n",
    "k = 3\n",
    "o = 'abcdefghijklmnopqrstuvwxyz'\n",
    "r ='zyxwvutsrqponmlkjihgfedcba'\n",
    "dc= dict(zip(o,r))\n",
    "pre = word[0:k-1]\n",
    "post = word[k-1:]\n",
    "mirror = ''\n",
    "for i in range(0,len(post)):\n",
    "    mirror = mirror + dc[post[i]]\n",
    "print (pre + mirror)"
   ]
  },
  {
   "cell_type": "code",
   "execution_count": null,
   "id": "72c02655",
   "metadata": {},
   "outputs": [],
   "source": [
    "#10. Counting the frequencies in a list using dictionary in Python"
   ]
  },
  {
   "cell_type": "code",
   "execution_count": 53,
   "id": "7b1bdedf",
   "metadata": {},
   "outputs": [
    {
     "name": "stdout",
     "output_type": "stream",
     "text": [
      "Counter({1: 5, 2: 4, 3: 3, 4: 3, 5: 2})\n"
     ]
    }
   ],
   "source": [
    "l = [1, 1, 1, 5, 5, 3, 1, 3, 3, 1,\n",
    "                  4, 4, 4, 2, 2, 2, 2]\n",
    "from collections import Counter\n",
    "print(Counter(l))"
   ]
  },
  {
   "cell_type": "code",
   "execution_count": null,
   "id": "1dc26cdd",
   "metadata": {},
   "outputs": [],
   "source": []
  }
 ],
 "metadata": {
  "kernelspec": {
   "display_name": "Python 3 (ipykernel)",
   "language": "python",
   "name": "python3"
  },
  "language_info": {
   "codemirror_mode": {
    "name": "ipython",
    "version": 3
   },
   "file_extension": ".py",
   "mimetype": "text/x-python",
   "name": "python",
   "nbconvert_exporter": "python",
   "pygments_lexer": "ipython3",
   "version": "3.9.12"
  }
 },
 "nbformat": 4,
 "nbformat_minor": 5
}
