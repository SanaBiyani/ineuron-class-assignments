{
 "cells": [
  {
   "cell_type": "code",
   "execution_count": null,
   "id": "fa59f416",
   "metadata": {},
   "outputs": [],
   "source": [
    "#1. Python – Join Tuples if similar initial element"
   ]
  },
  {
   "cell_type": "code",
   "execution_count": 3,
   "id": "0f36e530",
   "metadata": {},
   "outputs": [
    {
     "name": "stdout",
     "output_type": "stream",
     "text": [
      "[(5, 6, 7, 8), (6, 10), (7, 13)]\n"
     ]
    }
   ],
   "source": [
    "l = [(5, 6), (5, 7), (5, 8), (6, 10), (7, 13)] \n",
    "l1 = []\n",
    "for i in l:                                          \n",
    "    if l1 and  l1[-1][0] == i[0]:             \n",
    "        l1[-1].extend(i[1:])                       \n",
    "    else:\n",
    "        l1.append([j for j in i])    \n",
    "l1 = list(map(tuple, l1))\n",
    "print(l1)"
   ]
  },
  {
   "cell_type": "code",
   "execution_count": null,
   "id": "374e4502",
   "metadata": {},
   "outputs": [],
   "source": [
    "#2. Python – Extract digits from Tuple list"
   ]
  },
  {
   "cell_type": "code",
   "execution_count": 24,
   "id": "312b0b8d",
   "metadata": {},
   "outputs": [
    {
     "name": "stdout",
     "output_type": "stream",
     "text": [
      "[2, 9, 3, 5, 1]\n"
     ]
    }
   ],
   "source": [
    "import re\n",
    "l = [(25, 13), (22, 19)]\n",
    "t = re.sub(r'[\\[\\]\\(\\), ]', '', str(l))\n",
    "final = []\n",
    "for ele in set(t):\n",
    "    final.append(int(float(ele)))\n",
    "print(final)"
   ]
  },
  {
   "cell_type": "code",
   "execution_count": null,
   "id": "66f62348",
   "metadata": {},
   "outputs": [],
   "source": [
    "#3. Python – All pair combinations of 2 tuples"
   ]
  },
  {
   "cell_type": "code",
   "execution_count": 26,
   "id": "0cd9d8d6",
   "metadata": {},
   "outputs": [
    {
     "name": "stdout",
     "output_type": "stream",
     "text": [
      "[(9, 7), (9, 5), (6, 7), (6, 5), (7, 9), (7, 6), (5, 9), (5, 6)]\n"
     ]
    }
   ],
   "source": [
    "from itertools import chain, product\n",
    "t1 = (9, 6)\n",
    "t2 = (7, 5)\n",
    "final= list(chain(product(t1, t2), product(t2, t1)))\n",
    "print(final)"
   ]
  },
  {
   "cell_type": "code",
   "execution_count": null,
   "id": "71282ddb",
   "metadata": {},
   "outputs": [],
   "source": [
    "#4. Python – Remove Tuples of Length K"
   ]
  },
  {
   "cell_type": "code",
   "execution_count": 42,
   "id": "a3e6f02e",
   "metadata": {},
   "outputs": [
    {
     "name": "stdout",
     "output_type": "stream",
     "text": [
      "[(4,), (8, 6, 7), (1,), (3, 4, 6, 7)]\n"
     ]
    }
   ],
   "source": [
    "l = [(4, 5), (4, ), (8, 6, 7), (1, ), (3, 4, 6, 7)]\n",
    "K = 2\n",
    "final = []\n",
    "for i in l:\n",
    "    if len(i) != K:\n",
    "        final.append(i)\n",
    "print(final)"
   ]
  },
  {
   "cell_type": "code",
   "execution_count": null,
   "id": "779f9f05",
   "metadata": {},
   "outputs": [],
   "source": [
    "#5. Sort a list of tuples by second Item"
   ]
  },
  {
   "cell_type": "code",
   "execution_count": 7,
   "id": "1021a270",
   "metadata": {},
   "outputs": [
    {
     "name": "stdout",
     "output_type": "stream",
     "text": [
      "[('256', 5), ('452', 10), ('135', 15), ('100', 20)]\n"
     ]
    }
   ],
   "source": [
    "l = [('452', 10), ('256', 5), ('100', 20), ('135', 15)]\n",
    "final = sorted(l,key=lambda x: x[1])\n",
    "print(final)"
   ]
  },
  {
   "cell_type": "code",
   "execution_count": null,
   "id": "55cf6880",
   "metadata": {},
   "outputs": [],
   "source": [
    "#6. Python program to Order Tuples using external List"
   ]
  },
  {
   "cell_type": "code",
   "execution_count": 23,
   "id": "f339108c",
   "metadata": {},
   "outputs": [
    {
     "name": "stdout",
     "output_type": "stream",
     "text": [
      "[('d', 7), ('b', 3), ('a', 10), ('c', 8)]\n"
     ]
    }
   ],
   "source": [
    "t = (('a', 10), ('b', 3), ('c', 8), ('d', 7)) \n",
    "l = ['d', 'b', 'a', 'c']\n",
    "tl = dict(t)\n",
    "final = [(key, tl[key]) for key in l]\n",
    "print(final)"
   ]
  },
  {
   "cell_type": "code",
   "execution_count": 18,
   "id": "e76d1f44",
   "metadata": {},
   "outputs": [],
   "source": [
    "#7. Python – Flatten tuple of List to tuple"
   ]
  },
  {
   "cell_type": "code",
   "execution_count": 29,
   "id": "e70fb291",
   "metadata": {},
   "outputs": [
    {
     "name": "stdout",
     "output_type": "stream",
     "text": [
      "(5, 6, 3, 8)\n"
     ]
    }
   ],
   "source": [
    "t = ([5], [6], [3], [8])\n",
    "x = []\n",
    "for i in t:\n",
    "    x =  x + i\n",
    "print(tuple(x))"
   ]
  },
  {
   "cell_type": "code",
   "execution_count": null,
   "id": "e70ff8eb",
   "metadata": {},
   "outputs": [],
   "source": [
    "#8. Python – Convert Nested Tuple to Custom Key Dictionary"
   ]
  },
  {
   "cell_type": "code",
   "execution_count": 35,
   "id": "373e376e",
   "metadata": {},
   "outputs": [
    {
     "name": "stdout",
     "output_type": "stream",
     "text": [
      "[{'key': 4, 'value': 'x', 'id': 10}, {'key': 3, 'value': 'y', 'id': 8}, {'key': 6, 'value': 'z', 'id': 10}]\n"
     ]
    }
   ],
   "source": [
    "t = ((4, 'x', 10), (3, 'y', 8), (6, 'z', 10))\n",
    "result = [{'key': i[0], 'value': i[1], 'id': i[2]} for i in t]\n",
    "print(result)"
   ]
  },
  {
   "cell_type": "code",
   "execution_count": null,
   "id": "705775bb",
   "metadata": {},
   "outputs": [],
   "source": [
    "#9. Python Program for Binary Search (Recursive and Iterative)"
   ]
  },
  {
   "cell_type": "code",
   "execution_count": 47,
   "id": "199552bd",
   "metadata": {},
   "outputs": [
    {
     "name": "stdout",
     "output_type": "stream",
     "text": [
      "Element is present at index 3\n",
      "Element is present at index 3\n"
     ]
    }
   ],
   "source": [
    "#recursive\n",
    "def binary_search(arr, l, r, x):\n",
    "    if r >= l:\n",
    "        mid = l + (r - l) \n",
    "        if arr[mid] == x:\n",
    "            return mid\n",
    "        elif arr[mid] > x:\n",
    "            return binary_search(arr, l, mid-1, x)\n",
    "        else:\n",
    "            return binary_search(arr, mid + 1, r, x)\n",
    "    else:\n",
    "        return -1\n",
    "arr = [ 2, 3, 4, 10, 40 ]\n",
    "find = 10\n",
    "result = binary_search(arr, 0, len(arr)-1, find)\n",
    "if result != -1:\n",
    "    print(\"Element is present at index \" + str(result))\n",
    "else:\n",
    "    print(\"Element is not present in array\")\n",
    "#iterative\n",
    "def binary_Search(arr, x):\n",
    "    l = 0\n",
    "    r = len(arr)-1\n",
    "    while l <= r:\n",
    "        mid = l + (r - l) // 2;\n",
    "        if arr[mid] == x:\n",
    "            return mid\n",
    "        elif arr[mid] < x:\n",
    "            l = mid + 1\n",
    "        else:\n",
    "            r = mid - 1\n",
    "    return -1\n",
    "arr = [ 2, 3, 4, 10, 40 ]\n",
    "find = 10\n",
    "result = binary_Search(arr, find)\n",
    "if result != -1:\n",
    "    print (\"Element is present at index \" + str(result))\n",
    "else:\n",
    "    print (\"Element is not present in array\")\n",
    "\n"
   ]
  },
  {
   "cell_type": "code",
   "execution_count": null,
   "id": "bf4640ef",
   "metadata": {},
   "outputs": [],
   "source": [
    "#10. Python Program for Linear Search"
   ]
  },
  {
   "cell_type": "code",
   "execution_count": 59,
   "id": "99866611",
   "metadata": {},
   "outputs": [
    {
     "name": "stdout",
     "output_type": "stream",
     "text": [
      "element found at index 6\n"
     ]
    }
   ],
   "source": [
    "arr = [10, 20, 80, 30, 60, 50, 110, 100, 130, 170]\n",
    "x = 110\n",
    "for i in range(len(arr)):\n",
    "    if arr[i] == x:\n",
    "        res = i\n",
    "        break\n",
    "    else:\n",
    "        res = -1\n",
    "\n",
    "\n",
    "if res == -1:\n",
    "    print(\"element not found at index \")\n",
    "else:\n",
    "    print(\"element found at index \"+ str(res))\n",
    "\n"
   ]
  },
  {
   "cell_type": "code",
   "execution_count": null,
   "id": "86b3a800",
   "metadata": {},
   "outputs": [],
   "source": [
    "#11. Python Program for Insertion Sort"
   ]
  },
  {
   "cell_type": "code",
   "execution_count": 61,
   "id": "ff26a1a6",
   "metadata": {},
   "outputs": [
    {
     "name": "stdout",
     "output_type": "stream",
     "text": [
      "[5, 19, 22, 34, 42, 54]\n"
     ]
    }
   ],
   "source": [
    "a = [34, 42, 22, 54, 19, 5]\n",
    "\n",
    "for i in range(1, len(ar)):\n",
    "    while a[i-1] > a[i] and i > 0:\n",
    "        a[i-1], a[i] = a[i], a[i-1]\n",
    "        i -= 1\n",
    "print(a)"
   ]
  }
 ],
 "metadata": {
  "kernelspec": {
   "display_name": "Python 3 (ipykernel)",
   "language": "python",
   "name": "python3"
  },
  "language_info": {
   "codemirror_mode": {
    "name": "ipython",
    "version": 3
   },
   "file_extension": ".py",
   "mimetype": "text/x-python",
   "name": "python",
   "nbconvert_exporter": "python",
   "pygments_lexer": "ipython3",
   "version": "3.9.12"
  }
 },
 "nbformat": 4,
 "nbformat_minor": 5
}
