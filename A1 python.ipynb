{
 "cells": [
  {
   "cell_type": "code",
   "execution_count": 1,
   "id": "34a02638",
   "metadata": {},
   "outputs": [],
   "source": [
    "#1. Write a Python program to find those numbers which are divisible by 7\n",
    "#and multiple of 5, between 1500 and 2700 (both included)."
   ]
  },
  {
   "cell_type": "code",
   "execution_count": 2,
   "id": "00f498d9",
   "metadata": {},
   "outputs": [
    {
     "name": "stdout",
     "output_type": "stream",
     "text": [
      " 1505\n",
      " 1540\n",
      " 1575\n",
      " 1610\n",
      " 1645\n",
      " 1680\n",
      " 1715\n",
      " 1750\n",
      " 1785\n",
      " 1820\n",
      " 1855\n",
      " 1890\n",
      " 1925\n",
      " 1960\n",
      " 1995\n",
      " 2030\n",
      " 2065\n",
      " 2100\n",
      " 2135\n",
      " 2170\n",
      " 2205\n",
      " 2240\n",
      " 2275\n",
      " 2310\n",
      " 2345\n",
      " 2380\n",
      " 2415\n",
      " 2450\n",
      " 2485\n",
      " 2520\n",
      " 2555\n",
      " 2590\n",
      " 2625\n",
      " 2660\n",
      " 2695\n"
     ]
    }
   ],
   "source": [
    "for i in range(1500,2701):\n",
    "    if (i%7==0) & (i%5==0):\n",
    "        print(\"\",i)\n",
    "\n",
    "    "
   ]
  },
  {
   "cell_type": "code",
   "execution_count": null,
   "id": "9a8dea44",
   "metadata": {},
   "outputs": [],
   "source": [
    "#2. Python program to add two numbers"
   ]
  },
  {
   "cell_type": "code",
   "execution_count": 3,
   "id": "5e068f0b",
   "metadata": {},
   "outputs": [
    {
     "data": {
      "text/plain": [
       "7"
      ]
     },
     "execution_count": 3,
     "metadata": {},
     "output_type": "execute_result"
    }
   ],
   "source": [
    "def get_sum(a,b):\n",
    "    return a + b\n",
    "get_sum(2,5)"
   ]
  },
  {
   "cell_type": "code",
   "execution_count": null,
   "id": "f4b277c7",
   "metadata": {},
   "outputs": [],
   "source": [
    "#3. Maximum of two numbers in Python"
   ]
  },
  {
   "cell_type": "code",
   "execution_count": 4,
   "id": "9e428600",
   "metadata": {},
   "outputs": [
    {
     "data": {
      "text/plain": [
       "5"
      ]
     },
     "execution_count": 4,
     "metadata": {},
     "output_type": "execute_result"
    }
   ],
   "source": [
    "def get_max(a,b):\n",
    "    return max(a,b)\n",
    "get_max(2,5)"
   ]
  },
  {
   "cell_type": "code",
   "execution_count": null,
   "id": "f31e6b50",
   "metadata": {},
   "outputs": [],
   "source": [
    "#4. Python Program for factorial of a number"
   ]
  },
  {
   "cell_type": "code",
   "execution_count": 7,
   "id": "d74e2a74",
   "metadata": {},
   "outputs": [
    {
     "data": {
      "text/plain": [
       "720"
      ]
     },
     "execution_count": 7,
     "metadata": {},
     "output_type": "execute_result"
    }
   ],
   "source": [
    "import math \n",
    "def get_fact(a):\n",
    "    return math.factorial(a)\n",
    "get_fact(5)"
   ]
  },
  {
   "cell_type": "code",
   "execution_count": null,
   "id": "5cee92c0",
   "metadata": {},
   "outputs": [],
   "source": [
    "#5. Python Program for simple interest "
   ]
  },
  {
   "cell_type": "code",
   "execution_count": 20,
   "id": "f38f7efb",
   "metadata": {},
   "outputs": [
    {
     "name": "stdout",
     "output_type": "stream",
     "text": [
      "enter principle:10\n",
      "enter rate:2\n",
      "enter time:2\n"
     ]
    },
    {
     "data": {
      "text/plain": [
       "10.4"
      ]
     },
     "execution_count": 20,
     "metadata": {},
     "output_type": "execute_result"
    }
   ],
   "source": [
    "\n",
    "def simple_interest(p,r,t):\n",
    "    return (float(p)*float(r)/100*float(t)) + float(p)\n",
    "\n",
    "simple_interest(input(\"enter principle:\"),\n",
    " input(\"enter rate:\"),\n",
    " input(\"enter time:\")) "
   ]
  },
  {
   "cell_type": "code",
   "execution_count": 28,
   "id": "0ec54588",
   "metadata": {},
   "outputs": [
    {
     "name": "stdout",
     "output_type": "stream",
     "text": [
      "enter priciple:1000\n",
      "enter rate:2\n",
      "enter number of times interest applied per time period:2\n",
      "enter time:2\n"
     ]
    },
    {
     "data": {
      "text/plain": [
       "1040.60401"
      ]
     },
     "execution_count": 28,
     "metadata": {},
     "output_type": "execute_result"
    }
   ],
   "source": [
    "#6. Python Program for compound interest\n",
    "def compound_interest(p,r,n,t):\n",
    "    return(float(p)*(1+(float(r)/100)/float(n))**(float(n)*float(t)))\n",
    "compound_interest(input(\"enter priciple:\"),\n",
    "                input(\"enter rate:\"),\n",
    "                input(\"enter number of times interest applied per time period:\"),\n",
    "                     input(\"enter time:\"))"
   ]
  },
  {
   "cell_type": "code",
   "execution_count": null,
   "id": "80535e00",
   "metadata": {},
   "outputs": [],
   "source": [
    "#7.Python Program to check Armstrong Number"
   ]
  },
  {
   "cell_type": "code",
   "execution_count": 11,
   "id": "2cc40644",
   "metadata": {},
   "outputs": [
    {
     "name": "stdout",
     "output_type": "stream",
     "text": [
      "enter number:153\n",
      "armstrong  number\n"
     ]
    }
   ],
   "source": [
    "total = 0\n",
    "o_num = input(\"enter number:\")\n",
    "num = list(map(int,o_num))\n",
    "for i in range(0,len(num)):\n",
    "    total = total + num[i]**len(num)\n",
    "    \n",
    "final= str(total)\n",
    "if final == o_num:\n",
    "    print(\"armstrong  number\")\n",
    "else:\n",
    "    print(\"not armstrong number \")"
   ]
  },
  {
   "cell_type": "code",
   "execution_count": null,
   "id": "b85d40f1",
   "metadata": {},
   "outputs": [],
   "source": [
    "#8. Python Program for Program to find area of a circle."
   ]
  },
  {
   "cell_type": "code",
   "execution_count": 12,
   "id": "19819f53",
   "metadata": {},
   "outputs": [
    {
     "name": "stdout",
     "output_type": "stream",
     "text": [
      "enter radius:2\n"
     ]
    },
    {
     "data": {
      "text/plain": [
       "12.571428571428571"
      ]
     },
     "execution_count": 12,
     "metadata": {},
     "output_type": "execute_result"
    }
   ],
   "source": [
    "rad= input(\"enter radius:\")\n",
    "22/7*int(rad)**2"
   ]
  },
  {
   "cell_type": "code",
   "execution_count": null,
   "id": "65aafc2e",
   "metadata": {},
   "outputs": [],
   "source": [
    "#9. Python program to print all Prime numbers in an Interval."
   ]
  },
  {
   "cell_type": "code",
   "execution_count": 27,
   "id": "c09304f4",
   "metadata": {},
   "outputs": [
    {
     "name": "stdout",
     "output_type": "stream",
     "text": [
      "enter starting number:5\n",
      "enter ending number:7\n",
      "5\n",
      "7\n"
     ]
    }
   ],
   "source": [
    "sn = int(input(\"enter starting number:\"))                            \n",
    "en = int(input(\"enter ending number:\"))\n",
    "\n",
    "for num in range(sn,en+1):\n",
    "    if num > 1:\n",
    "        for i in range(2,num):\n",
    "            if (num % i)==0:\n",
    "                break\n",
    "            \n",
    "        else:\n",
    "            print(num)"
   ]
  },
  {
   "cell_type": "code",
   "execution_count": 34,
   "id": "1baefe76",
   "metadata": {},
   "outputs": [
    {
     "name": "stdout",
     "output_type": "stream",
     "text": [
      "enter number:12\n",
      "not prime number\n"
     ]
    }
   ],
   "source": [
    "#10. Python program to check whether a number is Prime or not.\n",
    "num = int(input(\"enter number:\"))\n",
    "if num > 1:\n",
    "    for i in range (2, num):\n",
    "        if(num % i)==0:\n",
    "            print(\"not prime number\")\n",
    "            break\n",
    "    else:\n",
    "        print(\"prime number\")\n",
    "else:\n",
    "    print(\"all prime numbers are greater than 1\")"
   ]
  },
  {
   "cell_type": "code",
   "execution_count": null,
   "id": "5e4bca3d",
   "metadata": {},
   "outputs": [],
   "source": []
  },
  {
   "cell_type": "code",
   "execution_count": null,
   "id": "23ad964c",
   "metadata": {},
   "outputs": [],
   "source": []
  }
 ],
 "metadata": {
  "kernelspec": {
   "display_name": "Python 3 (ipykernel)",
   "language": "python",
   "name": "python3"
  },
  "language_info": {
   "codemirror_mode": {
    "name": "ipython",
    "version": 3
   },
   "file_extension": ".py",
   "mimetype": "text/x-python",
   "name": "python",
   "nbconvert_exporter": "python",
   "pygments_lexer": "ipython3",
   "version": "3.9.12"
  }
 },
 "nbformat": 4,
 "nbformat_minor": 5
}
