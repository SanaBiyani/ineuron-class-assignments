{
 "cells": [
  {
   "cell_type": "code",
   "execution_count": 4,
   "id": "6deb354f",
   "metadata": {},
   "outputs": [],
   "source": [
    "#1. Python – Check whether a string starts and ends with the same character or not"
   ]
  },
  {
   "cell_type": "code",
   "execution_count": 17,
   "id": "b4bca30b",
   "metadata": {},
   "outputs": [
    {
     "name": "stdout",
     "output_type": "stream",
     "text": [
      "yes\n",
      "yes\n",
      "yes\n"
     ]
    }
   ],
   "source": [
    "import re\n",
    "regex = r\"^[a-z]$|^([a-z]).*\\1$\"\n",
    "def check(st):\n",
    "    st = st.lower()\n",
    "    if(re.search(regex,st)):\n",
    "        return'yes'\n",
    "    else:\n",
    "        return'no'\n",
    "\n",
    "\n",
    "print(check('Her name is Sarah'))\n",
    "print(check('Anna'))\n",
    "print(check('a'))"
   ]
  },
  {
   "cell_type": "code",
   "execution_count": 3,
   "id": "d4ea0062",
   "metadata": {},
   "outputs": [],
   "source": [
    "#2. Python regex to find sequences of one upper case letter followed by lower case letters"
   ]
  },
  {
   "cell_type": "code",
   "execution_count": 24,
   "id": "7f7a9f06",
   "metadata": {},
   "outputs": [
    {
     "name": "stdout",
     "output_type": "stream",
     "text": [
      "yes\n",
      "yes\n",
      "no\n"
     ]
    }
   ],
   "source": [
    "import re\n",
    "regex = '[A-Z]+[a-z]+$'\n",
    "def find(st):\n",
    "    if(re.search(regex,st)):\n",
    "        return'yes'\n",
    "    else:\n",
    "        return'no'\n",
    "\n",
    "print(find('Iwaskidding'))\n",
    "print(find('Anna'))\n",
    "print(find('A'))    "
   ]
  },
  {
   "cell_type": "code",
   "execution_count": 38,
   "id": "ab4bdcfc",
   "metadata": {},
   "outputs": [
    {
     "name": "stdout",
     "output_type": "stream",
     "text": [
      "it didn't I mean sorry! \n"
     ]
    }
   ],
   "source": [
    "#3. Python Program to Remove duplicate words from Sentence\n",
    "from collections import Counter\n",
    "st = \"sorry! sorry! sorry! I didn't mean it \"\n",
    "st = set((st.split())) \n",
    "x = ''\n",
    "for i in st:\n",
    "    x += i + ' '\n",
    "print(x)"
   ]
  },
  {
   "cell_type": "code",
   "execution_count": null,
   "id": "042c68d5",
   "metadata": {},
   "outputs": [],
   "source": [
    "#4. Python | Remove all characters except letters and numbers"
   ]
  },
  {
   "cell_type": "code",
   "execution_count": 39,
   "id": "272f7bce",
   "metadata": {},
   "outputs": [
    {
     "name": "stdout",
     "output_type": "stream",
     "text": [
      "hjdduqwgujsbj88\n"
     ]
    }
   ],
   "source": [
    "import re\n",
    "string = \"hjdduqwgu_jsbj\\\\]]8\\7\\\\8]\"\n",
    "final = re.sub('[\\W_]+','',string)\n",
    "print(final)"
   ]
  },
  {
   "cell_type": "code",
   "execution_count": null,
   "id": "e757dd89",
   "metadata": {},
   "outputs": [],
   "source": [
    "#5. Python Regex | Program to accept string ending with alphanumeric character"
   ]
  },
  {
   "cell_type": "code",
   "execution_count": 42,
   "id": "661df334",
   "metadata": {},
   "outputs": [
    {
     "name": "stdout",
     "output_type": "stream",
     "text": [
      "yes\n",
      "yes\n",
      "no\n"
     ]
    }
   ],
   "source": [
    "import re\n",
    "regex = '[a-zA-z0-9]$'\n",
    "def check(st):\n",
    "    st = st.lower()\n",
    "    if(re.search(regex,st)):\n",
    "        return'yes'\n",
    "    else:\n",
    "        return'no'\n",
    "\n",
    "\n",
    "print(check('Her name is Sarah'))\n",
    "print(check('Anna'))\n",
    "print(check('a#'))"
   ]
  },
  {
   "cell_type": "code",
   "execution_count": null,
   "id": "107ce1df",
   "metadata": {},
   "outputs": [],
   "source": [
    "#6. Python Regex – Program to accept string starting with vowel"
   ]
  },
  {
   "cell_type": "code",
   "execution_count": 43,
   "id": "19cb1dab",
   "metadata": {},
   "outputs": [
    {
     "name": "stdout",
     "output_type": "stream",
     "text": [
      "no\n",
      "yes\n",
      "yes\n"
     ]
    }
   ],
   "source": [
    "import re\n",
    "regex = '^[aeiouAEIOU][A-Za-z0-9_]*'\n",
    "def check(st):\n",
    "    st = st.lower()\n",
    "    if(re.search(regex,st)):\n",
    "        return'yes'\n",
    "    else:\n",
    "        return'no'\n",
    "\n",
    "\n",
    "print(check('Her name is Sarah'))\n",
    "print(check('Anna'))\n",
    "print(check('a#'))"
   ]
  },
  {
   "cell_type": "code",
   "execution_count": null,
   "id": "1a3735b7",
   "metadata": {},
   "outputs": [],
   "source": [
    "#7. Python Program to check if a string starts with a substring using regex"
   ]
  },
  {
   "cell_type": "code",
   "execution_count": 57,
   "id": "33f54177",
   "metadata": {},
   "outputs": [
    {
     "name": "stdout",
     "output_type": "stream",
     "text": [
      "yes\n"
     ]
    }
   ],
   "source": [
    "import re\n",
    "def check(st,ss):\n",
    "    if (ss in st):\n",
    "        regex = \"^\" + ss\n",
    "        if(re.search(regex,st)):\n",
    "            return'yes'\n",
    "        else:\n",
    "            return'no'\n",
    "    else:\n",
    "        return 'no'\n",
    "    \n",
    "st= \"Betty bought a bit of bitter butter\" \n",
    "s= \"Betty\" \n",
    "print(check(st,s))"
   ]
  },
  {
   "cell_type": "code",
   "execution_count": null,
   "id": "34322438",
   "metadata": {},
   "outputs": [],
   "source": [
    "#8. Python Program to Check if an URL is valid or not using Regular Expression"
   ]
  },
  {
   "cell_type": "code",
   "execution_count": 48,
   "id": "b3a23c73",
   "metadata": {},
   "outputs": [
    {
     "name": "stdout",
     "output_type": "stream",
     "text": [
      "yes\n",
      "no\n",
      "no\n"
     ]
    }
   ],
   "source": [
    "import re\n",
    "regex = (\"((http|https)://)(www.)?\" +\n",
    "             \"[a-zA-Z0-9@:%._\\\\+~#?&//=]\" +\n",
    "             \"{2,256}\\\\.[a-z]\" +\n",
    "             \"{2,6}\\\\b([-a-zA-Z0-9@:%\" +\n",
    "             \"._\\\\+~#?&//=]*)\")\n",
    "regex = re.compile(regex)\n",
    "def check(st):\n",
    "    if(re.search(regex,st)):\n",
    "        return'yes'\n",
    "    else:\n",
    "        return'no'\n",
    "\n",
    "\n",
    "print(check('https://www.youtube.com/watch?v=kTJczUoc26U&list=PLQJZR-Fa-dDQTW1bEsISC6KOAcOtSYAae&index=53'))\n",
    "print(check('Anna'))\n",
    "print(check('a#'))\n"
   ]
  },
  {
   "cell_type": "code",
   "execution_count": null,
   "id": "b8fd92f0",
   "metadata": {},
   "outputs": [],
   "source": [
    "#9. Parsing and Processing URL using Python – Regex"
   ]
  },
  {
   "cell_type": "code",
   "execution_count": 49,
   "id": "edd3f3a8",
   "metadata": {},
   "outputs": [
    {
     "name": "stdout",
     "output_type": "stream",
     "text": [
      "[('https', 'www.youtube.com', 'watch', 'v')]\n"
     ]
    }
   ],
   "source": [
    "import re\n",
    "url = 'https://www.youtube.com/watch?v=kTJczUoc26U&list=PLQJZR-Fa-dDQTW1bEsISC6KOAcOtSYAae&index=53'\n",
    "regex = '(\\w+)://([\\w\\-\\.]+)/(\\w+).(\\w+)'\n",
    "final = re.findall(regex,url)\n",
    "print(final)"
   ]
  },
  {
   "cell_type": "code",
   "execution_count": null,
   "id": "c1bdbc4b",
   "metadata": {},
   "outputs": [],
   "source": [
    "#10. Python Program to validate an IP address using ReGex"
   ]
  },
  {
   "cell_type": "code",
   "execution_count": 51,
   "id": "4d7c2383",
   "metadata": {},
   "outputs": [
    {
     "name": "stdout",
     "output_type": "stream",
     "text": [
      "yes\n",
      "no\n",
      "no\n"
     ]
    }
   ],
   "source": [
    "import re\n",
    "regex = \"^((25[0-5]|2[0-4][0-9]|1[0-9][0-9]|[1-9]?[0-9])\\.){3}(25[0-5]|2[0-4][0-9]|1[0-9][0-9]|[1-9]?[0-9])$\"\n",
    "def check(st):\n",
    "    st = st.lower()\n",
    "    if(re.search(regex,st)):\n",
    "        return'yes'\n",
    "    else:\n",
    "        return'no'\n",
    "\n",
    "\n",
    "print(check('192.168.0.1'))\n",
    "print(check('666.1.2.2'))\n",
    "print(check('a#'))"
   ]
  }
 ],
 "metadata": {
  "kernelspec": {
   "display_name": "Python 3 (ipykernel)",
   "language": "python",
   "name": "python3"
  },
  "language_info": {
   "codemirror_mode": {
    "name": "ipython",
    "version": 3
   },
   "file_extension": ".py",
   "mimetype": "text/x-python",
   "name": "python",
   "nbconvert_exporter": "python",
   "pygments_lexer": "ipython3",
   "version": "3.9.12"
  }
 },
 "nbformat": 4,
 "nbformat_minor": 5
}
