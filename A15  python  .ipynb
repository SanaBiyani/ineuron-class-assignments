{
 "cells": [
  {
   "cell_type": "code",
   "execution_count": null,
   "id": "ab7c7ddd",
   "metadata": {},
   "outputs": [],
   "source": [
    "#1. Python Program for Topological Sorting"
   ]
  },
  {
   "cell_type": "code",
   "execution_count": 10,
   "id": "5e68bc50",
   "metadata": {},
   "outputs": [
    {
     "name": "stdout",
     "output_type": "stream",
     "text": [
      "[5, 4, 2, 3, 1, 0]\n"
     ]
    }
   ],
   "source": [
    "from collections import defaultdict\n",
    "class graph:\n",
    "    def __init__(self, vertices):\n",
    "        self.graph = defaultdict(list)\n",
    "        self.V = vertices \n",
    "    \n",
    "    def add_edge(self, u, v):\n",
    "        self.graph[u].append(v)\n",
    "\n",
    "\n",
    "    def topological_sort_till(self, v, visited, st):\n",
    "        visited[v] = True\n",
    "        for i in self.graph[v]:\n",
    "            if visited[i] == False:\n",
    "                self.topological_sort_till(i, visited, st)\n",
    "        st.append(v)\n",
    "        \n",
    "    def topological_sort(self):\n",
    "        visited = [False]*self.V\n",
    "        st = []\n",
    "        for i in range(self.V):\n",
    "            if visited[i] == False:\n",
    "                self.topological_sort_till(i, visited, st)\n",
    "        print(st[::-1])\n",
    "g = graph(6)\n",
    "g.add_edge(5, 2)\n",
    "g.add_edge(5, 0)\n",
    "g.add_edge(4, 0)\n",
    "g.add_edge(4, 1)\n",
    "g.add_edge(2, 3)\n",
    "g.add_edge(3, 1)\n",
    "g.topological_sort()"
   ]
  },
  {
   "cell_type": "code",
   "execution_count": null,
   "id": "87258a06",
   "metadata": {},
   "outputs": [],
   "source": [
    "#2. Python Program for Radix Sort"
   ]
  },
  {
   "cell_type": "code",
   "execution_count": 25,
   "id": "f59aa69b",
   "metadata": {},
   "outputs": [
    {
     "name": "stdout",
     "output_type": "stream",
     "text": [
      "3 8 22 33 64 89 90 "
     ]
    }
   ],
   "source": [
    "def count_sort(arr, x):\n",
    "    l = len(arr)\n",
    "    y = [0] * (l)\n",
    "    c = [0] * (10)\n",
    "    for i in range(0, l):\n",
    "        index = (arr[i]/x)\n",
    "        c[int((index)%10)] += 1\n",
    "    for i in range(1,10):\n",
    "        c[i] += c[i-1]\n",
    "    i = l-1\n",
    "    while i>=0:\n",
    "        index = (arr[i]/x)\n",
    "        y[ c[ int((index)%10) ] - 1] = arr[i]\n",
    "        c[int((index)%10)] -= 1\n",
    "        i -= 1\n",
    "    i = 0\n",
    "    for i in range(0,len(arr)):\n",
    "        arr[i] = y[i]\n",
    "\n",
    "def radix_sort(arr):\n",
    "    maxx = max(arr)\n",
    "    x = 1\n",
    "    while maxx/x > 0:\n",
    "        count_sort(arr,x)\n",
    "        x *= 10\n",
    "\n",
    "arr = [90,8,3,89,22,33,64]\n",
    "radix_sort(arr)\n",
    " \n",
    "for i in range(len(arr)):\n",
    "    print(arr[i],end = ' ')"
   ]
  },
  {
   "cell_type": "code",
   "execution_count": null,
   "id": "fa7db317",
   "metadata": {},
   "outputs": [],
   "source": [
    "#3. Python Program for Binary Insertion Sort"
   ]
  },
  {
   "cell_type": "code",
   "execution_count": 23,
   "id": "e562ac5b",
   "metadata": {},
   "outputs": [
    {
     "name": "stdout",
     "output_type": "stream",
     "text": [
      "[3, 8, 22, 33, 64, 89, 90]\n"
     ]
    }
   ],
   "source": [
    "def binarySearch(arr, v, start, end):\n",
    "    if start == end:\n",
    "        if arr[start] > v:\n",
    "            return start\n",
    "        else:\n",
    "            return start+1\n",
    "    if start > end:\n",
    "        return start\n",
    " \n",
    "    m = (start+end)//2\n",
    "    if arr[m] < v:\n",
    "        return binarySearch(arr, v, m+1, end)\n",
    "    elif arr[m] > v:\n",
    "        return binarySearch(arr, v, start, m-1)\n",
    "    else:\n",
    "        return m\n",
    "\n",
    "def insertionSort(arr):\n",
    "    for i in range(1, len(arr)):\n",
    "        v = arr[i]\n",
    "        y = binarySearch(arr, v, 0, i-1)\n",
    "        arr = arr[:y] + [v] + arr[y:i] + arr[i+1:]\n",
    "    return arr\n",
    " \n",
    "print(insertionSort([90,8,3,89,22,33,64]))"
   ]
  },
  {
   "cell_type": "code",
   "execution_count": null,
   "id": "62d69c8f",
   "metadata": {},
   "outputs": [],
   "source": [
    "#4. Python Program for Bitonic Sort"
   ]
  },
  {
   "cell_type": "code",
   "execution_count": 57,
   "id": "552f1121",
   "metadata": {},
   "outputs": [
    {
     "name": "stdout",
     "output_type": "stream",
     "text": [
      "8 89 3 22 90 33 64 "
     ]
    }
   ],
   "source": [
    "def com_nd_swap(a, i, j, dire):\n",
    "    if (dire == 1 and a[i] > a[j]) or (dire == 0 and a[i] > a[j]):\n",
    "        a[i], a[j] = a[j], a[i]\n",
    "\n",
    "def bitonic_merge(a, low, cnt, dire):\n",
    "    if cnt > 1:\n",
    "        k = cnt//2\n",
    "        for i in range(low, low+k):\n",
    "            com_nd_swap(a, i, i+k, dire)\n",
    "        bitonic_merge(a, low, k, dire)\n",
    "        bitonic_merge(a, low+k, k, dire)\n",
    "\n",
    "def bitonic_sort(a, low, cnt, dire):\n",
    "    if cnt > 1:\n",
    "        k = cnt//2\n",
    "        bitonic_sort(a, low, k, 1)\n",
    "        bitonic_sort(a, low+k, k, 0)\n",
    "        bitonic_merge(a, low, cnt, dire)\n",
    "\n",
    "def sort(a, n, up):\n",
    "    bitonic_sort(a, 0, n, up)\n",
    "\n",
    "a = [90,8,3,89,22,33,64]\n",
    "l = len(a)\n",
    "up = 1\n",
    "sort(a, l, up)\n",
    "for i in range(l):\n",
    "    print(a[i], end=\" \")"
   ]
  },
  {
   "cell_type": "code",
   "execution_count": null,
   "id": "493265b3",
   "metadata": {},
   "outputs": [],
   "source": [
    "#5. Python Program for Comb Sort"
   ]
  },
  {
   "cell_type": "code",
   "execution_count": 56,
   "id": "03df8659",
   "metadata": {},
   "outputs": [
    {
     "name": "stdout",
     "output_type": "stream",
     "text": [
      "[3, 8, 22, 33, 64, 89, 90]\n"
     ]
    }
   ],
   "source": [
    "def comb_sort(num):\n",
    "    l = len(num)\n",
    "    swapped = True\n",
    "    while l > 1 or swapped:\n",
    "        l = max(1, int(l / 1.25)) \n",
    "        swapped = False\n",
    "        for i in range(len(num) - l):\n",
    "            j = i+l\n",
    "            if num[i] > num[j]:\n",
    "                num[i], num[j] = num[j], num[i]\n",
    "                swapped = True\n",
    "\n",
    "arr = [90,8,3,89,22,33,64]\n",
    "comb_sort(arr)\n",
    "print(arr)"
   ]
  },
  {
   "cell_type": "code",
   "execution_count": null,
   "id": "5f0a4901",
   "metadata": {},
   "outputs": [],
   "source": [
    "#6. Python Program for Pigeonhole Sort"
   ]
  },
  {
   "cell_type": "code",
   "execution_count": 64,
   "id": "c97a07c0",
   "metadata": {},
   "outputs": [
    {
     "name": "stdout",
     "output_type": "stream",
     "text": [
      "3 8 22 33 64 89 90 "
     ]
    }
   ],
   "source": [
    "def pigeonhole_sort(x):\n",
    "    mmin = min(x)\n",
    "    mmax = max(x)\n",
    "    size = mmax - mmin + 1\n",
    "    holes = [0] * size\n",
    "    for i in x:\n",
    "        assert type(i) is int\n",
    "        holes[i - mmin] += 1\n",
    "    j = 0\n",
    "    for count in range(size):\n",
    "        while holes[count] > 0:\n",
    "            holes[count] -= 1\n",
    "            x[j] = count + mmin\n",
    "            j += 1\n",
    "\n",
    "arr = [90,8,3,89,22,33,64]            \n",
    "pigeonhole_sort(arr)\n",
    "for i in range(0, len(arr)):\n",
    "    print(arr[i], end =\" \")"
   ]
  },
  {
   "cell_type": "code",
   "execution_count": null,
   "id": "42a5e865",
   "metadata": {},
   "outputs": [],
   "source": [
    "#7. Python Program for Cocktail Sort"
   ]
  },
  {
   "cell_type": "code",
   "execution_count": 2,
   "id": "5af72248",
   "metadata": {},
   "outputs": [
    {
     "name": "stdout",
     "output_type": "stream",
     "text": [
      "3 8 22 33 64 89 90 "
     ]
    }
   ],
   "source": [
    "def cocktail_sort(x):\n",
    "    l = len(x)\n",
    "    swap = True\n",
    "    start = 0\n",
    "    end = l-1\n",
    "    while (swap==True):\n",
    "        swap = False\n",
    "        for i in range (start, end):\n",
    "            if (x[i] > x[i+1]) :\n",
    "                x[i], x[i+1]= x[i+1], x[i]\n",
    "                swap=True\n",
    "        if (swap==False):\n",
    "            break\n",
    "        swap = False\n",
    "        end = end-1\n",
    "        for i in range(end-1, start-1,-1):\n",
    "            if (x[i] > x[i+1]):\n",
    "                x[i], x[i+1] = x[i+1], x[i]\n",
    "                swap = True\n",
    "        start = start+1\n",
    "\n",
    "arr = [90,8,3,89,22,33,64]       \n",
    "cocktail_sort(arr)\n",
    "for i in range(len(arr)):\n",
    "    print (arr[i],end = ' ')\n"
   ]
  },
  {
   "cell_type": "code",
   "execution_count": null,
   "id": "52add266",
   "metadata": {},
   "outputs": [],
   "source": [
    "#8. Python Program for Gnome Sort"
   ]
  },
  {
   "cell_type": "code",
   "execution_count": 69,
   "id": "1e533a57",
   "metadata": {},
   "outputs": [
    {
     "name": "stdout",
     "output_type": "stream",
     "text": [
      "3 8 22 33 64 89 90 "
     ]
    }
   ],
   "source": [
    "def gnome_sort( arr, l):\n",
    "    index = 0\n",
    "    while index < l:\n",
    "        if index == 0:\n",
    "            index = index + 1\n",
    "        if arr[index] >= arr[index - 1]:\n",
    "            index = index + 1\n",
    "        else:\n",
    "            arr[index], arr[index-1] = arr[index-1], arr[index]\n",
    "            index = index - 1\n",
    " \n",
    "    return arr\n",
    " \n",
    "arr = [90,8,3,89,22,33,64]  \n",
    "l = len(arr)\n",
    "arr = gnome_sort(arr, l)\n",
    "for i in arr:\n",
    "    print(i,end = ' ')"
   ]
  },
  {
   "cell_type": "code",
   "execution_count": null,
   "id": "fb661dbd",
   "metadata": {},
   "outputs": [],
   "source": [
    "#9. Python Program for Odd-Even Sort / Brick Sort"
   ]
  },
  {
   "cell_type": "code",
   "execution_count": 72,
   "id": "4b73b4d9",
   "metadata": {},
   "outputs": [
    {
     "name": "stdout",
     "output_type": "stream",
     "text": [
      "3 90 8 22 89 33 64 "
     ]
    }
   ],
   "source": [
    "def brick_sort(arr, l):\n",
    "    ssorted = 0\n",
    "    while ssorted == 0:\n",
    "        sorted = 1\n",
    "        x = 0\n",
    "        for i in range(1, l-1, 2):\n",
    "            if arr[i] > arr[i+1]:\n",
    "                arr[i], arr[i+1] = arr[i+1], arr[i]\n",
    "                ssorted = 0\n",
    "                  \n",
    "        for i in range(0, l-1, 2):\n",
    "            if arr[i] > arr[i+1]:\n",
    "                arr[i], arr[i+1] = arr[i+1], arr[i]\n",
    "                ssorted = 0\n",
    "            return\n",
    "  \n",
    "  \n",
    "arr = [90,8,3,89,22,33,64]       \n",
    "l = len(arr)\n",
    "  \n",
    "brick_sort(arr, l);\n",
    "for i in range(0, l):\n",
    "    print(arr[i], end = ' ')\n",
    "      "
   ]
  },
  {
   "cell_type": "code",
   "execution_count": null,
   "id": "e8af126f",
   "metadata": {},
   "outputs": [],
   "source": [
    "#10. Python Program for BogoSort or Permutation Sort"
   ]
  },
  {
   "cell_type": "code",
   "execution_count": 76,
   "id": "945cdb0b",
   "metadata": {},
   "outputs": [
    {
     "name": "stdout",
     "output_type": "stream",
     "text": [
      "3 8 22 33 64 89 90 "
     ]
    }
   ],
   "source": [
    "import random\n",
    "def bogo_sort(x):\n",
    "    l = len(x)\n",
    "    while (is_sorted(x)== False):\n",
    "        shuffle(x)\n",
    "def is_sorted(x):\n",
    "    l = len(x)\n",
    "    for i in range(0, l-1):\n",
    "        if (x[i] > x[i+1] ):\n",
    "            return False\n",
    "    return True\n",
    "def shuffle(x):\n",
    "    l = len(x)\n",
    "    for i in range (0,l):\n",
    "        r = random.randint(0,l-1)\n",
    "        x[i], x[r] = x[r], x[i]\n",
    "\n",
    "arr = [90,8,3,89,22,33,64]       \n",
    "bogo_sort(arr)\n",
    "for i in range(len(arr)):\n",
    "    print(arr[i],end = ' ')"
   ]
  }
 ],
 "metadata": {
  "kernelspec": {
   "display_name": "Python 3 (ipykernel)",
   "language": "python",
   "name": "python3"
  },
  "language_info": {
   "codemirror_mode": {
    "name": "ipython",
    "version": 3
   },
   "file_extension": ".py",
   "mimetype": "text/x-python",
   "name": "python",
   "nbconvert_exporter": "python",
   "pygments_lexer": "ipython3",
   "version": "3.9.12"
  }
 },
 "nbformat": 4,
 "nbformat_minor": 5
}
