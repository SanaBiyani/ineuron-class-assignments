{
 "cells": [
  {
   "cell_type": "code",
   "execution_count": null,
   "id": "204e1786",
   "metadata": {},
   "outputs": [],
   "source": [
    "#1. Python – Replace multiple words with K"
   ]
  },
  {
   "cell_type": "code",
   "execution_count": 9,
   "id": "3cc48c84",
   "metadata": {},
   "outputs": [
    {
     "name": "stdout",
     "output_type": "stream",
     "text": [
      "Python is amazing .It is good for data analytics.\n"
     ]
    }
   ],
   "source": [
    "string = '_ is _ .It is good for _.'\n",
    "K = '_'\n",
    "rl = ['Python', 'amazing', 'data analytics']\n",
    "for ele in rl:\n",
    "    string = string.replace(K, ele,1)\n",
    "print(string)"
   ]
  },
  {
   "cell_type": "code",
   "execution_count": null,
   "id": "336ea174",
   "metadata": {},
   "outputs": [],
   "source": [
    "#2. Python | Permutation of a given string using inbuilt function"
   ]
  },
  {
   "cell_type": "code",
   "execution_count": 13,
   "id": "2034aa00",
   "metadata": {},
   "outputs": [
    {
     "name": "stdout",
     "output_type": "stream",
     "text": [
      "[('A', 'B', 'C'), ('A', 'C', 'B'), ('B', 'A', 'C'), ('B', 'C', 'A'), ('C', 'A', 'B'), ('C', 'B', 'A')]\n"
     ]
    }
   ],
   "source": [
    "from itertools import permutations\n",
    "string = 'ABC'\n",
    "pl = permutations(string)\n",
    "final = []\n",
    "for i in pl:\n",
    "    final.append(i)\n",
    "    \n",
    "print(final)"
   ]
  },
  {
   "cell_type": "code",
   "execution_count": null,
   "id": "5e7ccdea",
   "metadata": {},
   "outputs": [],
   "source": [
    "#3. Python | Check for URL in a String"
   ]
  },
  {
   "cell_type": "code",
   "execution_count": 8,
   "id": "059ab943",
   "metadata": {},
   "outputs": [
    {
     "name": "stdout",
     "output_type": "stream",
     "text": [
      "URL is present https://www.youtube.com/watch?v=EUoe7cf0HYw&list=PLQJZR-Fa-dDQTW1bEsISC6KOAcOtSYAae&index=76\n"
     ]
    }
   ],
   "source": [
    "import re\n",
    "def findurl(st):\n",
    "    p =r\"(?i)\\b((?:https?://|www\\d{0,3}[.]|[a-z0-9.\\-]+[.][a-z]{2,4}/)(?:[^\\s()<>]+|\\(([^\\s()<>]+|(\\([^\\s()<>]+\\)))*\\))+(?:\\(([^\\s()<>]+|(\\([^\\s()<>]+\\)))*\\)|[^\\s`!()\\[\\]{};:'\\\".,<>?«»“”‘’]))\"\n",
    "    u = re.findall(p,st)\n",
    "    for x in u:\n",
    "        if x[0] == None:\n",
    "            return ('URL not present')\n",
    "        else :\n",
    "            return 'URL is present ' + str(x[0])\n",
    "        \n",
    "st = 'I love this song, check it out https://www.youtube.com/watch?v=EUoe7cf0HYw&list=PLQJZR-Fa-dDQTW1bEsISC6KOAcOtSYAae&index=76'\n",
    "print(findurl(st))"
   ]
  },
  {
   "cell_type": "code",
   "execution_count": null,
   "id": "5fe02bee",
   "metadata": {},
   "outputs": [],
   "source": [
    "#4. Execute a String of Code in Python"
   ]
  },
  {
   "cell_type": "code",
   "execution_count": 14,
   "id": "86ff76a5",
   "metadata": {},
   "outputs": [
    {
     "name": "stdout",
     "output_type": "stream",
     "text": [
      "3\n"
     ]
    }
   ],
   "source": [
    "code = '''print(1+2)'''\n",
    "\n",
    "(exec(code))"
   ]
  },
  {
   "cell_type": "code",
   "execution_count": null,
   "id": "eb95f36a",
   "metadata": {},
   "outputs": [],
   "source": [
    "#5. String slicing in Python to rotate a string"
   ]
  },
  {
   "cell_type": "code",
   "execution_count": 31,
   "id": "e17c3558",
   "metadata": {},
   "outputs": [
    {
     "name": "stdout",
     "output_type": "stream",
     "text": [
      "badc\n",
      "adcb\n"
     ]
    }
   ],
   "source": [
    "string = 'dcba'\n",
    "print(string[2:]+ string[:2])\n",
    "print(string[-1:]+string[:-1])"
   ]
  },
  {
   "cell_type": "code",
   "execution_count": null,
   "id": "ca9ac28f",
   "metadata": {},
   "outputs": [],
   "source": [
    "#6. String slicing in Python to check if a string can become empty by recursive deletion"
   ]
  },
  {
   "cell_type": "code",
   "execution_count": 73,
   "id": "8e0427de",
   "metadata": {},
   "outputs": [
    {
     "name": "stdout",
     "output_type": "stream",
     "text": [
      "yes\n"
     ]
    }
   ],
   "source": [
    "string = 'bubuttertterbutter'\n",
    "sstring = 'butter'\n",
    "if len(string)== 0 and len(sstring)== 0:\n",
    "    print('yes')\n",
    "if len(sstring)== 0:\n",
    "    print('yes')\n",
    "while (len(string) != 0):\n",
    "    index = string.find(sstring)\n",
    "    if (index ==(-1)):\n",
    "        print('no')\n",
    "    string = string[0:index] + string[index + len(sstring):]\n",
    "if len(string)==0:\n",
    "    print('yes')\n",
    "else:\n",
    "    print('no')\n"
   ]
  },
  {
   "cell_type": "code",
   "execution_count": null,
   "id": "2ffc5001",
   "metadata": {},
   "outputs": [],
   "source": [
    "#7.Python Counter| Find all duplicate characters in string"
   ]
  },
  {
   "cell_type": "code",
   "execution_count": 45,
   "id": "7e0a00e7",
   "metadata": {},
   "outputs": [
    {
     "name": "stdout",
     "output_type": "stream",
     "text": [
      "l\n"
     ]
    }
   ],
   "source": [
    "from collections import Counter\n",
    "l = 'hello'\n",
    "WC = Counter(l)\n",
    "for letter, count in WC.items():\n",
    "    if count > 1:\n",
    "        print(letter)"
   ]
  },
  {
   "cell_type": "code",
   "execution_count": null,
   "id": "130f120e",
   "metadata": {},
   "outputs": [],
   "source": [
    "#8. Python – Replace all occurrences of a substring in a string"
   ]
  },
  {
   "cell_type": "code",
   "execution_count": 54,
   "id": "28a15c55",
   "metadata": {},
   "outputs": [
    {
     "name": "stdout",
     "output_type": "stream",
     "text": [
      "yellow yellow dirty fellow\n"
     ]
    }
   ],
   "source": [
    "s='mellow mellow dirty fellow'\n",
    "print(s.replace('mellow','yellow'))"
   ]
  },
  {
   "cell_type": "code",
   "execution_count": null,
   "id": "793a95a0",
   "metadata": {},
   "outputs": [],
   "source": [
    "#9. Python – Extract Unique values dictionary values"
   ]
  },
  {
   "cell_type": "code",
   "execution_count": 60,
   "id": "7cd81e8c",
   "metadata": {},
   "outputs": [
    {
     "name": "stdout",
     "output_type": "stream",
     "text": [
      "[0, 1, 2, 3, 4, 5, 6, 7, 8, 9]\n"
     ]
    }
   ],
   "source": [
    "test_dict = {'a' : [0,9,8,7],\n",
    "             'b' : [6,5,4,3],\n",
    "             'c' : [2,1,0,9],\n",
    "             'd' : [1, 2, 5]}\n",
    "  \n",
    "x = list(sorted({ele for val in test_dict.values() for ele in val}))\n",
    "print(x)"
   ]
  }
 ],
 "metadata": {
  "kernelspec": {
   "display_name": "Python 3 (ipykernel)",
   "language": "python",
   "name": "python3"
  },
  "language_info": {
   "codemirror_mode": {
    "name": "ipython",
    "version": 3
   },
   "file_extension": ".py",
   "mimetype": "text/x-python",
   "name": "python",
   "nbconvert_exporter": "python",
   "pygments_lexer": "ipython3",
   "version": "3.9.12"
  }
 },
 "nbformat": 4,
 "nbformat_minor": 5
}
