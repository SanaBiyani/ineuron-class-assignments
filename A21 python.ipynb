{
 "cells": [
  {
   "cell_type": "code",
   "execution_count": 1,
   "id": "6f2e4193",
   "metadata": {},
   "outputs": [
    {
     "name": "stdout",
     "output_type": "stream",
     "text": [
      "1505\n",
      "1540\n",
      "1575\n",
      "1610\n",
      "1645\n",
      "1680\n",
      "1715\n",
      "1750\n",
      "1785\n",
      "1820\n",
      "1855\n",
      "1890\n",
      "1925\n",
      "1960\n",
      "1995\n",
      "2030\n",
      "2065\n",
      "2100\n",
      "2135\n",
      "2170\n",
      "2205\n",
      "2240\n",
      "2275\n",
      "2310\n",
      "2345\n",
      "2380\n",
      "2415\n",
      "2450\n",
      "2485\n",
      "2520\n",
      "2555\n",
      "2590\n",
      "2625\n",
      "2660\n",
      "2695\n"
     ]
    }
   ],
   "source": [
    "#1. Write a Python program to find those numbers which are divisible by 7 and multiple of 5, between 1500 and 2700 (both included).\n",
    "for i in range(1500,2700):\n",
    "    if i%7==0 and i%5 == 0:\n",
    "        print(i)\n",
    "    else:\n",
    "        pass"
   ]
  },
  {
   "cell_type": "code",
   "execution_count": 2,
   "id": "1a460f75",
   "metadata": {},
   "outputs": [
    {
     "name": "stdout",
     "output_type": "stream",
     "text": [
      "enter a word:DONKEY\n",
      "YEKNOD"
     ]
    }
   ],
   "source": [
    "#2. Write a Python program that accepts a word from the user and reverse it.\n",
    "word = input('enter a word:')\n",
    "w = list(word)\n",
    "w.reverse()\n",
    "for i in w:\n",
    "    print(i,end='')"
   ]
  },
  {
   "cell_type": "code",
   "execution_count": null,
   "id": "92efcbb1",
   "metadata": {},
   "outputs": [],
   "source": [
    "#3. Write a Python program to calculate a dogs age in dogs years.  Note:For the first two years, a dog year is equal to 10.5 human years. After that, each dog year equals 4 human years."
   ]
  },
  {
   "cell_type": "code",
   "execution_count": 120,
   "id": "a75ec671",
   "metadata": {},
   "outputs": [
    {
     "name": "stdout",
     "output_type": "stream",
     "text": [
      "enter dog age in human yrs: 29\n",
      "4.0 years old\n"
     ]
    }
   ],
   "source": [
    "a = input('enter dog age in human yrs: ')\n",
    "a = float(a)\n",
    "if a < 10.5:\n",
    "    print('dog is not even 1 yr old')\n",
    "elif a == 10.5:\n",
    "    print('1 year old')\n",
    "elif (a > 10.5) & (a < 21) == True:\n",
    "    print('more then 1yr')\n",
    "elif a == 21:\n",
    "    prinnt('2 year old')\n",
    "else:\n",
    "    print((a-21)//4 + 2,'years old')\n",
    "    "
   ]
  },
  {
   "cell_type": "code",
   "execution_count": 116,
   "id": "534eb59f",
   "metadata": {},
   "outputs": [
    {
     "name": "stdout",
     "output_type": "stream",
     "text": [
      "scalene\n",
      "equilateral\n",
      "isosceles\n"
     ]
    }
   ],
   "source": [
    "#4. Write a Python program to check a triangle is equilateral, isosceles or scalene\n",
    "def tri_type(s1,s2,s3):\n",
    "    if s1==s2 & s1 == s3:\n",
    "        return 'equilateral'\n",
    "    elif s1 == s2 or s1 == s3 or s2 == s3:\n",
    "        return 'isosceles'\n",
    "    else:\n",
    "        return 'scalene'\n",
    "print(tri_type(9,3,6))\n",
    "print(tri_type(7,7,7))\n",
    "print(tri_type(9,4,9))"
   ]
  },
  {
   "cell_type": "code",
   "execution_count": null,
   "id": "d8cf9111",
   "metadata": {},
   "outputs": [],
   "source": [
    "#5. Write a Python program to detect the number of local variables declared in a function."
   ]
  },
  {
   "cell_type": "code",
   "execution_count": 6,
   "id": "3e8f40cd",
   "metadata": {},
   "outputs": [
    {
     "name": "stdout",
     "output_type": "stream",
     "text": [
      "2\n"
     ]
    }
   ],
   "source": [
    "def add():\n",
    "    a = 1\n",
    "    b = 2\n",
    "    return 1 + 2\n",
    "  \n",
    "print(add.__code__.co_nlocals)"
   ]
  },
  {
   "cell_type": "code",
   "execution_count": 7,
   "id": "caa67d88",
   "metadata": {},
   "outputs": [
    {
     "name": "stdout",
     "output_type": "stream",
     "text": [
      "I feel sleepy\n"
     ]
    }
   ],
   "source": [
    "#6. Write a Python program to execute a string containing Python code.\n",
    "mycode = 'print(\"I feel sleepy\")'\n",
    "exec(mycode)"
   ]
  },
  {
   "cell_type": "code",
   "execution_count": null,
   "id": "d8e18ee5",
   "metadata": {},
   "outputs": [],
   "source": [
    "#7. Write a Python program to convert a given list of tuples to a list of strings using map function."
   ]
  },
  {
   "cell_type": "code",
   "execution_count": 44,
   "id": "021e074e",
   "metadata": {},
   "outputs": [
    {
     "name": "stdout",
     "output_type": "stream",
     "text": [
      "STUDYORPLAY\n",
      "['STUDY', 'OR', 'PLAY']\n"
     ]
    }
   ],
   "source": [
    " orignal = [('S', 'T', 'U', 'D', 'Y'), ('O', 'R'), ('P', 'L', 'A', 'Y')]\n",
    "def convert(x):\n",
    "    y = ''\n",
    "    for i in x:\n",
    "        for j in i:\n",
    "            y += j \n",
    "    return y \n",
    "\n",
    "print(list(map(convert,orignal)))"
   ]
  },
  {
   "cell_type": "code",
   "execution_count": null,
   "id": "122339f5",
   "metadata": {},
   "outputs": [],
   "source": [
    "#8. Write a Python program to split a given dictionary of lists into list of dictionaries using map function."
   ]
  },
  {
   "cell_type": "code",
   "execution_count": 122,
   "id": "11e6b6a5",
   "metadata": {},
   "outputs": [
    {
     "name": "stdout",
     "output_type": "stream",
     "text": [
      "[{12: 1, 34: 3, 56: 5}, {12: 2, 34: 4, 56: 6}]\n"
     ]
    }
   ],
   "source": [
    "def convert(original):\n",
    "    output = map(dict, zip(*[[(i, k) for k in j] for i, j in orignal.items()]))\n",
    "    return list(output)\n",
    "\n",
    "orignal = {12: [1, 2], 34: [3, 4], 56: [5, 6]}\n",
    "print(convert(orignal))"
   ]
  },
  {
   "cell_type": "code",
   "execution_count": 41,
   "id": "4c84ec1d",
   "metadata": {},
   "outputs": [],
   "source": [
    "#9. Write a Python program to scan a specified directory and identify the sub directories and files."
   ]
  },
  {
   "cell_type": "code",
   "execution_count": 26,
   "id": "7a48798f",
   "metadata": {},
   "outputs": [
    {
     "name": "stdout",
     "output_type": "stream",
     "text": [
      "['books', 'certificates', 'coding', 'lucille', 'study plan.png', 'young gandhi']\n"
     ]
    }
   ],
   "source": [
    "import os\n",
    "d = 'D:/Users/Desktop/Sana/'\n",
    "d_list = os.listdir(d)\n",
    "print(d_list)"
   ]
  },
  {
   "cell_type": "code",
   "execution_count": null,
   "id": "6fcccdf8",
   "metadata": {},
   "outputs": [],
   "source": [
    "#10. Write a Python program to parse a string representing time and returns the structure time."
   ]
  },
  {
   "cell_type": "code",
   "execution_count": 10,
   "id": "4c21c433",
   "metadata": {},
   "outputs": [
    {
     "name": "stdout",
     "output_type": "stream",
     "text": [
      "20:18:00\n"
     ]
    }
   ],
   "source": [
    "import datetime \n",
    "string = '08:18PM'\n",
    "f = '%I:%M%p'\n",
    "time_str = datetime.datetime.strptime(string, f)\n",
    "print(time_str.time())"
   ]
  },
  {
   "cell_type": "code",
   "execution_count": null,
   "id": "2b441000",
   "metadata": {},
   "outputs": [],
   "source": [
    "#11. Write a Python code to send some sort of data in the URL query string."
   ]
  },
  {
   "cell_type": "code",
   "execution_count": 23,
   "id": "df5c1f29",
   "metadata": {},
   "outputs": [
    {
     "name": "stdout",
     "output_type": "stream",
     "text": [
      "http://localhost:8888/login?next=%2Fnotebooks%2Fineuron%2FA21%2520python.ipynb%3FK1%3DV1%26K2%3DV2\n"
     ]
    }
   ],
   "source": [
    "import requests\n",
    "url = 'http://localhost:8888/notebooks/ineuron/A21%20python.ipynb'\n",
    "x = {'K1':'V1','K2':'V2'}\n",
    "r = requests.get(url, params=x)\n",
    "print(r.url)"
   ]
  },
  {
   "cell_type": "code",
   "execution_count": null,
   "id": "e960d352",
   "metadata": {},
   "outputs": [],
   "source": [
    "#12. Write a Python code to send a request to a web page, and print the information of headers. Also parse these values and print key-value pairs holding various information."
   ]
  },
  {
   "cell_type": "code",
   "execution_count": 38,
   "id": "45fda0e2",
   "metadata": {
    "scrolled": true
   },
   "outputs": [
    {
     "name": "stdout",
     "output_type": "stream",
     "text": [
      "{'Server': 'nginx', 'Date': 'Sun, 14 Aug 2022 16:28:43 GMT', 'Content-Type': 'text/html', 'Transfer-Encoding': 'chunked', 'Connection': 'keep-alive', 'Vary': 'Accept-Encoding', 'Last-Modified': 'Tue, 03 May 2022 16:30:35 GMT', 'ETag': 'W/\"653d-5de1e073b8c73\"', 'X-Httpd': '1', 'Host-Header': '8441280b0c35cbc1147f8ba998a563a7', 'X-Proxy-Cache': 'HIT', 'Content-Encoding': 'br'}\n",
      "Server: nginx\n",
      "Date: Sun, 14 Aug 2022 16:28:43 GMT\n",
      "Content-Type: text/html\n",
      "Transfer-Encoding: chunked\n",
      "Connection: keep-alive\n",
      "Vary: Accept-Encoding\n",
      "Last-Modified: Tue, 03 May 2022 16:30:35 GMT\n",
      "ETag: W/\"653d-5de1e073b8c73\"\n",
      "X-Httpd: 1\n",
      "Host-Header: 8441280b0c35cbc1147f8ba998a563a7\n",
      "X-Proxy-Cache: HIT\n",
      "Content-Encoding: br\n"
     ]
    }
   ],
   "source": [
    "import requests\n",
    "r = requests.get('https://www.melaniecellier.com/')\n",
    "output = r.headers\n",
    "print(output)\n",
    "for i,j in output.items():\n",
    "    i = str(i)\n",
    "    j = str(j)\n",
    "    print(i+': '+ j)"
   ]
  },
  {
   "cell_type": "code",
   "execution_count": 30,
   "id": "b0622cb1",
   "metadata": {},
   "outputs": [],
   "source": [
    "#13. Write a Python program to write a Python dictionary to a csv file. After writing the CSV file read the CSV file and display the content"
   ]
  },
  {
   "cell_type": "code",
   "execution_count": 58,
   "id": "90f8900c",
   "metadata": {},
   "outputs": [
    {
     "name": "stdout",
     "output_type": "stream",
     "text": [
      "{'tina': 5, 'sara': 9}\n"
     ]
    }
   ],
   "source": [
    "import re\n",
    "file = open(\"C:/Intel/sana/file.csv\",\"w\")\n",
    "d = {'tina': 5, 'sara': 9}\n",
    "f = file.write(str(d))\n",
    "file.close()\n",
    "file = open(\"C:/Intel/sana/file.csv\",\"r\")\n",
    "print(file.read())\n",
    "file.close()"
   ]
  },
  {
   "cell_type": "code",
   "execution_count": null,
   "id": "ad5dc41e",
   "metadata": {},
   "outputs": [],
   "source": [
    "#14. Write a Python program that reads each row of a given csv file and skip the header of the file. Also print the number of rows and the field names."
   ]
  },
  {
   "cell_type": "code",
   "execution_count": 95,
   "id": "a71c2f12",
   "metadata": {},
   "outputs": [
    {
     "name": "stdout",
     "output_type": "stream",
     "text": [
      "   a  1\n",
      "0  b  2\n",
      "1  c  3\n",
      "Empty DataFrame\n",
      "Columns: [name, roll no.]\n",
      "Index: []\n",
      "no. of rows:  3\n"
     ]
    }
   ],
   "source": [
    "import pandas as pd\n",
    "print(pd.read_csv('C:/Intel/sana/xyz.csv',skiprows=1))\n",
    "df = pd.read_csv('C:/Intel/sana/xyz.csv')\n",
    "print(df.head(0))\n",
    "print('no. of rows: ',len(df.index))"
   ]
  },
  {
   "cell_type": "code",
   "execution_count": 73,
   "id": "64e4a550",
   "metadata": {},
   "outputs": [],
   "source": [
    "#15. Write a Python program to check that a string contains only a certain set of characters (in this case a-z, A-Z and 0-9)"
   ]
  },
  {
   "cell_type": "code",
   "execution_count": 97,
   "id": "bfc70568",
   "metadata": {},
   "outputs": [
    {
     "name": "stdout",
     "output_type": "stream",
     "text": [
      "no\n"
     ]
    }
   ],
   "source": [
    "import re\n",
    "pattern = re.compile(\"[A-Za-z0-9]+\")\n",
    "string = 'khdjei38HJJB#'\n",
    "if pattern.fullmatch(string):\n",
    "    print('yes')\n",
    "else:\n",
    "    print('no')"
   ]
  }
 ],
 "metadata": {
  "kernelspec": {
   "display_name": "Python 3 (ipykernel)",
   "language": "python",
   "name": "python3"
  },
  "language_info": {
   "codemirror_mode": {
    "name": "ipython",
    "version": 3
   },
   "file_extension": ".py",
   "mimetype": "text/x-python",
   "name": "python",
   "nbconvert_exporter": "python",
   "pygments_lexer": "ipython3",
   "version": "3.9.12"
  }
 },
 "nbformat": 4,
 "nbformat_minor": 5
}
