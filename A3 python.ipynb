{
 "cells": [
  {
   "cell_type": "code",
   "execution_count": null,
   "id": "c515cb47",
   "metadata": {},
   "outputs": [],
   "source": [
    "#1. Python Program for Find reminder of array multiplication divided by n"
   ]
  },
  {
   "cell_type": "code",
   "execution_count": 8,
   "id": "6262913f",
   "metadata": {},
   "outputs": [
    {
     "name": "stdout",
     "output_type": "stream",
     "text": [
      "9\n"
     ]
    }
   ],
   "source": [
    "def arr_product_remainder (arr,n):\n",
    "    total = 1\n",
    "    for i in arr:\n",
    "        total = i * total\n",
    "    return total % n\n",
    "\n",
    "print(arr_product_remainder(([100, 10, 5, 25, 35, 14]),11))"
   ]
  },
  {
   "cell_type": "code",
   "execution_count": null,
   "id": "3ba50f94",
   "metadata": {},
   "outputs": [],
   "source": [
    "#2. Python Program to check if given array is Monotonic"
   ]
  },
  {
   "cell_type": "code",
   "execution_count": 40,
   "id": "8ae34d58",
   "metadata": {},
   "outputs": [
    {
     "name": "stdout",
     "output_type": "stream",
     "text": [
      "isn't monotonic\n",
      "is monotonic\n",
      "is monotonic\n",
      "is monotonic\n"
     ]
    }
   ],
   "source": [
    "def is_monotonic (arr):\n",
    "    n = len(arr)\n",
    "    if n==1:\n",
    "        return 'is monotonic'\n",
    "    else:\n",
    "        if all(arr[i]<=arr[i+1] for i in range(0,n-1)):\n",
    "            return 'is monotonic'\n",
    "        elif all(arr[i]>=arr[i+1] for i in range(0,n-1)):\n",
    "            return 'is monotonic'\n",
    "        else:\n",
    "            return \"isn't monotonic\"\n",
    "\n",
    "print(is_monotonic(([100, 10, 5, 25, 35, 14])))\n",
    "print(is_monotonic(([10, 9, 7, 5, 4, 2, 0])))\n",
    "print(is_monotonic(([11, 12, 13, 14, 15, 16, 17])))\n",
    "print(is_monotonic(([100])))"
   ]
  },
  {
   "cell_type": "code",
   "execution_count": null,
   "id": "184b28c2",
   "metadata": {},
   "outputs": [],
   "source": [
    "#3. Python program to interchange first and last elements in a list"
   ]
  },
  {
   "cell_type": "code",
   "execution_count": 32,
   "id": "cd3680f6",
   "metadata": {},
   "outputs": [
    {
     "name": "stdout",
     "output_type": "stream",
     "text": [
      "[5, 2, 3, 4, 1]\n"
     ]
    }
   ],
   "source": [
    "l1 = [1,2,3,4,5] \n",
    "x = l1[0]\n",
    "l1[0]=l1[-1]\n",
    "l1[-1] = x\n",
    "print(l1)"
   ]
  },
  {
   "cell_type": "code",
   "execution_count": null,
   "id": "325f708c",
   "metadata": {},
   "outputs": [],
   "source": [
    "#4. Python program to swap two elements in a list"
   ]
  },
  {
   "cell_type": "code",
   "execution_count": 36,
   "id": "7e43db19",
   "metadata": {},
   "outputs": [
    {
     "name": "stdout",
     "output_type": "stream",
     "text": [
      "[1, 2, 3, 4, 7, 6, 5]\n"
     ]
    }
   ],
   "source": [
    "def swap_elements (l1,E1,E2,):\n",
    "    x = l1[l1.index(E1)]\n",
    "    l1[l1.index(E1)] = l1[l1.index(E2)]\n",
    "    l1[l1.index(E2)]= x\n",
    "    return l1\n",
    "print(swap_elements([1,2,3,4,7,6,5],7,5))    "
   ]
  },
  {
   "cell_type": "code",
   "execution_count": null,
   "id": "d4e00126",
   "metadata": {},
   "outputs": [],
   "source": [
    "#5. write a program to find length of list"
   ]
  },
  {
   "cell_type": "code",
   "execution_count": 37,
   "id": "0beab707",
   "metadata": {},
   "outputs": [
    {
     "name": "stdout",
     "output_type": "stream",
     "text": [
      "6\n"
     ]
    }
   ],
   "source": [
    "print(len([1,2,3,4,5,87]))"
   ]
  },
  {
   "cell_type": "code",
   "execution_count": 39,
   "id": "9dc3bf99",
   "metadata": {},
   "outputs": [
    {
     "name": "stdout",
     "output_type": "stream",
     "text": [
      "IN LIST\n"
     ]
    }
   ],
   "source": [
    "#6. write a program to check if element exists in list\n",
    "def if_in_list (l1,E):\n",
    "    if E in l1 :\n",
    "        return 'IN LIST'\n",
    "    else:\n",
    "        return 'NOT IN LIST'\n",
    "print(if_in_list([1,3,4,59,7],59))"
   ]
  },
  {
   "cell_type": "code",
   "execution_count": 43,
   "id": "d38eab7a",
   "metadata": {},
   "outputs": [],
   "source": [
    "#7. write a program to clear a list in Python"
   ]
  },
  {
   "cell_type": "code",
   "execution_count": 44,
   "id": "5fe76572",
   "metadata": {},
   "outputs": [
    {
     "name": "stdout",
     "output_type": "stream",
     "text": [
      "[]\n"
     ]
    }
   ],
   "source": [
    "l1 = [1,2,3,4,5]\n",
    "l1.clear()\n",
    "print(l1)"
   ]
  },
  {
   "cell_type": "code",
   "execution_count": 55,
   "id": "a9e360b2",
   "metadata": {},
   "outputs": [
    {
     "name": "stdout",
     "output_type": "stream",
     "text": [
      "[6, 5, 4, 3, 2, 1]\n"
     ]
    }
   ],
   "source": [
    "#8. write a program to Reversing a List\n",
    "L1 = [1,2,3,4,5,6]\n",
    "L1.reverse()\n",
    "\n",
    "print(L1)"
   ]
  },
  {
   "cell_type": "code",
   "execution_count": null,
   "id": "e4fee2ec",
   "metadata": {},
   "outputs": [],
   "source": [
    "#9. write a program to find sum of elements in list"
   ]
  },
  {
   "cell_type": "code",
   "execution_count": 56,
   "id": "65940d65",
   "metadata": {},
   "outputs": [
    {
     "name": "stdout",
     "output_type": "stream",
     "text": [
      "21\n"
     ]
    }
   ],
   "source": [
    "l1 = [1,2,3,4,5,6]\n",
    "print(sum(l1))"
   ]
  },
  {
   "cell_type": "code",
   "execution_count": null,
   "id": "7a4f03e1",
   "metadata": {},
   "outputs": [],
   "source": [
    "#10. write a program to Multiply all numbers in the list"
   ]
  },
  {
   "cell_type": "code",
   "execution_count": 65,
   "id": "87dcb302",
   "metadata": {},
   "outputs": [
    {
     "name": "stdout",
     "output_type": "stream",
     "text": [
      "120\n"
     ]
    }
   ],
   "source": [
    "def list_prod(L):\n",
    "    total = 1\n",
    "    for i in L:\n",
    "        total = total * i\n",
    "    return total\n",
    "L = [1,2,3,4,5]\n",
    "print(list_prod(L))\n"
   ]
  }
 ],
 "metadata": {
  "kernelspec": {
   "display_name": "Python 3 (ipykernel)",
   "language": "python",
   "name": "python3"
  },
  "language_info": {
   "codemirror_mode": {
    "name": "ipython",
    "version": 3
   },
   "file_extension": ".py",
   "mimetype": "text/x-python",
   "name": "python",
   "nbconvert_exporter": "python",
   "pygments_lexer": "ipython3",
   "version": "3.9.12"
  }
 },
 "nbformat": 4,
 "nbformat_minor": 5
}
