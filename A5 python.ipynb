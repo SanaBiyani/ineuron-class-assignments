{
 "cells": [
  {
   "cell_type": "code",
   "execution_count": null,
   "id": "4d1b61fa",
   "metadata": {},
   "outputs": [],
   "source": [
    "#1. Python program to print all negative numbers in a range"
   ]
  },
  {
   "cell_type": "code",
   "execution_count": 3,
   "id": "c53b33fe",
   "metadata": {},
   "outputs": [
    {
     "name": "stdout",
     "output_type": "stream",
     "text": [
      "enter starting number:-5\n",
      "enter ending number:9\n",
      "[-5, -4, -3, -2, -1]\n"
     ]
    }
   ],
   "source": [
    "def find_negitive_range(i,j):\n",
    "    final = []\n",
    "    for i in range(i,j):\n",
    "        if i < 0:\n",
    "            final.append(i)\n",
    "        else:\n",
    "            pass\n",
    "    return final\n",
    "\n",
    "print(find_negitive_range(int(input('enter starting number:')),int(input('enter ending number:'))))"
   ]
  },
  {
   "cell_type": "code",
   "execution_count": null,
   "id": "32901b57",
   "metadata": {},
   "outputs": [],
   "source": [
    "#2. Remove multiple elements from a list in Python"
   ]
  },
  {
   "cell_type": "code",
   "execution_count": 4,
   "id": "d1553a86",
   "metadata": {},
   "outputs": [
    {
     "name": "stdout",
     "output_type": "stream",
     "text": [
      "[23, 47, 39, 81]\n"
     ]
    }
   ],
   "source": [
    "def remove_elements (l1,final):\n",
    "    for i in l1[0:len(l1)]:\n",
    "        if i in final:\n",
    "            l1.remove(i)\n",
    "        else:\n",
    "            pass\n",
    "    return l1\n",
    "l1 = [23,47,84,9,39,81,99]\n",
    "final = [84,99,9]\n",
    "print(remove_elements(l1,final))"
   ]
  },
  {
   "cell_type": "code",
   "execution_count": null,
   "id": "e6f38a05",
   "metadata": {},
   "outputs": [],
   "source": [
    "#3. write a Python program to Remove empty List from List"
   ]
  },
  {
   "cell_type": "code",
   "execution_count": 19,
   "id": "40897379",
   "metadata": {},
   "outputs": [
    {
     "name": "stdout",
     "output_type": "stream",
     "text": [
      "[8, 92, 233, 787]\n"
     ]
    }
   ],
   "source": [
    "def remove_E_list (l1):\n",
    "    return list(filter(None,l1))\n",
    "l1 = [8,[],92,233,[],[],787]\n",
    "print(remove_E_list(l1))"
   ]
  },
  {
   "cell_type": "code",
   "execution_count": null,
   "id": "60ae46fc",
   "metadata": {},
   "outputs": [],
   "source": [
    "#4. write a Python program to Cloning or Copying a list"
   ]
  },
  {
   "cell_type": "code",
   "execution_count": 20,
   "id": "71d37cb0",
   "metadata": {},
   "outputs": [
    {
     "name": "stdout",
     "output_type": "stream",
     "text": [
      "[23, 47, 84, 9, 39, 81, 99]\n"
     ]
    }
   ],
   "source": [
    "def copy_list (l1):\n",
    "    copy = l1\n",
    "    return copy\n",
    "\n",
    "l1 = [23,47,84,9,39,81,99]\n",
    "print(copy_list(l1))    "
   ]
  },
  {
   "cell_type": "code",
   "execution_count": null,
   "id": "e2f3b174",
   "metadata": {},
   "outputs": [],
   "source": [
    "#5. write a Python program to Count occurrences of an element in a list"
   ]
  },
  {
   "cell_type": "code",
   "execution_count": 28,
   "id": "5aca8e34",
   "metadata": {},
   "outputs": [
    {
     "name": "stdout",
     "output_type": "stream",
     "text": [
      "['99 : 3', '39 : 6', '9 : 5', '47 : 2', '81 : 2', '84 : 1', '23 : 4']\n"
     ]
    }
   ],
   "source": [
    "def element_count(l1):\n",
    "    set1 = set(l1)\n",
    "    final = []\n",
    "    for i in set1:\n",
    "            count = l1.count(i)\n",
    "            x = str(i)+(' : ')+ str(count)\n",
    "            final.append(x)\n",
    "    return final\n",
    "l1 = [23,47,84,9,39,81,99,23,23,23,47,9,9,9,9,81,39,39,39,39,39,99,99]\n",
    "print(element_count(l1))"
   ]
  },
  {
   "cell_type": "code",
   "execution_count": null,
   "id": "a4fb3e6f",
   "metadata": {},
   "outputs": [],
   "source": [
    "#6. write a Python program to Remove empty tuples from a list"
   ]
  },
  {
   "cell_type": "code",
   "execution_count": 30,
   "id": "7d007e25",
   "metadata": {},
   "outputs": [
    {
     "name": "stdout",
     "output_type": "stream",
     "text": [
      "[8, 92, 233, 787]\n"
     ]
    }
   ],
   "source": [
    "def remove_E_tuple (l1):\n",
    "    return list(filter(None,l1))\n",
    "l1 = [8, (), 92, 233, (), (), 787]\n",
    "print(remove_E_tuple(l1))"
   ]
  },
  {
   "cell_type": "code",
   "execution_count": null,
   "id": "08359534",
   "metadata": {},
   "outputs": [],
   "source": [
    "#7. write a Python program to Program to print duplicates from a list of integers"
   ]
  },
  {
   "cell_type": "code",
   "execution_count": 31,
   "id": "89ba6348",
   "metadata": {},
   "outputs": [
    {
     "name": "stdout",
     "output_type": "stream",
     "text": [
      "[99, 39, 9, 47, 81, 23]\n"
     ]
    }
   ],
   "source": [
    "def was_repeated(l1):\n",
    "    set1 = set(l1)\n",
    "    final = []\n",
    "    for i in set1:\n",
    "            count = l1.count(i)\n",
    "            if count>1:\n",
    "                final.append(i)\n",
    "            else:\n",
    "                pass\n",
    "    return final\n",
    "l1 = [23,47,84,9,39,81,99,23,23,23,47,9,9,9,9,81,39,39,39,39,39,99,99,90]\n",
    "print(was_repeated(l1))"
   ]
  },
  {
   "cell_type": "code",
   "execution_count": null,
   "id": "cdf1320c",
   "metadata": {},
   "outputs": [],
   "source": [
    "#8. write a Python program to find Cumulative sum of a list"
   ]
  },
  {
   "cell_type": "code",
   "execution_count": 33,
   "id": "419d0b57",
   "metadata": {},
   "outputs": [
    {
     "name": "stdout",
     "output_type": "stream",
     "text": [
      "[ 10  25  45  70 100]\n"
     ]
    }
   ],
   "source": [
    "import numpy as np\n",
    "def list_cumulative_sum(l1):\n",
    "    return np.cumsum(np.array(l1), axis=None, dtype=None, out=None)\n",
    "print(list_cumulative_sum([10, 15, 20, 25, 30]) )\n",
    "    "
   ]
  },
  {
   "cell_type": "code",
   "execution_count": null,
   "id": "8e27f87e",
   "metadata": {},
   "outputs": [],
   "source": [
    "#9. write a Python program to Sum of number digits in List"
   ]
  },
  {
   "cell_type": "code",
   "execution_count": 39,
   "id": "522b3c2c",
   "metadata": {},
   "outputs": [
    {
     "name": "stdout",
     "output_type": "stream",
     "text": [
      "76\n"
     ]
    }
   ],
   "source": [
    "def sum_digits (l1):\n",
    "    total = []\n",
    "    for i in l1[0:len(l1)]:\n",
    "        for j in str(i):\n",
    "            total.append(int(j))\n",
    "    return sum(total)\n",
    "\n",
    "l1 = [23,47,84,9,39,81,99]\n",
    "print(sum_digits(l1))            "
   ]
  },
  {
   "cell_type": "code",
   "execution_count": null,
   "id": "15a15de5",
   "metadata": {},
   "outputs": [],
   "source": [
    "#10. write a Python program to Break a list into chunks of size N"
   ]
  },
  {
   "cell_type": "code",
   "execution_count": 48,
   "id": "a8060140",
   "metadata": {},
   "outputs": [
    {
     "name": "stdout",
     "output_type": "stream",
     "text": [
      "[23, 47]\n",
      "[84, 9]\n",
      "[39, 81]\n",
      "[99, 40]\n",
      "None\n"
     ]
    }
   ],
   "source": [
    "def break_list (l1,n):\n",
    "    x = np.array(l1)\n",
    "    y = np.split(x,n,axis=0) \n",
    "    for i in y:\n",
    "        print(i.tolist())\n",
    "l1 = [23,47,84,9,39,81,99,40]\n",
    "print(break_list(l1,4))"
   ]
  },
  {
   "cell_type": "code",
   "execution_count": null,
   "id": "c8f69f5d",
   "metadata": {},
   "outputs": [],
   "source": [
    "#11. write a Python program to Sort the values of first list using second list"
   ]
  },
  {
   "cell_type": "code",
   "execution_count": 61,
   "id": "871db89e",
   "metadata": {},
   "outputs": [
    {
     "name": "stdout",
     "output_type": "stream",
     "text": [
      "['a', 'd', 'h', 'b', 'c', 'e', 'i', 'f', 'g']\n"
     ]
    }
   ],
   "source": [
    "def sort_list(list1, list2):\n",
    " \n",
    "    zipped_pairs = zip(list2, list1)\n",
    " \n",
    "    z = [ j for i ,j in sorted(zipped_pairs)]\n",
    "     \n",
    "    return z\n",
    "\n",
    "x = [\"a\", \"b\", \"c\", \"d\", \"e\", \"f\", \"g\", \"h\", \"i\"]\n",
    "y = [ 0,   1,   1,    0,   1,   2,   2,   0,   1]\n",
    " \n",
    "print(sort_list(x, y))"
   ]
  }
 ],
 "metadata": {
  "kernelspec": {
   "display_name": "Python 3 (ipykernel)",
   "language": "python",
   "name": "python3"
  },
  "language_info": {
   "codemirror_mode": {
    "name": "ipython",
    "version": 3
   },
   "file_extension": ".py",
   "mimetype": "text/x-python",
   "name": "python",
   "nbconvert_exporter": "python",
   "pygments_lexer": "ipython3",
   "version": "3.9.12"
  }
 },
 "nbformat": 4,
 "nbformat_minor": 5
}
