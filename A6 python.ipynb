{
 "cells": [
  {
   "cell_type": "code",
   "execution_count": 1,
   "id": "c799212b",
   "metadata": {},
   "outputs": [],
   "source": [
    "#1. Python program to add two Matrices"
   ]
  },
  {
   "cell_type": "code",
   "execution_count": 2,
   "id": "a1638a68",
   "metadata": {},
   "outputs": [
    {
     "name": "stdout",
     "output_type": "stream",
     "text": [
      "[[17 15  4]\n",
      " [10 12  9]\n",
      " [11 13 18]]\n"
     ]
    }
   ],
   "source": [
    "import numpy as np\n",
    "M1 = np.array([[12,7,3],\n",
    "    [4 ,5,6],\n",
    "    [7 ,8,9]])\n",
    "\n",
    "M2 = np.array([[5,8,1],\n",
    "    [6,7,3],\n",
    "    [4,5,9]])\n",
    "\n",
    "X = (np.add(M1,M2))\n",
    "\n",
    "print(X)"
   ]
  },
  {
   "cell_type": "code",
   "execution_count": 3,
   "id": "a4e093c6",
   "metadata": {},
   "outputs": [],
   "source": [
    "#2. Python program to multiply two matrices"
   ]
  },
  {
   "cell_type": "code",
   "execution_count": 4,
   "id": "cf2a609e",
   "metadata": {},
   "outputs": [
    {
     "name": "stdout",
     "output_type": "stream",
     "text": [
      "[[114 160  60]\n",
      " [ 74  97  73]\n",
      " [119 157 112]]\n"
     ]
    }
   ],
   "source": [
    "M1 = np.array([[12,7,3],\n",
    "    [4 ,5,6],\n",
    "    [7 ,8,9]])\n",
    "\n",
    "M2 = np.array([[5,8,1],\n",
    "    [6,7,3],\n",
    "    [4,5,9]])\n",
    "\n",
    "X = (np.dot(M1,M2))\n",
    "\n",
    "print(X)"
   ]
  },
  {
   "cell_type": "code",
   "execution_count": 5,
   "id": "9fd82ca1",
   "metadata": {},
   "outputs": [],
   "source": [
    "#3. Python program for Matrix Product"
   ]
  },
  {
   "cell_type": "code",
   "execution_count": 6,
   "id": "fa8bb36e",
   "metadata": {},
   "outputs": [
    {
     "name": "stdout",
     "output_type": "stream",
     "text": [
      "[[114 160  60]\n",
      " [ 74  97  73]\n",
      " [119 157 112]]\n"
     ]
    }
   ],
   "source": [
    "import numpy as np\n",
    "M1 = np.array([[12,7,3],\n",
    "    [4 ,5,6],\n",
    "    [7 ,8,9]])\n",
    "\n",
    "M2 = np.array([[5,8,1],\n",
    "    [6,7,3],\n",
    "    [4,5,9]])\n",
    "print(np.matmul(M1,M2))\n",
    "\n"
   ]
  },
  {
   "cell_type": "code",
   "execution_count": 7,
   "id": "29081ccf",
   "metadata": {},
   "outputs": [],
   "source": [
    "#4. Adding and Subtracting Matrices in Python"
   ]
  },
  {
   "cell_type": "code",
   "execution_count": 8,
   "id": "b7cb8829",
   "metadata": {},
   "outputs": [
    {
     "name": "stdout",
     "output_type": "stream",
     "text": [
      "addition:[[17 15  4]\n",
      " [10 12  9]\n",
      " [11 13 18]] subtraction:[[ 7 -1  2]\n",
      " [-2 -2  3]\n",
      " [ 3  3  0]]\n"
     ]
    }
   ],
   "source": [
    "M1 = np.array([[12,7,3],\n",
    "    [4 ,5,6],\n",
    "    [7 ,8,9]])\n",
    "\n",
    "M2 = np.array([[5,8,1],\n",
    "    [6,7,3],\n",
    "    [4,5,9]])\n",
    "\n",
    "X = str(np.add(M1,M2))\n",
    "y = str(np.subtract(M1,M2))\n",
    "\n",
    "print('addition:'+ X,\n",
    "     'subtraction:'+ y)"
   ]
  },
  {
   "cell_type": "code",
   "execution_count": 9,
   "id": "ab964132",
   "metadata": {},
   "outputs": [],
   "source": [
    "#5. Transpose a matrix in Single line in Python"
   ]
  },
  {
   "cell_type": "code",
   "execution_count": 10,
   "id": "d06152b6",
   "metadata": {},
   "outputs": [
    {
     "name": "stdout",
     "output_type": "stream",
     "text": [
      "[[12  4  7]\n",
      " [ 7  5  8]\n",
      " [ 3  6  9]]\n"
     ]
    }
   ],
   "source": [
    "M1 = np.array([[12,7,3],\n",
    "    [4 ,5,6],\n",
    "    [7 ,8,9]])\n",
    "\n",
    "print(M1.transpose())\n",
    "\n"
   ]
  },
  {
   "cell_type": "code",
   "execution_count": 11,
   "id": "4332f3cc",
   "metadata": {},
   "outputs": [],
   "source": [
    "#6. Python | Matrix creation of n*n"
   ]
  },
  {
   "cell_type": "code",
   "execution_count": 12,
   "id": "d52cf685",
   "metadata": {},
   "outputs": [
    {
     "name": "stdout",
     "output_type": "stream",
     "text": [
      "[[ 1  2  3  4]\n",
      " [ 5  6  7  8]\n",
      " [ 9 10 11 12]\n",
      " [13 14 15 16]]\n"
     ]
    }
   ],
   "source": [
    "def matrix_creation(n):\n",
    "    m = np.array(range(1,n*n+1))\n",
    "    return m.reshape(n,n)\n",
    "print(matrix_creation(4))"
   ]
  },
  {
   "cell_type": "code",
   "execution_count": 13,
   "id": "d10cfee4",
   "metadata": {},
   "outputs": [],
   "source": [
    "#7. Python | Get Kth Column of Matrix"
   ]
  },
  {
   "cell_type": "code",
   "execution_count": 14,
   "id": "43596ab7",
   "metadata": {},
   "outputs": [
    {
     "name": "stdout",
     "output_type": "stream",
     "text": [
      "[3 6 9]\n"
     ]
    }
   ],
   "source": [
    "def get_column (M1,K):\n",
    "    return M1[:,K]\n",
    "M1 = np.array([[12,7,3],\n",
    "    [4 ,5,6],\n",
    "    [7 ,8,9]])\n",
    "print(get_column(M1,2))"
   ]
  },
  {
   "cell_type": "code",
   "execution_count": 15,
   "id": "80b0fa3b",
   "metadata": {},
   "outputs": [],
   "source": [
    "#8. Python – Vertical Concatenation in Matrix"
   ]
  },
  {
   "cell_type": "code",
   "execution_count": 16,
   "id": "a9ed20d4",
   "metadata": {},
   "outputs": [
    {
     "name": "stdout",
     "output_type": "stream",
     "text": [
      "[['aj', 'bk', 'cl'], ['dm', 'en', 'fo'], ['gp', 'hq', 'ir']]\n"
     ]
    }
   ],
   "source": [
    "\n",
    "M1 = ([['a','b','c'],\n",
    "    ['d','e','f'],\n",
    "    ['g','h','i']])\n",
    "\n",
    "M2 = ([['j','k','l'],\n",
    "    ['m','n','o'],\n",
    "    ['p','q','r']])\n",
    "\n",
    "result = ([[0,0,0],\n",
    "      [0,0,0],\n",
    "      [0,0,0]])\n",
    "\n",
    "for i in range(len(M1)):\n",
    "    for j in range(len(M1[0])):\n",
    "        result[i][j] = M1[i][j]+ M2[i][j]\n",
    "\n",
    "print(result)"
   ]
  },
  {
   "cell_type": "code",
   "execution_count": 17,
   "id": "15e1d041",
   "metadata": {},
   "outputs": [],
   "source": [
    "#9. Python program to check if a string is palindrome or not"
   ]
  },
  {
   "cell_type": "code",
   "execution_count": 3,
   "id": "38ef9124",
   "metadata": {},
   "outputs": [
    {
     "name": "stdout",
     "output_type": "stream",
     "text": [
      "is palindrome\n",
      "not palindrome\n"
     ]
    }
   ],
   "source": [
    "def check_palindrome(x):\n",
    "    if x == x[::-1]:\n",
    "        return 'is palindrome'\n",
    "    else :\n",
    "        return 'not palindrome'\n",
    "print(check_palindrome('eye'))\n",
    "print(check_palindrome('letter'))"
   ]
  },
  {
   "cell_type": "code",
   "execution_count": 19,
   "id": "ad8e3254",
   "metadata": {},
   "outputs": [],
   "source": [
    "#10. Python program to check whether the string is Symmetrical or Palindrome"
   ]
  },
  {
   "cell_type": "code",
   "execution_count": 19,
   "id": "280da887",
   "metadata": {},
   "outputs": [],
   "source": [
    "def check_symmetrical(n):\n",
    "    b = len(n)\n",
    "    k = n\n",
    "    if b % 2 :\n",
    "        mi = b//2 + 1\n",
    "    else:\n",
    "        mi = b//2 \n",
    "    s1 = 0\n",
    "    s2 = mi\n",
    "    y = 0   \n",
    "\n",
    "    while (s1 < mi and s2 < b):\n",
    "        \n",
    "        if (n[s1]== n[s2]):\n",
    "            s1 = s1 + 1\n",
    "            s2 = s2 + 1\n",
    "        else:\n",
    "            y = 1\n",
    "            break\n",
    "    \n",
    "    if y == 0:\n",
    "        return 'is symmetrical'\n",
    "    else:\n",
    "        return 'not symmetrical'"
   ]
  },
  {
   "cell_type": "code",
   "execution_count": 20,
   "id": "39d25742",
   "metadata": {},
   "outputs": [
    {
     "name": "stdout",
     "output_type": "stream",
     "text": [
      "is palindrome\n",
      "not symmetrical\n"
     ]
    }
   ],
   "source": [
    "print(check_palindrome('radar'))\n",
    "print(check_symmetrical('radar'))"
   ]
  },
  {
   "cell_type": "code",
   "execution_count": 21,
   "id": "3533a79e",
   "metadata": {},
   "outputs": [
    {
     "name": "stdout",
     "output_type": "stream",
     "text": [
      "not palindrome\n",
      "is symmetrical\n"
     ]
    }
   ],
   "source": [
    "print(check_palindrome('abab'))\n",
    "print(check_symmetrical('abab'))"
   ]
  },
  {
   "cell_type": "code",
   "execution_count": 22,
   "id": "3cb142e7",
   "metadata": {},
   "outputs": [
    {
     "name": "stdout",
     "output_type": "stream",
     "text": [
      "not palindrome\n",
      "is symmetrical\n"
     ]
    }
   ],
   "source": [
    "print(check_palindrome('madma'))\n",
    "print(check_symmetrical('madma'))"
   ]
  },
  {
   "cell_type": "code",
   "execution_count": 23,
   "id": "c6f906b5",
   "metadata": {},
   "outputs": [
    {
     "name": "stdout",
     "output_type": "stream",
     "text": [
      "not palindrome\n",
      "not symmetrical\n"
     ]
    }
   ],
   "source": [
    "print(check_palindrome('love'))\n",
    "print(check_symmetrical('love'))"
   ]
  }
 ],
 "metadata": {
  "kernelspec": {
   "display_name": "Python 3 (ipykernel)",
   "language": "python",
   "name": "python3"
  },
  "language_info": {
   "codemirror_mode": {
    "name": "ipython",
    "version": 3
   },
   "file_extension": ".py",
   "mimetype": "text/x-python",
   "name": "python",
   "nbconvert_exporter": "python",
   "pygments_lexer": "ipython3",
   "version": "3.9.12"
  }
 },
 "nbformat": 4,
 "nbformat_minor": 5
}
